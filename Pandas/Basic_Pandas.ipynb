{
  "nbformat": 4,
  "nbformat_minor": 0,
  "metadata": {
    "colab": {
      "provenance": []
    },
    "kernelspec": {
      "name": "python3",
      "display_name": "Python 3"
    },
    "language_info": {
      "name": "python"
    }
  },
  "cells": [
    {
      "cell_type": "markdown",
      "source": [
        "# Series Class\n"
      ],
      "metadata": {
        "id": "0B89I_-taEMH"
      }
    },
    {
      "cell_type": "code",
      "source": [
        "import pandas as pd\n",
        "import numpy as np\n",
        "s1 = pd.Series([111, 222, 333, 444, 555], index = [\"seoul\", \"busan\", \"incheon\", 'daegu', \"US\"])\n",
        "\n",
        "s1.name = \"인구\"\n",
        "s1.index.name = \"도시\"\n",
        "\n",
        "print(s1)\n",
        "\n",
        "# 라벨로 접근 가능\n",
        "print(\"대구 인구 = \", s1.daegu)\n",
        "\n",
        "s2 = pd.Series(range(10, 140, 30))\n",
        "print(s2)\n"
      ],
      "metadata": {
        "colab": {
          "base_uri": "https://localhost:8080/"
        },
        "id": "mEyunA_mYoAx",
        "outputId": "5f4cc3e8-11b6-47da-f3fa-8260100b855a"
      },
      "execution_count": 111,
      "outputs": [
        {
          "output_type": "stream",
          "name": "stdout",
          "text": [
            "도시\n",
            "seoul      111\n",
            "busan      222\n",
            "incheon    333\n",
            "daegu      444\n",
            "US         555\n",
            "Name: 인구, dtype: int64\n",
            "대구 인구 =  444\n",
            "0     10\n",
            "1     40\n",
            "2     70\n",
            "3    100\n",
            "4    130\n",
            "dtype: int64\n"
          ]
        }
      ]
    },
    {
      "cell_type": "markdown",
      "source": [
        "시리즈연산"
      ],
      "metadata": {
        "id": "LsJTd0vwaIB-"
      }
    },
    {
      "cell_type": "code",
      "source": [
        "s1 = pd.Series(range(3))\n",
        "s2 = pd.Series(range(3, 6))\n",
        "print(s1 + s2)\n",
        "print(s1 @ s2)"
      ],
      "metadata": {
        "colab": {
          "base_uri": "https://localhost:8080/"
        },
        "id": "eyK2VjmgaJJy",
        "outputId": "7c1f9692-5202-4225-f5f7-4d08f5a87587"
      },
      "execution_count": 112,
      "outputs": [
        {
          "output_type": "stream",
          "name": "stdout",
          "text": [
            "0    3\n",
            "1    5\n",
            "2    7\n",
            "dtype: int64\n",
            "14\n"
          ]
        }
      ]
    },
    {
      "cell_type": "markdown",
      "source": [
        "인덱싱"
      ],
      "metadata": {
        "id": "VRbN-sVcaoZ3"
      }
    },
    {
      "cell_type": "code",
      "source": [
        "s1 = pd.Series([9904312, 3448737, 2890451, 2466052],\n",
        "               index = [\"서울\", '부산', '인천', '대구'])\n",
        "print(s1[3], s1[\"대구\"])\n",
        "print()\n",
        "print(s1[[0, 3]] == s1[[\"서울\", \"대구\"]])\n",
        "print(s1[[0, 3]])\n",
        "print(s1[[\"서울\", \"대구\"]])\n",
        "print()\n",
        "\n",
        "print(s1[(250e4 <= s1) & (s1 <= 500e4)])\n",
        "#print(250e4 <= s1 <= 500e4)\n",
        "# The truth value of a Series is ambiguous. Use a.empty, a.bool(), a.item(), a.any() or a.all().\n",
        "print(s1 <= 500e4)"
      ],
      "metadata": {
        "colab": {
          "base_uri": "https://localhost:8080/"
        },
        "id": "SThthDIFaqbn",
        "outputId": "dfc0a002-e02c-4381-d334-3a85f7eb390b"
      },
      "execution_count": 113,
      "outputs": [
        {
          "output_type": "stream",
          "name": "stdout",
          "text": [
            "2466052 2466052\n",
            "\n",
            "서울    True\n",
            "대구    True\n",
            "dtype: bool\n",
            "서울    9904312\n",
            "대구    2466052\n",
            "dtype: int64\n",
            "서울    9904312\n",
            "대구    2466052\n",
            "dtype: int64\n",
            "\n",
            "부산    3448737\n",
            "인천    2890451\n",
            "dtype: int64\n",
            "서울    False\n",
            "부산     True\n",
            "인천     True\n",
            "대구     True\n",
            "dtype: bool\n"
          ]
        }
      ]
    },
    {
      "cell_type": "markdown",
      "source": [
        "슬라이싱\n",
        "* [정수1 : 정수2] : 정수1 ~ 정수2 - 1\n",
        "* [라벨1, 라벨2] : 라벨1 ~ 라벨2포함"
      ],
      "metadata": {
        "id": "NvDMcvmFcYvL"
      }
    },
    {
      "cell_type": "code",
      "source": [
        "print(s1[1 : 3])\n",
        "print(s1[\"서울\" : \"대구\"])\n",
        "print(\"대구\" in s1)\n",
        "print(\"강원\" in s1)"
      ],
      "metadata": {
        "colab": {
          "base_uri": "https://localhost:8080/"
        },
        "id": "h1071P3IcZ-L",
        "outputId": "cc79380f-098a-4fac-f586-2eb5e4fb6b8d"
      },
      "execution_count": 114,
      "outputs": [
        {
          "output_type": "stream",
          "name": "stdout",
          "text": [
            "부산    3448737\n",
            "인천    2890451\n",
            "dtype: int64\n",
            "서울    9904312\n",
            "부산    3448737\n",
            "인천    2890451\n",
            "대구    2466052\n",
            "dtype: int64\n",
            "True\n",
            "False\n"
          ]
        }
      ]
    },
    {
      "cell_type": "markdown",
      "source": [
        "추가 실습\n",
        "성적이 80점 이상만 출력"
      ],
      "metadata": {
        "id": "oBYbBltndQYn"
      }
    },
    {
      "cell_type": "code",
      "source": [
        "test1 = pd.Series([\"홍길동\", \"최길동\", \"박길동\", \"김길동\", \"이길동\"],\n",
        "                  index = [60, 90, 95, 70, 80])\n",
        "print(test1[test1.index >= 80])\n",
        "\n",
        "\n",
        "test2 = pd.Series([f\"{i}길동\" for i in range(21)],\n",
        "                  index = [i for i in range(0, 105, 5)])\n",
        "print(test2[(25 <= test2.index) & (test2.index <= 75)])"
      ],
      "metadata": {
        "colab": {
          "base_uri": "https://localhost:8080/"
        },
        "id": "828sKRtsdTp-",
        "outputId": "c9fa591c-b788-4767-bf32-2bdea7393d31"
      },
      "execution_count": 115,
      "outputs": [
        {
          "output_type": "stream",
          "name": "stdout",
          "text": [
            "90    최길동\n",
            "95    박길동\n",
            "80    이길동\n",
            "dtype: object\n",
            "25     5길동\n",
            "30     6길동\n",
            "35     7길동\n",
            "40     8길동\n",
            "45     9길동\n",
            "50    10길동\n",
            "55    11길동\n",
            "60    12길동\n",
            "65    13길동\n",
            "70    14길동\n",
            "75    15길동\n",
            "dtype: object\n"
          ]
        }
      ]
    },
    {
      "cell_type": "markdown",
      "source": [
        "시리즈와 딕셔너라 자료"
      ],
      "metadata": {
        "id": "7-ymKUc0wu3U"
      }
    },
    {
      "cell_type": "code",
      "source": [
        "s = pd.Series({\"seoul\" : 9631482, \"busan\" : 3393191, \"incheon\" : 2632035, \"Daejeon\" : 1490158},\n",
        "              index = [\"서울\", \"부산\", \"인천\", \"대전\"])\n",
        "\n",
        "for k, v in s.items():\n",
        "  print(f\"{k} = {v}\")"
      ],
      "metadata": {
        "colab": {
          "base_uri": "https://localhost:8080/"
        },
        "id": "EciKD-QGwwkd",
        "outputId": "eb2e459c-2fa0-46ba-a181-44d12b13ead3"
      },
      "execution_count": 116,
      "outputs": [
        {
          "output_type": "stream",
          "name": "stdout",
          "text": [
            "서울 = nan\n",
            "부산 = nan\n",
            "인천 = nan\n",
            "대전 = nan\n"
          ]
        }
      ]
    },
    {
      "cell_type": "markdown",
      "source": [
        "# 데이터프레임"
      ],
      "metadata": {
        "id": "LeTVCIvHxsXM"
      }
    },
    {
      "cell_type": "markdown",
      "source": [
        "2차원 데이터를 표의 형태로 처리하는 자료구조"
      ],
      "metadata": {
        "id": "gLrikRbyxvgz"
      }
    },
    {
      "cell_type": "code",
      "source": [
        "data = {\n",
        "    \"2015\" : np.random.randint(2222222, 9999999, size = 4),\n",
        "    \"2010\" : np.random.randint(2222222, 9999999, size = 4),\n",
        "    \"2005\" : np.random.randint(2222222, 9999999, size = 4),\n",
        "    \"2000\" : np.random.randint(2222222, 9999999, size = 4),\n",
        "    \"지역\" : [\"수도권\", \"경상권\", \"수도권\", \"경상권\"],\n",
        "    \"2010-2015 증가율\" : np.random.rand(4),\n",
        "}\n",
        "index = [\"서울\", \"부산\", \"인천\", \"대구\"]\n",
        "columns = sorted(list(data.keys()), key = lambda x : x[0], reverse = True)\n",
        "\n",
        "\n",
        "df = pd.DataFrame(data, index = index, columns = columns)\n",
        "df"
      ],
      "metadata": {
        "colab": {
          "base_uri": "https://localhost:8080/",
          "height": 175
        },
        "id": "kNLdLJQexto0",
        "outputId": "0a543cf1-5837-4b57-ca34-81e38bfbbd06"
      },
      "execution_count": 117,
      "outputs": [
        {
          "output_type": "execute_result",
          "data": {
            "text/plain": [
              "     지역     2015     2010     2005     2000  2010-2015 증가율\n",
              "서울  수도권  6177257  8765447  4774050  6221440       0.503818\n",
              "부산  경상권  2756972  5685666  9920566  9485101       0.888595\n",
              "인천  수도권  8606987  9987300  7347448  7640712       0.829463\n",
              "대구  경상권  5769047  3475134  2596755  7882765       0.012406"
            ],
            "text/html": [
              "\n",
              "  <div id=\"df-6f2364a0-472a-499c-b826-d806f4460fe0\" class=\"colab-df-container\">\n",
              "    <div>\n",
              "<style scoped>\n",
              "    .dataframe tbody tr th:only-of-type {\n",
              "        vertical-align: middle;\n",
              "    }\n",
              "\n",
              "    .dataframe tbody tr th {\n",
              "        vertical-align: top;\n",
              "    }\n",
              "\n",
              "    .dataframe thead th {\n",
              "        text-align: right;\n",
              "    }\n",
              "</style>\n",
              "<table border=\"1\" class=\"dataframe\">\n",
              "  <thead>\n",
              "    <tr style=\"text-align: right;\">\n",
              "      <th></th>\n",
              "      <th>지역</th>\n",
              "      <th>2015</th>\n",
              "      <th>2010</th>\n",
              "      <th>2005</th>\n",
              "      <th>2000</th>\n",
              "      <th>2010-2015 증가율</th>\n",
              "    </tr>\n",
              "  </thead>\n",
              "  <tbody>\n",
              "    <tr>\n",
              "      <th>서울</th>\n",
              "      <td>수도권</td>\n",
              "      <td>6177257</td>\n",
              "      <td>8765447</td>\n",
              "      <td>4774050</td>\n",
              "      <td>6221440</td>\n",
              "      <td>0.503818</td>\n",
              "    </tr>\n",
              "    <tr>\n",
              "      <th>부산</th>\n",
              "      <td>경상권</td>\n",
              "      <td>2756972</td>\n",
              "      <td>5685666</td>\n",
              "      <td>9920566</td>\n",
              "      <td>9485101</td>\n",
              "      <td>0.888595</td>\n",
              "    </tr>\n",
              "    <tr>\n",
              "      <th>인천</th>\n",
              "      <td>수도권</td>\n",
              "      <td>8606987</td>\n",
              "      <td>9987300</td>\n",
              "      <td>7347448</td>\n",
              "      <td>7640712</td>\n",
              "      <td>0.829463</td>\n",
              "    </tr>\n",
              "    <tr>\n",
              "      <th>대구</th>\n",
              "      <td>경상권</td>\n",
              "      <td>5769047</td>\n",
              "      <td>3475134</td>\n",
              "      <td>2596755</td>\n",
              "      <td>7882765</td>\n",
              "      <td>0.012406</td>\n",
              "    </tr>\n",
              "  </tbody>\n",
              "</table>\n",
              "</div>\n",
              "    <div class=\"colab-df-buttons\">\n",
              "\n",
              "  <div class=\"colab-df-container\">\n",
              "    <button class=\"colab-df-convert\" onclick=\"convertToInteractive('df-6f2364a0-472a-499c-b826-d806f4460fe0')\"\n",
              "            title=\"Convert this dataframe to an interactive table.\"\n",
              "            style=\"display:none;\">\n",
              "\n",
              "  <svg xmlns=\"http://www.w3.org/2000/svg\" height=\"24px\" viewBox=\"0 -960 960 960\">\n",
              "    <path d=\"M120-120v-720h720v720H120Zm60-500h600v-160H180v160Zm220 220h160v-160H400v160Zm0 220h160v-160H400v160ZM180-400h160v-160H180v160Zm440 0h160v-160H620v160ZM180-180h160v-160H180v160Zm440 0h160v-160H620v160Z\"/>\n",
              "  </svg>\n",
              "    </button>\n",
              "\n",
              "  <style>\n",
              "    .colab-df-container {\n",
              "      display:flex;\n",
              "      gap: 12px;\n",
              "    }\n",
              "\n",
              "    .colab-df-convert {\n",
              "      background-color: #E8F0FE;\n",
              "      border: none;\n",
              "      border-radius: 50%;\n",
              "      cursor: pointer;\n",
              "      display: none;\n",
              "      fill: #1967D2;\n",
              "      height: 32px;\n",
              "      padding: 0 0 0 0;\n",
              "      width: 32px;\n",
              "    }\n",
              "\n",
              "    .colab-df-convert:hover {\n",
              "      background-color: #E2EBFA;\n",
              "      box-shadow: 0px 1px 2px rgba(60, 64, 67, 0.3), 0px 1px 3px 1px rgba(60, 64, 67, 0.15);\n",
              "      fill: #174EA6;\n",
              "    }\n",
              "\n",
              "    .colab-df-buttons div {\n",
              "      margin-bottom: 4px;\n",
              "    }\n",
              "\n",
              "    [theme=dark] .colab-df-convert {\n",
              "      background-color: #3B4455;\n",
              "      fill: #D2E3FC;\n",
              "    }\n",
              "\n",
              "    [theme=dark] .colab-df-convert:hover {\n",
              "      background-color: #434B5C;\n",
              "      box-shadow: 0px 1px 3px 1px rgba(0, 0, 0, 0.15);\n",
              "      filter: drop-shadow(0px 1px 2px rgba(0, 0, 0, 0.3));\n",
              "      fill: #FFFFFF;\n",
              "    }\n",
              "  </style>\n",
              "\n",
              "    <script>\n",
              "      const buttonEl =\n",
              "        document.querySelector('#df-6f2364a0-472a-499c-b826-d806f4460fe0 button.colab-df-convert');\n",
              "      buttonEl.style.display =\n",
              "        google.colab.kernel.accessAllowed ? 'block' : 'none';\n",
              "\n",
              "      async function convertToInteractive(key) {\n",
              "        const element = document.querySelector('#df-6f2364a0-472a-499c-b826-d806f4460fe0');\n",
              "        const dataTable =\n",
              "          await google.colab.kernel.invokeFunction('convertToInteractive',\n",
              "                                                    [key], {});\n",
              "        if (!dataTable) return;\n",
              "\n",
              "        const docLinkHtml = 'Like what you see? Visit the ' +\n",
              "          '<a target=\"_blank\" href=https://colab.research.google.com/notebooks/data_table.ipynb>data table notebook</a>'\n",
              "          + ' to learn more about interactive tables.';\n",
              "        element.innerHTML = '';\n",
              "        dataTable['output_type'] = 'display_data';\n",
              "        await google.colab.output.renderOutput(dataTable, element);\n",
              "        const docLink = document.createElement('div');\n",
              "        docLink.innerHTML = docLinkHtml;\n",
              "        element.appendChild(docLink);\n",
              "      }\n",
              "    </script>\n",
              "  </div>\n",
              "\n",
              "\n",
              "<div id=\"df-46565bf2-541a-4c23-a5f5-2f036509bfe6\">\n",
              "  <button class=\"colab-df-quickchart\" onclick=\"quickchart('df-46565bf2-541a-4c23-a5f5-2f036509bfe6')\"\n",
              "            title=\"Suggest charts.\"\n",
              "            style=\"display:none;\">\n",
              "\n",
              "<svg xmlns=\"http://www.w3.org/2000/svg\" height=\"24px\"viewBox=\"0 0 24 24\"\n",
              "     width=\"24px\">\n",
              "    <g>\n",
              "        <path d=\"M19 3H5c-1.1 0-2 .9-2 2v14c0 1.1.9 2 2 2h14c1.1 0 2-.9 2-2V5c0-1.1-.9-2-2-2zM9 17H7v-7h2v7zm4 0h-2V7h2v10zm4 0h-2v-4h2v4z\"/>\n",
              "    </g>\n",
              "</svg>\n",
              "  </button>\n",
              "\n",
              "<style>\n",
              "  .colab-df-quickchart {\n",
              "      --bg-color: #E8F0FE;\n",
              "      --fill-color: #1967D2;\n",
              "      --hover-bg-color: #E2EBFA;\n",
              "      --hover-fill-color: #174EA6;\n",
              "      --disabled-fill-color: #AAA;\n",
              "      --disabled-bg-color: #DDD;\n",
              "  }\n",
              "\n",
              "  [theme=dark] .colab-df-quickchart {\n",
              "      --bg-color: #3B4455;\n",
              "      --fill-color: #D2E3FC;\n",
              "      --hover-bg-color: #434B5C;\n",
              "      --hover-fill-color: #FFFFFF;\n",
              "      --disabled-bg-color: #3B4455;\n",
              "      --disabled-fill-color: #666;\n",
              "  }\n",
              "\n",
              "  .colab-df-quickchart {\n",
              "    background-color: var(--bg-color);\n",
              "    border: none;\n",
              "    border-radius: 50%;\n",
              "    cursor: pointer;\n",
              "    display: none;\n",
              "    fill: var(--fill-color);\n",
              "    height: 32px;\n",
              "    padding: 0;\n",
              "    width: 32px;\n",
              "  }\n",
              "\n",
              "  .colab-df-quickchart:hover {\n",
              "    background-color: var(--hover-bg-color);\n",
              "    box-shadow: 0 1px 2px rgba(60, 64, 67, 0.3), 0 1px 3px 1px rgba(60, 64, 67, 0.15);\n",
              "    fill: var(--button-hover-fill-color);\n",
              "  }\n",
              "\n",
              "  .colab-df-quickchart-complete:disabled,\n",
              "  .colab-df-quickchart-complete:disabled:hover {\n",
              "    background-color: var(--disabled-bg-color);\n",
              "    fill: var(--disabled-fill-color);\n",
              "    box-shadow: none;\n",
              "  }\n",
              "\n",
              "  .colab-df-spinner {\n",
              "    border: 2px solid var(--fill-color);\n",
              "    border-color: transparent;\n",
              "    border-bottom-color: var(--fill-color);\n",
              "    animation:\n",
              "      spin 1s steps(1) infinite;\n",
              "  }\n",
              "\n",
              "  @keyframes spin {\n",
              "    0% {\n",
              "      border-color: transparent;\n",
              "      border-bottom-color: var(--fill-color);\n",
              "      border-left-color: var(--fill-color);\n",
              "    }\n",
              "    20% {\n",
              "      border-color: transparent;\n",
              "      border-left-color: var(--fill-color);\n",
              "      border-top-color: var(--fill-color);\n",
              "    }\n",
              "    30% {\n",
              "      border-color: transparent;\n",
              "      border-left-color: var(--fill-color);\n",
              "      border-top-color: var(--fill-color);\n",
              "      border-right-color: var(--fill-color);\n",
              "    }\n",
              "    40% {\n",
              "      border-color: transparent;\n",
              "      border-right-color: var(--fill-color);\n",
              "      border-top-color: var(--fill-color);\n",
              "    }\n",
              "    60% {\n",
              "      border-color: transparent;\n",
              "      border-right-color: var(--fill-color);\n",
              "    }\n",
              "    80% {\n",
              "      border-color: transparent;\n",
              "      border-right-color: var(--fill-color);\n",
              "      border-bottom-color: var(--fill-color);\n",
              "    }\n",
              "    90% {\n",
              "      border-color: transparent;\n",
              "      border-bottom-color: var(--fill-color);\n",
              "    }\n",
              "  }\n",
              "</style>\n",
              "\n",
              "  <script>\n",
              "    async function quickchart(key) {\n",
              "      const quickchartButtonEl =\n",
              "        document.querySelector('#' + key + ' button');\n",
              "      quickchartButtonEl.disabled = true;  // To prevent multiple clicks.\n",
              "      quickchartButtonEl.classList.add('colab-df-spinner');\n",
              "      try {\n",
              "        const charts = await google.colab.kernel.invokeFunction(\n",
              "            'suggestCharts', [key], {});\n",
              "      } catch (error) {\n",
              "        console.error('Error during call to suggestCharts:', error);\n",
              "      }\n",
              "      quickchartButtonEl.classList.remove('colab-df-spinner');\n",
              "      quickchartButtonEl.classList.add('colab-df-quickchart-complete');\n",
              "    }\n",
              "    (() => {\n",
              "      let quickchartButtonEl =\n",
              "        document.querySelector('#df-46565bf2-541a-4c23-a5f5-2f036509bfe6 button');\n",
              "      quickchartButtonEl.style.display =\n",
              "        google.colab.kernel.accessAllowed ? 'block' : 'none';\n",
              "    })();\n",
              "  </script>\n",
              "</div>\n",
              "    </div>\n",
              "  </div>\n"
            ]
          },
          "metadata": {},
          "execution_count": 117
        }
      ]
    },
    {
      "cell_type": "markdown",
      "source": [
        "데이터 프레임 속성\n",
        "* df.values -> 값을 넘파이 2차원 배열로 반환\n",
        "* df.columns -> 열 인덱스 객체 : 열 이름 리스트를 Index 객체로 반환\n",
        "* df.index -> 행 인덱스 객체 : 행 이름 리스트를 Index 객체로 반환\n",
        "  * index.name, columns.name -> 각 방향의 이름 (객체 인스턴스, 변경 가능)"
      ],
      "metadata": {
        "id": "OPzSvuAPzYMK"
      }
    },
    {
      "cell_type": "code",
      "source": [
        "print(df.values)\n",
        "print(df.columns)\n",
        "print(df.index)\n",
        "#df.index.name = \"도시\"\n",
        "#df.columns.name = \"특성\"\n",
        "print(\"행, 열 이름 부여\")\n",
        "print(df)\n",
        "\n",
        "print(\"\\n데이터 프레임 전치 행열\")\n",
        "print(df.T)"
      ],
      "metadata": {
        "colab": {
          "base_uri": "https://localhost:8080/"
        },
        "id": "D8Si5m8Ez0T0",
        "outputId": "ab25e76d-885a-4a11-b9df-6499343cced1"
      },
      "execution_count": 120,
      "outputs": [
        {
          "output_type": "stream",
          "name": "stdout",
          "text": [
            "[['수도권' 6177257 8765447 4774050 6221440 0.5038175865888277]\n",
            " ['경상권' 2756972 5685666 9920566 9485101 0.8885947854835655]\n",
            " ['수도권' 8606987 9987300 7347448 7640712 0.8294634226979404]\n",
            " ['경상권' 5769047 3475134 2596755 7882765 0.012406404601379761]]\n",
            "Index(['지역', '2015', '2010', '2005', '2000', '2010-2015 증가율'], dtype='object')\n",
            "Index(['서울', '부산', '인천', '대구'], dtype='object')\n",
            "행, 열 이름 부여\n",
            "     지역     2015     2010     2005     2000  2010-2015 증가율\n",
            "서울  수도권  6177257  8765447  4774050  6221440       0.503818\n",
            "부산  경상권  2756972  5685666  9920566  9485101       0.888595\n",
            "인천  수도권  8606987  9987300  7347448  7640712       0.829463\n",
            "대구  경상권  5769047  3475134  2596755  7882765       0.012406\n",
            "\n",
            "데이터 프레임 전치 행열\n",
            "                     서울        부산        인천        대구\n",
            "지역                  수도권       경상권       수도권       경상권\n",
            "2015            6177257   2756972   8606987   5769047\n",
            "2010            8765447   5685666   9987300   3475134\n",
            "2005            4774050   9920566   7347448   2596755\n",
            "2000            6221440   9485101   7640712   7882765\n",
            "2010-2015 증가율  0.503818  0.888595  0.829463  0.012406\n"
          ]
        }
      ]
    },
    {
      "cell_type": "markdown",
      "source": [
        "# 열 추출\n",
        " * [] <- 열 이름만 올 수 있음 : Series 객체 반환\n",
        " * [ [이름1, 이름2] ] 와 같이 부분적으로 추출 가능 : DataFrame 반환\n",
        " * 열 인덱스가 문자열 라벨인 경우 열 번호(정수) 인덱싱 불가능"
      ],
      "metadata": {
        "id": "5p51HKOV1h1S"
      }
    },
    {
      "cell_type": "code",
      "source": [
        "print(type(df['2015']))\n",
        "print(df['2015'])\n",
        "print()\n",
        "print(type(df[['2005', '2015', '지역']]))\n",
        "print(df[['2005', '2015', '지역']])"
      ],
      "metadata": {
        "colab": {
          "base_uri": "https://localhost:8080/"
        },
        "id": "1Ebbs1221kfC",
        "outputId": "79a41fb4-2330-4af3-c902-7557e436782b"
      },
      "execution_count": 128,
      "outputs": [
        {
          "output_type": "stream",
          "name": "stdout",
          "text": [
            "<class 'pandas.core.series.Series'>\n",
            "서울    6177257\n",
            "부산    2756972\n",
            "인천    8606987\n",
            "대구    5769047\n",
            "Name: 2015, dtype: int64\n",
            "\n",
            "<class 'pandas.core.frame.DataFrame'>\n",
            "       2005     2015   지역\n",
            "서울  4774050  6177257  수도권\n",
            "부산  9920566  2756972  경상권\n",
            "인천  7347448  8606987  수도권\n",
            "대구  2596755  5769047  경상권\n"
          ]
        }
      ]
    },
    {
      "cell_type": "markdown",
      "source": [
        "# 행 추출\n",
        " * 슬라이싱으로 행 추출 가능\n",
        " * df[s : e] -> s번에서 e - 1번까지\n",
        " * cv[시작 행 라벨 : 끝 행 라벨] -> 시작 행부터 끝 행 포함"
      ],
      "metadata": {
        "id": "_Sxphuyi2q99"
      }
    },
    {
      "cell_type": "code",
      "source": [
        "# 데이터 추출\n",
        "#* df[열 이름][행 이름]\n",
        "#* 열 우선임\n",
        "\n",
        "print(df)\n",
        "print()\n",
        "print(\"df[1 : 3]\")\n",
        "print(df[1 : 3])\n",
        "print()\n",
        "print(\"df[ 인천 : 대구]\")\n",
        "print(df[ '인천' : '대구' ])\n",
        "print()\n",
        "print(\"df[2000]['서울']\")\n",
        "print(df['2000']['서울'])\n",
        "try:\n",
        "  print(df['서울']['2000'])\n",
        "except:\n",
        "  print()\n",
        "  print(\"df['서울']['2000'] x\")\n",
        "  print(\"열부터 써야됩니다.\")\n"
      ],
      "metadata": {
        "colab": {
          "base_uri": "https://localhost:8080/"
        },
        "id": "avHfTzgt3fpm",
        "outputId": "d8e26fea-71ef-4253-d529-8e233cd141d5"
      },
      "execution_count": 143,
      "outputs": [
        {
          "output_type": "stream",
          "name": "stdout",
          "text": [
            "     지역     2015     2010     2005     2000  2010-2015 증가율\n",
            "서울  수도권  6177257  8765447  4774050  6221440       0.503818\n",
            "부산  경상권  2756972  5685666  9920566  9485101       0.888595\n",
            "인천  수도권  8606987  9987300  7347448  7640712       0.829463\n",
            "대구  경상권  5769047  3475134  2596755  7882765       0.012406\n",
            "\n",
            "df[1 : 3]\n",
            "     지역     2015     2010     2005     2000  2010-2015 증가율\n",
            "부산  경상권  2756972  5685666  9920566  9485101       0.888595\n",
            "인천  수도권  8606987  9987300  7347448  7640712       0.829463\n",
            "\n",
            "df[ 인천 : 대구]\n",
            "     지역     2015     2010     2005     2000  2010-2015 증가율\n",
            "인천  수도권  8606987  9987300  7347448  7640712       0.829463\n",
            "대구  경상권  5769047  3475134  2596755  7882765       0.012406\n",
            "\n",
            "df[2000]['서울']\n",
            "6221440\n",
            "\n",
            "df['서울']['2000'] x\n",
            "열부터 써야됩니다.\n"
          ]
        }
      ]
    },
    {
      "cell_type": "markdown",
      "source": [
        "# 행을 우선으로 추출하고 싶다면 loc 인덱서"
      ],
      "metadata": {
        "id": "Zc_R9SEF3JBm"
      }
    },
    {
      "cell_type": "code",
      "source": [
        "df1 = pd.DataFrame(np.arange(10, 22+4).reshape(4, 4),\n",
        "                   index = [chr(i) for i in range(65, 69)],\n",
        "                   columns = [chr(i) for i in range(65, 69)])\n",
        "print(df1)\n",
        "\n",
        "print()\n",
        "print(\"행 우선으로 추출 : 열을 출력하는 것처럼 보여 조금 불편\")\n",
        "print(type(df1.loc['A']))\n",
        "print(df1.loc['A'])\n",
        "print()\n",
        "print(\"열 우선으로 추출\")\n",
        "print(type(df1['A']))\n",
        "print(df1['A'])"
      ],
      "metadata": {
        "colab": {
          "base_uri": "https://localhost:8080/"
        },
        "id": "m8TPEklw4e3h",
        "outputId": "f5314b50-49cb-4182-9bab-01e5760881e3"
      },
      "execution_count": 161,
      "outputs": [
        {
          "output_type": "stream",
          "name": "stdout",
          "text": [
            "    A   B   C   D\n",
            "A  10  11  12  13\n",
            "B  14  15  16  17\n",
            "C  18  19  20  21\n",
            "D  22  23  24  25\n",
            "\n",
            "행 우선으로 추출 : 열을 출력하는 것처럼 보여 조금 불편\n",
            "<class 'pandas.core.series.Series'>\n",
            "A    10\n",
            "B    11\n",
            "C    12\n",
            "D    13\n",
            "Name: A, dtype: int64\n",
            "\n",
            "열 우선으로 추출\n",
            "<class 'pandas.core.series.Series'>\n",
            "A    10\n",
            "B    14\n",
            "C    18\n",
            "D    22\n",
            "Name: A, dtype: int64\n"
          ]
        }
      ]
    }
  ]
}