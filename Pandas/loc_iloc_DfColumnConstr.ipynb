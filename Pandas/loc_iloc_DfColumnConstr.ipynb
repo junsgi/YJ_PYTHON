{
  "nbformat": 4,
  "nbformat_minor": 0,
  "metadata": {
    "colab": {
      "provenance": []
    },
    "kernelspec": {
      "name": "python3",
      "display_name": "Python 3"
    },
    "language_info": {
      "name": "python"
    }
  },
  "cells": [
    {
      "cell_type": "markdown",
      "source": [
        "다시 한번 강조하면 데이터프레임은 <strong><i>열 우선</i></strong>임 행부터 다루고싶다면 loc 인덱서 사용"
      ],
      "metadata": {
        "id": "IgZgtl6iYkcK"
      }
    },
    {
      "cell_type": "markdown",
      "source": [
        "# loc"
      ],
      "metadata": {
        "id": "ppcnR-7xaJyA"
      }
    },
    {
      "cell_type": "markdown",
      "source": [
        " 1. df.loc[행 이름] -> 시리즈 객체 반환\n",
        " 2. df.loc[행 범위] -> 범위에 포함되는 데이터프레임 반환\n"
      ],
      "metadata": {
        "id": "LiOSTd8PY8GZ"
      }
    },
    {
      "cell_type": "code",
      "execution_count": 8,
      "metadata": {
        "colab": {
          "base_uri": "https://localhost:8080/"
        },
        "id": "FysvAReEXLVS",
        "outputId": "bba90749-885d-427a-9944-deabb676dc8c"
      },
      "outputs": [
        {
          "output_type": "stream",
          "name": "stdout",
          "text": [
            "     A   B   C   D\n",
            "r1  10  11  12  13\n",
            "r2  14  15  16  17\n",
            "r3  18  19  20  21\n",
            "------------------------\n",
            "DataFrame\n",
            "     A   B   C   D\n",
            "r1  10  11  12  13\n",
            "r2  14  15  16  17\n",
            "------------------------\n",
            "Series Object\n",
            "A    14\n",
            "B    15\n",
            "C    16\n",
            "D    17\n",
            "Name: r2, dtype: int64\n"
          ]
        }
      ],
      "source": [
        "import pandas as pd\n",
        "import numpy as np\n",
        "df = pd.DataFrame(np.arange(10, 22).reshape(3, 4), index = [f'r{i}' for i in range(1, 4)], columns = [chr(i) for i in range(65, 69)])\n",
        "print(df)\n",
        "print(\"--------\" * 3)\n",
        "print(\"DataFrame\")\n",
        "print(df.loc['r1' : 'r2'])\n",
        "print(\"--------\" * 3)\n",
        "print(\"Series Object\")\n",
        "print(df.loc['r2'])"
      ]
    },
    {
      "cell_type": "markdown",
      "source": [
        "<h2>슬라이싱</h2>\n",
        "1. df.loc[행 범위, 열 범위] -> 부분 데이터프레임 반환\n",
        "2. df.loc[행 범위, 열 이름] -> column의 일부분을 Series로 반환\n",
        "3. df.loc[행 이름, 열 범위] -> row의 일부분을 Series로 반환\n",
        "4. df.loc[행 이름, 열 이름] -> 개별 데이터 인덱싱"
      ],
      "metadata": {
        "id": "o_lnbVjnaMEo"
      }
    },
    {
      "cell_type": "code",
      "source": [
        "print(df.loc[:, :])\n",
        "print('-' * 20)\n",
        "print(df.loc['r2' :, ::2])\n",
        "print('-' * 20)\n",
        "print(df.loc['r3', ::-2])\n",
        "print('-' * 20)\n",
        "print(df.loc['r1' : 'r2', 'C'])\n",
        "print('-' * 20)\n",
        "print(df.loc['r1', 'D'])"
      ],
      "metadata": {
        "colab": {
          "base_uri": "https://localhost:8080/"
        },
        "id": "zRkMhad7ao8x",
        "outputId": "d52604df-87a9-4b6b-b119-0f0b88c7a9ac"
      },
      "execution_count": 19,
      "outputs": [
        {
          "output_type": "stream",
          "name": "stdout",
          "text": [
            "     A   B   C   D\n",
            "r1  10  11  12  13\n",
            "r2  14  15  16  17\n",
            "r3  18  19  20  21\n",
            "--------------------\n",
            "     A   C\n",
            "r2  14  16\n",
            "r3  18  20\n",
            "--------------------\n",
            "D    21\n",
            "B    19\n",
            "Name: r3, dtype: int64\n",
            "--------------------\n",
            "r1    12\n",
            "r2    16\n",
            "Name: C, dtype: int64\n",
            "--------------------\n",
            "13\n"
          ]
        }
      ]
    },
    {
      "cell_type": "markdown",
      "source": [
        "<h2>논리 인덱싱</h2>\n",
        "\n",
        "1. loc[논리행배열] -> 데이터프레임 반환\n",
        "2. loc[논리행배열, 열범위] -> 열 범위 부분 데이터프레임 반환"
      ],
      "metadata": {
        "id": "2Fwj25_abgLy"
      }
    },
    {
      "cell_type": "code",
      "source": [
        "print(df)\n",
        "print('-' * 20)\n",
        "print(df.loc[df.A != 14]) # 참인 행, B열 시리즈 반환\n",
        "print('-' * 20)\n",
        "print(df.loc[df.A < 17, 'B' : 'C']) # 참인 행, B ~ C 열 반환\n",
        "print('-' * 20)"
      ],
      "metadata": {
        "colab": {
          "base_uri": "https://localhost:8080/"
        },
        "id": "Ctkb3ZX_b2q0",
        "outputId": "91fe0e35-b2d3-4b91-cd39-3ef6c35bb459"
      },
      "execution_count": 33,
      "outputs": [
        {
          "output_type": "stream",
          "name": "stdout",
          "text": [
            "     A   B   C   D\n",
            "r1  10  11  12  13\n",
            "r2  14  15  16  17\n",
            "r3  18  19  20  21\n",
            "--------------------\n",
            "     A   B   C   D\n",
            "r1  10  11  12  13\n",
            "r3  18  19  20  21\n",
            "--------------------\n",
            "     B   C\n",
            "r1  11  12\n",
            "r2  15  16\n",
            "--------------------\n"
          ]
        }
      ]
    },
    {
      "cell_type": "markdown",
      "source": [
        "# iloc인덱서\n",
        "\n",
        "정수로 처리"
      ],
      "metadata": {
        "id": "w5kljSXXcozM"
      }
    },
    {
      "cell_type": "code",
      "source": [
        "print(df.iloc[:, :])\n",
        "print('-' * 20)\n",
        "\n",
        "print(df.iloc[1:3, 1])\n",
        "print('-' * 20)\n",
        "\n",
        "print(df.iloc[1:3, 1:3])\n",
        "print('-' * 20)\n",
        "\n",
        "print(df.iloc[1, 1:3])\n",
        "print('-' * 20)\n",
        "\n",
        "print(df.iloc[1, 1])\n",
        "print('-' * 20)\n"
      ],
      "metadata": {
        "colab": {
          "base_uri": "https://localhost:8080/"
        },
        "id": "9os337v2crTs",
        "outputId": "d4393027-6c7a-4b44-c9c4-d8a1e66bb37e"
      },
      "execution_count": 29,
      "outputs": [
        {
          "output_type": "stream",
          "name": "stdout",
          "text": [
            "     A   B   C   D\n",
            "r1  10  11  12  13\n",
            "r2  14  15  16  17\n",
            "r3  18  19  20  21\n",
            "--------------------\n",
            "r2    15\n",
            "r3    19\n",
            "Name: B, dtype: int64\n",
            "--------------------\n",
            "     B   C\n",
            "r2  15  16\n",
            "r3  19  20\n",
            "--------------------\n",
            "B    15\n",
            "C    16\n",
            "Name: r2, dtype: int64\n",
            "--------------------\n",
            "15\n",
            "--------------------\n"
          ]
        }
      ]
    },
    {
      "cell_type": "markdown",
      "source": [
        "# 데이터프레임 열 갱신, 추가, 삭제\n",
        "\n",
        "1.   갱신 : df[열이름] = 값_리스트\n",
        "2.   추가 : df[새 열이름] = 값_리스트\n",
        "3.   삭제 : del df[열이름] == df.drop(열이름, inplace=True, axis = 1)"
      ],
      "metadata": {
        "id": "kpF55PkPdw4p"
      }
    },
    {
      "cell_type": "code",
      "source": [
        "data = {\n",
        "    \"2015\" : np.random.randint(2222222, 9999999, size = 4),\n",
        "    \"2010\" : np.random.randint(2222222, 9999999, size = 4),\n",
        "    \"2005\" : np.random.randint(2222222, 9999999, size = 4),\n",
        "    \"2000\" : np.random.randint(2222222, 9999999, size = 4),\n",
        "    \"지역\" : [\"수도권\", \"경상권\", \"수도권\", \"경상권\"],\n",
        "    \"2010-2015 증가율\" : np.random.rand(4),\n",
        "}\n",
        "index = [\"서울\", \"부산\", \"인천\", \"대구\"]\n",
        "columns = sorted(list(data.keys()), key = lambda x : x[0], reverse = True)\n",
        "\n",
        "\n",
        "df = pd.DataFrame(data, index = index, columns = columns)"
      ],
      "metadata": {
        "id": "V2ZTxON_eYme"
      },
      "execution_count": 48,
      "outputs": []
    },
    {
      "cell_type": "code",
      "source": [
        "df[\"2010-2015 증가율\"] = df[\"2010-2015 증가율\"] * 100 # 열 시리즈 갱신\n",
        "df[\"2005-2010 증가율\"] = ((df['2010'] - df['2005']) / df['2005'] * 100).round(2) # 새로운 열 생성\n",
        "del df['지역']"
      ],
      "metadata": {
        "id": "QuKHQzMBeiuH"
      },
      "execution_count": 49,
      "outputs": []
    },
    {
      "cell_type": "code",
      "source": [
        "print(df)"
      ],
      "metadata": {
        "colab": {
          "base_uri": "https://localhost:8080/"
        },
        "id": "oYcOcVToe0IY",
        "outputId": "cb4bf53e-c235-4981-b762-5adfb1542e44"
      },
      "execution_count": 50,
      "outputs": [
        {
          "output_type": "stream",
          "name": "stdout",
          "text": [
            "       2015     2010     2005     2000  2010-2015 증가율  2005-2010 증가율\n",
            "서울  7524931  3432986  9776588  8011913      37.014485         -64.89\n",
            "부산  5973520  2565626  3180493  7926803      56.473400         -19.33\n",
            "인천  3661526  3032620  6098786  8479869      12.162226         -50.28\n",
            "대구  8997921  2418274  5491644  4356082      57.962572         -55.96\n"
          ]
        }
      ]
    }
  ]
}