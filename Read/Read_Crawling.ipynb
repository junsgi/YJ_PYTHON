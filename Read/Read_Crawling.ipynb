{
  "nbformat": 4,
  "nbformat_minor": 0,
  "metadata": {
    "colab": {
      "provenance": []
    },
    "kernelspec": {
      "name": "python3",
      "display_name": "Python 3"
    },
    "language_info": {
      "name": "python"
    }
  },
  "cells": [
    {
      "cell_type": "code",
      "execution_count": 3,
      "metadata": {
        "id": "lfChWaRTaXvI"
      },
      "outputs": [],
      "source": [
        "import pandas as pd\n",
        "import numpy as np\n",
        "import matplotlib.pyplot as plt"
      ]
    },
    {
      "cell_type": "markdown",
      "source": [
        "csv 파일 읽기"
      ],
      "metadata": {
        "id": "zCQv0DRciZm5"
      }
    },
    {
      "cell_type": "code",
      "source": [
        "file_path1 = \"weather.csv\"\n",
        "file_path2 = \"sample_data.csv\"\n",
        "\n",
        "df = pd.read_csv(file_path1, index_col = '일시') # 인덱스 생성\n",
        "print(df)\n",
        "\n",
        "# index= 현재 데이터 프레임의 인덱스를 포함할지 포함하지 않을지 결정\n",
        "df.to_csv(file_path2, index=False) # False로 지정하지 않으면 또 인덱스가 붙임\n",
        "\n",
        "df2 = pd.read_csv(file_path2)\n",
        "print(df2)"
      ],
      "metadata": {
        "colab": {
          "base_uri": "https://localhost:8080/"
        },
        "id": "INKJi_OwcaqI",
        "outputId": "f7f23e9b-d441-47ef-e444-4096b42e6710"
      },
      "execution_count": 20,
      "outputs": [
        {
          "output_type": "stream",
          "name": "stdout",
          "text": [
            "            평균기온  최대풍속  평균풍속\n",
            "일시                          \n",
            "2010-08-01  28.7   8.3   3.4\n",
            "2010-08-02  25.2   8.7   3.8\n",
            "2010-08-03  22.1   6.3   2.9\n",
            "2010-08-04  25.3   6.6   4.2\n",
            "2010-08-05  27.2   9.1   5.6\n",
            "...          ...   ...   ...\n",
            "2020-07-27  22.1   4.2   1.7\n",
            "2020-07-28  21.9   4.5   1.6\n",
            "2020-07-29  21.6   3.2   1.0\n",
            "2020-07-30  22.9   9.7   2.4\n",
            "2020-07-31  25.7   4.8   2.5\n",
            "\n",
            "[3653 rows x 3 columns]\n",
            "      평균기온  최대풍속  평균풍속\n",
            "0     28.7   8.3   3.4\n",
            "1     25.2   8.7   3.8\n",
            "2     22.1   6.3   2.9\n",
            "3     25.3   6.6   4.2\n",
            "4     27.2   9.1   5.6\n",
            "...    ...   ...   ...\n",
            "3648  22.1   4.2   1.7\n",
            "3649  21.9   4.5   1.6\n",
            "3650  21.6   3.2   1.0\n",
            "3651  22.9   9.7   2.4\n",
            "3652  25.7   4.8   2.5\n",
            "\n",
            "[3653 rows x 3 columns]\n"
          ]
        }
      ]
    },
    {
      "cell_type": "markdown",
      "source": [
        "Excel 파일 읽기"
      ],
      "metadata": {
        "id": "B4NRYkYOhnVR"
      }
    },
    {
      "cell_type": "code",
      "source": [
        "df1 = pd.read_csv(\"weather.csv\")\n",
        "df1.to_excel('weather.xlsx', index=False)"
      ],
      "metadata": {
        "id": "8WeUIJsZhm_K"
      },
      "execution_count": 21,
      "outputs": []
    },
    {
      "cell_type": "code",
      "source": [
        "file_path1 = \"weather.xlsx\"\n",
        "file_path2 = \"sample_data.xlsx\"\n",
        "\n",
        "df = pd.read_excel(file_path1, index_col = '일시') # 인덱스 생성\n",
        "print(df)\n",
        "\n",
        "# index= 현재 데이터 프레임의 인덱스를 포함할지 포함하지 않을지 결정\n",
        "df.to_csv(file_path2, index=False) # False로 지정하지 않으면 또 인덱스가 붙임\n",
        "\n",
        "df2 = pd.read_csv(file_path2)\n",
        "print(df2)"
      ],
      "metadata": {
        "colab": {
          "base_uri": "https://localhost:8080/"
        },
        "id": "vHiMAs0NiN4x",
        "outputId": "ea69ab0c-7d67-4cc3-b398-492663968b86"
      },
      "execution_count": 22,
      "outputs": [
        {
          "output_type": "stream",
          "name": "stdout",
          "text": [
            "            평균기온  최대풍속  평균풍속\n",
            "일시                          \n",
            "2010-08-01  28.7   8.3   3.4\n",
            "2010-08-02  25.2   8.7   3.8\n",
            "2010-08-03  22.1   6.3   2.9\n",
            "2010-08-04  25.3   6.6   4.2\n",
            "2010-08-05  27.2   9.1   5.6\n",
            "...          ...   ...   ...\n",
            "2020-07-27  22.1   4.2   1.7\n",
            "2020-07-28  21.9   4.5   1.6\n",
            "2020-07-29  21.6   3.2   1.0\n",
            "2020-07-30  22.9   9.7   2.4\n",
            "2020-07-31  25.7   4.8   2.5\n",
            "\n",
            "[3653 rows x 3 columns]\n",
            "      평균기온  최대풍속  평균풍속\n",
            "0     28.7   8.3   3.4\n",
            "1     25.2   8.7   3.8\n",
            "2     22.1   6.3   2.9\n",
            "3     25.3   6.6   4.2\n",
            "4     27.2   9.1   5.6\n",
            "...    ...   ...   ...\n",
            "3648  22.1   4.2   1.7\n",
            "3649  21.9   4.5   1.6\n",
            "3650  21.6   3.2   1.0\n",
            "3651  22.9   9.7   2.4\n",
            "3652  25.7   4.8   2.5\n",
            "\n",
            "[3653 rows x 3 columns]\n"
          ]
        }
      ]
    },
    {
      "cell_type": "markdown",
      "source": [
        "JSON 파일 읽기\n",
        " * json은 행 번호는 저장하지 않음\n",
        " * index_col 저장하지 않음"
      ],
      "metadata": {
        "id": "YDSXN6Gcib2i"
      }
    },
    {
      "cell_type": "code",
      "source": [
        "df1 = pd.read_csv('weather.csv')\n",
        "df1.to_json('weather.json')"
      ],
      "metadata": {
        "id": "6RToepHPidta"
      },
      "execution_count": 23,
      "outputs": []
    },
    {
      "cell_type": "code",
      "source": [
        "path1 = 'weather.json'\n",
        "\n",
        "df1 = pd.read_json(path1)\n",
        "df1.to_json('sample_data.json')\n",
        "\n",
        "path2 = 'sample_data.json'\n",
        "df2 = pd.read_json(path2)\n",
        "print(df2)"
      ],
      "metadata": {
        "colab": {
          "base_uri": "https://localhost:8080/"
        },
        "id": "vm1reoqYix2Z",
        "outputId": "b9db51f5-e0b1-4f01-b17a-a3cbd97f8134"
      },
      "execution_count": 24,
      "outputs": [
        {
          "output_type": "stream",
          "name": "stdout",
          "text": [
            "              일시  평균기온  최대풍속  평균풍속\n",
            "0     2010-08-01  28.7   8.3   3.4\n",
            "1     2010-08-02  25.2   8.7   3.8\n",
            "2     2010-08-03  22.1   6.3   2.9\n",
            "3     2010-08-04  25.3   6.6   4.2\n",
            "4     2010-08-05  27.2   9.1   5.6\n",
            "...          ...   ...   ...   ...\n",
            "3648  2020-07-27  22.1   4.2   1.7\n",
            "3649  2020-07-28  21.9   4.5   1.6\n",
            "3650  2020-07-29  21.6   3.2   1.0\n",
            "3651  2020-07-30  22.9   9.7   2.4\n",
            "3652  2020-07-31  25.7   4.8   2.5\n",
            "\n",
            "[3653 rows x 4 columns]\n"
          ]
        }
      ]
    },
    {
      "cell_type": "markdown",
      "source": [
        "pickle 파일 읽기 .pkl\n",
        " * 전용 프로그램을 통해서만 열 수 있으면 이진 파일\n",
        " * 메모장으로 열 수 있으면 텍스트 파일"
      ],
      "metadata": {
        "id": "B58wNU32iykB"
      }
    },
    {
      "cell_type": "code",
      "source": [
        "df1 = pd.read_csv('weather.csv')\n",
        "df1.to_pickle('weather.pkl')"
      ],
      "metadata": {
        "id": "mWfyiWkFjmab"
      },
      "execution_count": 26,
      "outputs": []
    },
    {
      "cell_type": "code",
      "source": [
        "path1 = 'weather.pkl'\n",
        "\n",
        "df1 = pd.read_pickle(path1)\n",
        "df1.to_pickle('sample_data.pkl')\n",
        "\n",
        "path2 = 'sample_data.pkl'\n",
        "df2 = pd.read_pickle(path2)\n",
        "print(df2)"
      ],
      "metadata": {
        "colab": {
          "base_uri": "https://localhost:8080/"
        },
        "id": "in1E_rJOkR-a",
        "outputId": "3c94c223-1207-411a-864f-afd5715f51ae"
      },
      "execution_count": 27,
      "outputs": [
        {
          "output_type": "stream",
          "name": "stdout",
          "text": [
            "              일시  평균기온  최대풍속  평균풍속\n",
            "0     2010-08-01  28.7   8.3   3.4\n",
            "1     2010-08-02  25.2   8.7   3.8\n",
            "2     2010-08-03  22.1   6.3   2.9\n",
            "3     2010-08-04  25.3   6.6   4.2\n",
            "4     2010-08-05  27.2   9.1   5.6\n",
            "...          ...   ...   ...   ...\n",
            "3648  2020-07-27  22.1   4.2   1.7\n",
            "3649  2020-07-28  21.9   4.5   1.6\n",
            "3650  2020-07-29  21.6   3.2   1.0\n",
            "3651  2020-07-30  22.9   9.7   2.4\n",
            "3652  2020-07-31  25.7   4.8   2.5\n",
            "\n",
            "[3653 rows x 4 columns]\n"
          ]
        }
      ]
    },
    {
      "cell_type": "markdown",
      "source": [
        "#Crawling"
      ],
      "metadata": {
        "id": "a6VGcgCcqwgL"
      }
    },
    {
      "cell_type": "code",
      "source": [
        "!pip install BeautifulSoup4\n",
        "!pip install requests"
      ],
      "metadata": {
        "colab": {
          "base_uri": "https://localhost:8080/"
        },
        "id": "5XBq2rLRqhe8",
        "outputId": "f40113fb-593f-4eed-daa7-114883e68f1e"
      },
      "execution_count": 28,
      "outputs": [
        {
          "output_type": "stream",
          "name": "stdout",
          "text": [
            "Requirement already satisfied: BeautifulSoup4 in /usr/local/lib/python3.10/dist-packages (4.11.2)\n",
            "Requirement already satisfied: soupsieve>1.2 in /usr/local/lib/python3.10/dist-packages (from BeautifulSoup4) (2.5)\n"
          ]
        }
      ]
    },
    {
      "cell_type": "code",
      "source": [
        "from bs4 import BeautifulSoup as bs\n",
        "from urllib.request import urlopen as url\n",
        "\n",
        "page = url(\"https://www.daangn.com/hot_articles\")\n",
        "soup = bs(page.read(), \"html.parser\")\n",
        "\n"
      ],
      "metadata": {
        "id": "PABOY7MZqpBK"
      },
      "execution_count": 49,
      "outputs": []
    },
    {
      "cell_type": "code",
      "source": [
        "print(soup.h2.text)"
      ],
      "metadata": {
        "colab": {
          "base_uri": "https://localhost:8080/"
        },
        "id": "PfuWn-qOuvmE",
        "outputId": "31eb8f42-7098-4993-d7b0-a30b31ea7f15"
      },
      "execution_count": 54,
      "outputs": [
        {
          "output_type": "stream",
          "name": "stdout",
          "text": [
            "삼성텔레비전60인치\n"
          ]
        }
      ]
    },
    {
      "cell_type": "code",
      "source": [
        "print(soup.find_all('h2'))"
      ],
      "metadata": {
        "colab": {
          "base_uri": "https://localhost:8080/"
        },
        "id": "orbZ8g8Ys7RM",
        "outputId": "c3caa70b-9e37-438b-ffe0-fcdb2cef176a"
      },
      "execution_count": 53,
      "outputs": [
        {
          "output_type": "stream",
          "name": "stdout",
          "text": [
            "[<h2 class=\"card-title\">삼성텔레비전60인치</h2>, <h2 class=\"card-title\">미니 건조기</h2>, <h2 class=\"card-title\">쌀20kg</h2>, <h2 class=\"card-title\">급)돈당 30만원에 총 10돈</h2>, <h2 class=\"card-title\">아이폰12 화이트 128G (카메라 모듈 고장)</h2>, <h2 class=\"card-title\">갤럭시 버즈2 pro 판매합니다</h2>, <h2 class=\"card-title\">Lenovo 중고노트북</h2>, <h2 class=\"card-title\">전기자전거</h2>, <h2 class=\"card-title\">폴드4 256기가 자급제</h2>, <h2 class=\"card-title\">사용한지2주된 전자렌지팝니다</h2>, <h2 class=\"card-title\">네이처하이크 야전침대</h2>, <h2 class=\"card-title\">스피드랙 앵글 선반 800x400x1800  5단 팝니다</h2>, <h2 class=\"card-title\">구찌가방</h2>, <h2 class=\"card-title\">MSI RTX3060 급처합니다</h2>, <h2 class=\"card-title\">테블릿 제발좀 사주세요ㅠㅠㅠ</h2>, <h2 class=\"card-title\">자전거 30000원판매 (헬멧도 같이드림)</h2>, <h2 class=\"card-title\">버즈 박스째 새거</h2>, <h2 class=\"card-title\">맘스지니 회전책장 화이트</h2>, <h2 class=\"card-title\">온수매트</h2>, <h2 class=\"card-title\">냄비</h2>, <h2 class=\"card-title\">미니 가스압력밥솥 팔게요</h2>, <h2 class=\"card-title\">루이비똥 가방팝니다.(새거입니다)</h2>, <h2 class=\"card-title\">다이슨 공기청정기</h2>, <h2 class=\"card-title\">추피책 외 일괄</h2>, <h2 class=\"card-title\">가방 정리해요!!!!</h2>, <h2 class=\"card-title\">스톤 아일랜드 완전급처</h2>, <h2 class=\"card-title\">LG 냉장고 (자취생 추천템)</h2>, <h2 class=\"card-title\">다이슨 청소기 거치대</h2>, <h2 class=\"card-title\">틈새수납장</h2>, <h2 class=\"card-title\">전기난로 히터 샤오미 스마트미 1S 팔아요</h2>, <h2 class=\"card-title\">미사용 후라이팬 인덕션 사용불가</h2>, <h2 class=\"card-title\">오리털 패딩 판매</h2>, <h2 class=\"card-title\">나이키 백팩</h2>, <h2 class=\"card-title\">신일 라디에이터</h2>, <h2 class=\"card-title\">에어팟 프로</h2>, <h2 class=\"card-title\">블루독,아디다스,베베드피노 등등 90사이즈</h2>, <h2 class=\"card-title\">진도통밍크 코트</h2>, <h2 class=\"card-title\">디올 퍼퓸</h2>, <h2 class=\"card-title\">z플립 3 블랙</h2>, <h2 class=\"card-title\">바이브레이더</h2>, <h2 class=\"card-title\">발열조끼</h2>, <h2 class=\"card-title\">추피 70권 전권</h2>, <h2 class=\"card-title\">엘지 블루레이 플레이어</h2>, <h2 class=\"card-title\">폴더매트</h2>, <h2 class=\"card-title\">퀸센스 생선구이 후라이팬</h2>, <h2 class=\"card-title\">서랍장 싸게 팝니다</h2>, <h2 class=\"card-title\">거실용전기장판</h2>, <h2 class=\"card-title\">오리털 정장 패딩</h2>, <h2 class=\"card-title\">새상품 / 노래방 기계</h2>, <h2 class=\"card-title\">케리어 에어콘</h2>, <h2 class=\"card-title\">화덕난로</h2>, <h2 class=\"card-title\">크리스마스트리 180 판매</h2>, <h2 class=\"card-title\">아들이 사준 옷</h2>, <h2 class=\"card-title\">65인치 티비</h2>, <h2 class=\"card-title\">청소기 판매합니다</h2>, <h2 class=\"card-title\">아이폰 12 pro 퍼시픽블루 128기가 팔아요</h2>, <h2 class=\"card-title\">서귀포 남원귤판매합니다</h2>, <h2 class=\"card-title\">디월트 송풍기 베어툴(배터리X, 충전기X)</h2>, <h2 class=\"card-title\">사이드테이블</h2>, <h2 class=\"card-title\">몽클레어 패딩 조끼 팝니다</h2>, <h2 class=\"card-title\">5단 책장</h2>, <h2 class=\"card-title\">접이식 이동식 선반 15000</h2>, <h2 class=\"card-title\">정품 폴로랄프로렌셔츠</h2>, <h2 class=\"card-title\">지갑팔아요</h2>, <h2 class=\"card-title\">아이패드 팔아요</h2>, <h2 class=\"card-title\">명품 골프채 새것 풀세트! 골프백 캐디백 골프가방 급처!</h2>, <h2 class=\"card-title\">돈이 필요해서 정리해요~</h2>, <h2 class=\"card-title\">블랙야크 등산바지 겨울옷</h2>, <h2 class=\"card-title\">작은 캐리어 유아 캐리어</h2>, <h2 class=\"card-title\">전자레인지 선반 판매합니다</h2>, <h2 class=\"card-title\">lg그램 노트북</h2>, <h2 class=\"card-title\">엘지 65인치 UHD LED TV</h2>, <h2 class=\"card-title\">LG 트롬 15kg 세탁기</h2>, <h2 class=\"card-title\">아이폰 14프로 블랙 256기가 기변폰 80 급처로 판매</h2>, <h2 class=\"card-title\">새상품) 캉골 겨울모자</h2>, <h2 class=\"card-title\">롱패딩 ㅡ네파</h2>, <h2 class=\"card-title\">에어팟 프로 2</h2>, <h2 class=\"card-title\">돈이 필요해서 정리해요~</h2>]\n"
          ]
        }
      ]
    },
    {
      "cell_type": "code",
      "source": [
        "nav = soup.find('nav', {'id' : 'hot-articles-navigation'})\n",
        "for i in nav:\n",
        "  if not i : continue\n",
        "  print(i.text)"
      ],
      "metadata": {
        "colab": {
          "base_uri": "https://localhost:8080/"
        },
        "id": "PFO1c33Et6Sd",
        "outputId": "86d98e48-8647-4a22-ebe8-c8dfe61ae0f3"
      },
      "execution_count": 68,
      "outputs": [
        {
          "output_type": "stream",
          "name": "stdout",
          "text": [
            "\n",
            "\n",
            "지역을 선택하세요서울특별시\n",
            "부산광역시\n",
            "대구광역시\n",
            "인천광역시\n",
            "광주광역시\n",
            "대전광역시\n",
            "울산광역시\n",
            "세종특별자치시\n",
            "경기도\n",
            "강원특별자치도\n",
            "충청북도\n",
            "충청남도\n",
            "전라북도\n",
            "전라남도\n",
            "경상북도\n",
            "경상남도\n",
            "제주특별자치도\n",
            "\n",
            "\n",
            "동네를 선택하세요서울특별시\n",
            "부산광역시\n",
            "대구광역시\n",
            "인천광역시\n",
            "광주광역시\n",
            "대전광역시\n",
            "울산광역시\n",
            "세종특별자치시\n",
            "경기도\n",
            "강원특별자치도\n",
            "충청북도\n",
            "충청남도\n",
            "전라북도\n",
            "전라남도\n",
            "경상북도\n",
            "경상남도\n",
            "제주특별자치도\n",
            "\n",
            "\n"
          ]
        }
      ]
    },
    {
      "cell_type": "code",
      "source": [
        "import requests\n",
        "page = requests.get(\"https://www.daangn.com/hot_articles\")\n",
        "soup = bs(page.content, \"html.parser\")\n",
        "\n",
        "print(soup.find_all(\"h2\"))\n",
        "print(len(soup.find_all(\"h2\")))\n",
        "print(\"-\" * 40)\n",
        "print(soup.find_all(attrs={\"class\" : \"head-title\"}))\n",
        "print(len(soup.find_all(attrs={\"class\" : \"head-title\"})))"
      ],
      "metadata": {
        "colab": {
          "base_uri": "https://localhost:8080/"
        },
        "id": "TwAsr4nTxgQ9",
        "outputId": "27bf7d5c-e436-48fa-cd5d-b9fbe0babf85"
      },
      "execution_count": 70,
      "outputs": [
        {
          "output_type": "stream",
          "name": "stdout",
          "text": [
            "[<h2 class=\"card-title\">삼성텔레비전60인치</h2>, <h2 class=\"card-title\">미니 건조기</h2>, <h2 class=\"card-title\">쌀20kg</h2>, <h2 class=\"card-title\">급)돈당 30만원에 총 10돈</h2>, <h2 class=\"card-title\">아이폰12 화이트 128G (카메라 모듈 고장)</h2>, <h2 class=\"card-title\">갤럭시 버즈2 pro 판매합니다</h2>, <h2 class=\"card-title\">Lenovo 중고노트북</h2>, <h2 class=\"card-title\">전기자전거</h2>, <h2 class=\"card-title\">폴드4 256기가 자급제</h2>, <h2 class=\"card-title\">사용한지2주된 전자렌지팝니다</h2>, <h2 class=\"card-title\">네이처하이크 야전침대</h2>, <h2 class=\"card-title\">스피드랙 앵글 선반 800x400x1800  5단 팝니다</h2>, <h2 class=\"card-title\">구찌가방</h2>, <h2 class=\"card-title\">MSI RTX3060 급처합니다</h2>, <h2 class=\"card-title\">테블릿 제발좀 사주세요ㅠㅠㅠ</h2>, <h2 class=\"card-title\">자전거 30000원판매 (헬멧도 같이드림)</h2>, <h2 class=\"card-title\">버즈 박스째 새거</h2>, <h2 class=\"card-title\">맘스지니 회전책장 화이트</h2>, <h2 class=\"card-title\">온수매트</h2>, <h2 class=\"card-title\">냄비</h2>, <h2 class=\"card-title\">미니 가스압력밥솥 팔게요</h2>, <h2 class=\"card-title\">루이비똥 가방팝니다.(새거입니다)</h2>, <h2 class=\"card-title\">다이슨 공기청정기</h2>, <h2 class=\"card-title\">추피책 외 일괄</h2>, <h2 class=\"card-title\">가방 정리해요!!!!</h2>, <h2 class=\"card-title\">스톤 아일랜드 완전급처</h2>, <h2 class=\"card-title\">LG 냉장고 (자취생 추천템)</h2>, <h2 class=\"card-title\">다이슨 청소기 거치대</h2>, <h2 class=\"card-title\">틈새수납장</h2>, <h2 class=\"card-title\">전기난로 히터 샤오미 스마트미 1S 팔아요</h2>, <h2 class=\"card-title\">미사용 후라이팬 인덕션 사용불가</h2>, <h2 class=\"card-title\">오리털 패딩 판매</h2>, <h2 class=\"card-title\">나이키 백팩</h2>, <h2 class=\"card-title\">신일 라디에이터</h2>, <h2 class=\"card-title\">에어팟 프로</h2>, <h2 class=\"card-title\">블루독,아디다스,베베드피노 등등 90사이즈</h2>, <h2 class=\"card-title\">진도통밍크 코트</h2>, <h2 class=\"card-title\">디올 퍼퓸</h2>, <h2 class=\"card-title\">z플립 3 블랙</h2>, <h2 class=\"card-title\">바이브레이더</h2>, <h2 class=\"card-title\">발열조끼</h2>, <h2 class=\"card-title\">추피 70권 전권</h2>, <h2 class=\"card-title\">엘지 블루레이 플레이어</h2>, <h2 class=\"card-title\">폴더매트</h2>, <h2 class=\"card-title\">퀸센스 생선구이 후라이팬</h2>, <h2 class=\"card-title\">서랍장 싸게 팝니다</h2>, <h2 class=\"card-title\">거실용전기장판</h2>, <h2 class=\"card-title\">오리털 정장 패딩</h2>, <h2 class=\"card-title\">새상품 / 노래방 기계</h2>, <h2 class=\"card-title\">케리어 에어콘</h2>, <h2 class=\"card-title\">화덕난로</h2>, <h2 class=\"card-title\">크리스마스트리 180 판매</h2>, <h2 class=\"card-title\">아들이 사준 옷</h2>, <h2 class=\"card-title\">65인치 티비</h2>, <h2 class=\"card-title\">청소기 판매합니다</h2>, <h2 class=\"card-title\">아이폰 12 pro 퍼시픽블루 128기가 팔아요</h2>, <h2 class=\"card-title\">서귀포 남원귤판매합니다</h2>, <h2 class=\"card-title\">디월트 송풍기 베어툴(배터리X, 충전기X)</h2>, <h2 class=\"card-title\">사이드테이블</h2>, <h2 class=\"card-title\">몽클레어 패딩 조끼 팝니다</h2>, <h2 class=\"card-title\">5단 책장</h2>, <h2 class=\"card-title\">접이식 이동식 선반 15000</h2>, <h2 class=\"card-title\">정품 폴로랄프로렌셔츠</h2>, <h2 class=\"card-title\">지갑팔아요</h2>, <h2 class=\"card-title\">아이패드 팔아요</h2>, <h2 class=\"card-title\">명품 골프채 새것 풀세트! 골프백 캐디백 골프가방 급처!</h2>, <h2 class=\"card-title\">돈이 필요해서 정리해요~</h2>, <h2 class=\"card-title\">블랙야크 등산바지 겨울옷</h2>, <h2 class=\"card-title\">작은 캐리어 유아 캐리어</h2>, <h2 class=\"card-title\">전자레인지 선반 판매합니다</h2>, <h2 class=\"card-title\">lg그램 노트북</h2>, <h2 class=\"card-title\">엘지 65인치 UHD LED TV</h2>, <h2 class=\"card-title\">LG 트롬 15kg 세탁기</h2>, <h2 class=\"card-title\">아이폰 14프로 블랙 256기가 기변폰 80 급처로 판매</h2>, <h2 class=\"card-title\">새상품) 캉골 겨울모자</h2>, <h2 class=\"card-title\">롱패딩 ㅡ네파</h2>, <h2 class=\"card-title\">에어팟 프로 2</h2>, <h2 class=\"card-title\">돈이 필요해서 정리해요~</h2>, <h2 class=\"card-title\">코오롱 경량패딩 (필파워 800+)</h2>]\n",
            "79\n",
            "----------------------------------------\n",
            "[<h1 class=\"head-title\" id=\"hot-articles-head-title\">\n",
            "      \n",
            "      \n",
            "      중고거래 인기매물\n",
            "  </h1>]\n",
            "1\n"
          ]
        }
      ]
    },
    {
      "cell_type": "code",
      "source": [
        "import requests\n",
        "page = requests.get(\"https://www.daangn.com/hot_articles\")\n",
        "soup = bs(page.content, \"html.parser\")\n",
        "\n",
        "for x in range(79):\n",
        "  print(soup.select(\".card-title\")[x].get_text())"
      ],
      "metadata": {
        "colab": {
          "base_uri": "https://localhost:8080/"
        },
        "id": "5E2osqT32c-U",
        "outputId": "6405aeea-b3cd-4b77-ec66-894d3bc730ab"
      },
      "execution_count": 75,
      "outputs": [
        {
          "output_type": "stream",
          "name": "stdout",
          "text": [
            "삼성텔레비전60인치\n",
            "미니 건조기\n",
            "쌀20kg\n",
            "급)돈당 30만원에 총 10돈\n",
            "아이폰12 화이트 128G (카메라 모듈 고장)\n",
            "갤럭시 버즈2 pro 판매합니다\n",
            "Lenovo 중고노트북\n",
            "전기자전거\n",
            "폴드4 256기가 자급제\n",
            "사용한지2주된 전자렌지팝니다\n",
            "네이처하이크 야전침대\n",
            "스피드랙 앵글 선반 800x400x1800  5단 팝니다\n",
            "구찌가방\n",
            "MSI RTX3060 급처합니다\n",
            "테블릿 제발좀 사주세요ㅠㅠㅠ\n",
            "자전거 30000원판매 (헬멧도 같이드림)\n",
            "버즈 박스째 새거\n",
            "맘스지니 회전책장 화이트\n",
            "온수매트\n",
            "냄비\n",
            "미니 가스압력밥솥 팔게요\n",
            "루이비똥 가방팝니다.(새거입니다)\n",
            "다이슨 공기청정기\n",
            "추피책 외 일괄\n",
            "가방 정리해요!!!!\n",
            "스톤 아일랜드 완전급처\n",
            "LG 냉장고 (자취생 추천템)\n",
            "다이슨 청소기 거치대\n",
            "틈새수납장\n",
            "전기난로 히터 샤오미 스마트미 1S 팔아요\n",
            "미사용 후라이팬 인덕션 사용불가\n",
            "오리털 패딩 판매\n",
            "나이키 백팩\n",
            "신일 라디에이터\n",
            "에어팟 프로\n",
            "블루독,아디다스,베베드피노 등등 90사이즈\n",
            "진도통밍크 코트\n",
            "디올 퍼퓸\n",
            "z플립 3 블랙\n",
            "바이브레이더\n",
            "발열조끼\n",
            "추피 70권 전권\n",
            "엘지 블루레이 플레이어\n",
            "폴더매트\n",
            "퀸센스 생선구이 후라이팬\n",
            "서랍장 싸게 팝니다\n",
            "거실용전기장판\n",
            "오리털 정장 패딩\n",
            "새상품 / 노래방 기계\n",
            "케리어 에어콘\n",
            "화덕난로\n",
            "크리스마스트리 180 판매\n",
            "아들이 사준 옷\n",
            "65인치 티비\n",
            "청소기 판매합니다\n",
            "아이폰 12 pro 퍼시픽블루 128기가 팔아요\n",
            "서귀포 남원귤판매합니다\n",
            "디월트 송풍기 베어툴(배터리X, 충전기X)\n",
            "사이드테이블\n",
            "몽클레어 패딩 조끼 팝니다\n",
            "5단 책장\n",
            "접이식 이동식 선반 15000\n",
            "정품 폴로랄프로렌셔츠\n",
            "지갑팔아요\n",
            "아이패드 팔아요\n",
            "명품 골프채 새것 풀세트! 골프백 캐디백 골프가방 급처!\n",
            "돈이 필요해서 정리해요~\n",
            "블랙야크 등산바지 겨울옷\n",
            "작은 캐리어 유아 캐리어\n",
            "전자레인지 선반 판매합니다\n",
            "lg그램 노트북\n",
            "엘지 65인치 UHD LED TV\n",
            "LG 트롬 15kg 세탁기\n",
            "아이폰 14프로 블랙 256기가 기변폰 80 급처로 판매\n",
            "새상품) 캉골 겨울모자\n",
            "롱패딩 ㅡ네파\n",
            "에어팟 프로 2\n",
            "돈이 필요해서 정리해요~\n",
            "코오롱 경량패딩 (필파워 800+)\n"
          ]
        }
      ]
    },
    {
      "cell_type": "markdown",
      "source": [
        "bugs 사이트 음악 순위 크롤링"
      ],
      "metadata": {
        "id": "Fjd0wn4G3FeV"
      }
    },
    {
      "cell_type": "code",
      "source": [
        "fr = url('https://music.bugs.co.kr/chart?wl_ref=M_left_02_01')\n",
        "s = bs(fr.read(), 'html.parser')\n",
        "\n",
        "# td 태그에 check라는 class가 있는 td태그를 모두 가져온다.\n",
        "musics = s.find_all('td', 'check')\n",
        "\n",
        "for i, m in enumerate(musics):\n",
        "  print()\n",
        "  print(f'{i + 1}위 : {m.input[\"title\"]}')\n",
        "  print()"
      ],
      "metadata": {
        "colab": {
          "base_uri": "https://localhost:8080/"
        },
        "id": "_wAqZ87V3V8z",
        "outputId": "0201dc17-48f3-419e-83a2-b31fd98f76c0"
      },
      "execution_count": 84,
      "outputs": [
        {
          "output_type": "stream",
          "name": "stdout",
          "text": [
            "\n",
            "1위 : WATCH IT\n",
            "\n",
            "\n",
            "2위 : DIE 4 YOU\n",
            "\n",
            "\n",
            "3위 : Perfect Night\n",
            "\n",
            "\n",
            "4위 : Drama\n",
            "\n",
            "\n",
            "5위 : Chill Kill\n",
            "\n",
            "\n",
            "6위 : Baddie\n",
            "\n",
            "\n",
            "7위 : You & Me\n",
            "\n",
            "\n",
            "8위 : Love Lee\n",
            "\n",
            "\n",
            "9위 : Get A Guitar\n",
            "\n",
            "\n",
            "10위 : Standing Next to You\n",
            "\n",
            "\n",
            "11위 : 후라이의 꿈\n",
            "\n",
            "\n",
            "12위 : ETA\n",
            "\n",
            "\n",
            "13위 : 지극히 사적인 얘기\n",
            "\n",
            "\n",
            "14위 : 잠시라도 우리\n",
            "\n",
            "\n",
            "15위 : I AM\n",
            "\n",
            "\n",
            "16위 : Ditto\n",
            "\n",
            "\n",
            "17위 : 헤어지자 말해요\n",
            "\n",
            "\n",
            "18위 : Seven (feat. Latto) - Clean Ver.\n",
            "\n",
            "\n",
            "19위 : Either Way\n",
            "\n",
            "\n",
            "20위 : Super Shy\n",
            "\n",
            "\n",
            "21위 : Off The Record\n",
            "\n",
            "\n",
            "22위 : Smoke (Prod. Dynamicduo, Padi)\n",
            "\n",
            "\n",
            "23위 : Hype Boy\n",
            "\n",
            "\n",
            "24위 : GODS\n",
            "\n",
            "\n",
            "25위 : Fast Forward\n",
            "\n",
            "\n",
            "26위 : 음악의 신\n",
            "\n",
            "\n",
            "27위 : 숲\n",
            "\n",
            "\n",
            "28위 : 그대만 있다면 (여름날 우리 X 너드커넥션 (Nerd Connection))\n",
            "\n",
            "\n",
            "29위 : 미워 (Ego)\n",
            "\n",
            "\n",
            "30위 : 달빛에 그려지는\n",
            "\n",
            "\n",
            "31위 : Kitsch\n",
            "\n",
            "\n",
            "32위 : 퀸카 (Queencard)\n",
            "\n",
            "\n",
            "33위 : Steal The Show (From “엘리멘탈”)\n",
            "\n",
            "\n",
            "34위 : Spicy\n",
            "\n",
            "\n",
            "35위 : 한 페이지가 될 수 있게\n",
            "\n",
            "\n",
            "36위 : New Jeans\n",
            "\n",
            "\n",
            "37위 : Attention\n",
            "\n",
            "\n",
            "38위 : 흠칫 (Hmm-cheat)\n",
            "\n",
            "\n",
            "39위 : I Love My Body\n",
            "\n",
            "\n",
            "40위 : 어떻게 이별까지 사랑하겠어, 널 사랑하는 거지\n",
            "\n",
            "\n",
            "41위 : 별 떨어진다 (I Do)\n",
            "\n",
            "\n",
            "42위 : 밤, 바다\n",
            "\n",
            "\n",
            "43위 : 사막에서 꽃을 피우듯\n",
            "\n",
            "\n",
            "44위 : Underwater\n",
            "\n",
            "\n",
            "45위 : 너의 모든 순간\n",
            "\n",
            "\n",
            "46위 : Talk Saxy\n",
            "\n",
            "\n",
            "47위 : 사건의 지평선\n",
            "\n",
            "\n",
            "48위 : After LIKE\n",
            "\n",
            "\n",
            "49위 : 인사\n",
            "\n",
            "\n",
            "50위 : LOVE DIVE\n",
            "\n",
            "\n",
            "51위 : OMG\n",
            "\n",
            "\n",
            "52위 : 잘 지내자, 우리 (여름날 우리 X 로이킴)\n",
            "\n",
            "\n",
            "53위 : 모든 날, 모든 순간 (Every day, Every Moment)\n",
            "\n",
            "\n",
            "54위 : 락 (樂)\n",
            "\n",
            "\n",
            "55위 : Dangerously\n",
            "\n",
            "\n",
            "56위 : 주저하는 연인들을 위해\n",
            "\n",
            "\n",
            "57위 : Chili\n",
            "\n",
            "\n",
            "58위 : 이브, 프시케 그리고 푸른 수염의 아내\n",
            "\n",
            "\n",
            "59위 : I Don’t Think That I Like Her\n",
            "\n",
            "\n",
            "60위 : Bubble\n",
            "\n",
            "\n",
            "61위 : 사랑인가 봐\n",
            "\n",
            "\n",
            "62위 : 건물 사이에 피어난 장미 (Rose Blossom)\n",
            "\n",
            "\n",
            "63위 : 다정히 내 이름을 부르면\n",
            "\n",
            "\n",
            "64위 : Knock Knock (Who's There?)\n",
            "\n",
            "\n",
            "65위 : 심(心)\n",
            "\n",
            "\n",
            "66위 : 첫 눈\n",
            "\n",
            "\n",
            "67위 : Baggy Jeans\n",
            "\n",
            "\n",
            "68위 : 3D (feat. Jack Harlow)\n",
            "\n",
            "\n",
            "69위 : UNFORGIVEN (feat. Nile Rodgers)\n",
            "\n",
            "\n",
            "70위 : Off My Face\n",
            "\n",
            "\n",
            "71위 : Somebody\n",
            "\n",
            "\n",
            "72위 : 사랑은 늘 도망가\n",
            "\n",
            "\n",
            "73위 : 취중고백\n",
            "\n",
            "\n",
            "74위 : Summer (Feat. BE’O (비오))\n",
            "\n",
            "\n",
            "75위 : That’s Not How This Works (feat. Dan + Shay)\n",
            "\n",
            "\n",
            "76위 : Teddy Bear\n",
            "\n",
            "\n",
            "77위 : That's Hilarious\n",
            "\n",
            "\n",
            "78위 : 파이팅 해야지 (Feat. 이영지)\n",
            "\n",
            "\n",
            "79위 : ELEVEN\n",
            "\n",
            "\n",
            "80위 : 손오공\n",
            "\n",
            "\n",
            "81위 : ANTIFRAGILE\n",
            "\n",
            "\n",
            "82위 : Cool With You\n",
            "\n",
            "\n",
            "83위 : Shut Down\n",
            "\n",
            "\n",
            "84위 : 해요 (2022)\n",
            "\n",
            "\n",
            "85위 : 나에게 그대만이\n",
            "\n",
            "\n",
            "86위 : 오르트구름\n",
            "\n",
            "\n",
            "87위 : 꽃\n",
            "\n",
            "\n",
            "88위 : Sugarcoat (NATTY Solo)\n",
            "\n",
            "\n",
            "89위 : Fact Check (불가사의; 不可思議)\n",
            "\n",
            "\n",
            "90위 : Rewrite The Stars\n",
            "\n",
            "\n",
            "91위 : Memories\n",
            "\n",
            "\n",
            "92위 : When I Get Old\n",
            "\n",
            "\n",
            "93위 : STAY\n",
            "\n",
            "\n",
            "94위 : All I Want for Christmas Is You\n",
            "\n",
            "\n",
            "95위 : Yes or No\n",
            "\n",
            "\n",
            "96위 : 사실말야내가말야그게그러니까말이야\n",
            "\n",
            "\n",
            "97위 : 그라데이션\n",
            "\n",
            "\n",
            "98위 : INVU\n",
            "\n",
            "\n",
            "99위 : Thirsty\n",
            "\n",
            "\n",
            "100위 : Cupid\n",
            "\n"
          ]
        }
      ]
    }
  ]
}