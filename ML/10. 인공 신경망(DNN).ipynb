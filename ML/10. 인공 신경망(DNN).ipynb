{
  "nbformat": 4,
  "nbformat_minor": 0,
  "metadata": {
    "colab": {
      "provenance": []
    },
    "kernelspec": {
      "name": "python3",
      "display_name": "Python 3"
    },
    "language_info": {
      "name": "python"
    }
  },
  "cells": [
    {
      "cell_type": "code",
      "execution_count": 6,
      "metadata": {
        "id": "vHsGzpCSidJm"
      },
      "outputs": [],
      "source": [
        "from tensorflow import keras"
      ]
    },
    {
      "cell_type": "code",
      "source": [
        "from sklearn.preprocessing import StandardScaler\n",
        "from sklearn.model_selection import train_test_split\n",
        "import numpy as np"
      ],
      "metadata": {
        "id": "PprXqIo5io6x"
      },
      "execution_count": 18,
      "outputs": []
    },
    {
      "cell_type": "code",
      "source": [
        "(train_input, train_target), (test_input, test_target) = keras.datasets.fashion_mnist.load_data()"
      ],
      "metadata": {
        "id": "ID7HvO1YihBC"
      },
      "execution_count": 8,
      "outputs": []
    },
    {
      "cell_type": "code",
      "source": [
        "train_scaled = (train_input / 255).reshape(-1, 28 * 28)\n",
        "\n",
        "# test_size = 0.2 -> 훈련 셋 8 : 검증 셋 2로 분리\n",
        "train_scaled, val_scaled, train_target, val_target = train_test_split(train_scaled, train_target, test_size = 0.2, random_state = 42)"
      ],
      "metadata": {
        "id": "-P7quw28i1oQ"
      },
      "execution_count": 9,
      "outputs": []
    },
    {
      "cell_type": "markdown",
      "source": [
        "## 2개의 층   \n",
        "은닉층 : 입력층과 출력층 사이에 있는 모든 층"
      ],
      "metadata": {
        "id": "3MY7NPnfn5LW"
      }
    },
    {
      "cell_type": "code",
      "source": [
        "# 일반적으로 출력층의 뉴런보다 은닉층의 뉴런이 많아야한다.\n",
        "hidden1= keras.layers.Dense(100, activation = \"sigmoid\", input_shape = (784,)) # z값이 아무리 커져도 1에 수렴하고 아무리 작아져도 0에 수렴\n",
        "output = keras.layers.Dense(10, activation = \"softmax\") # 출력값을 0~1로 압축하고 전체 합을 1로 조정"
      ],
      "metadata": {
        "id": "JERyLbnhoEjM"
      },
      "execution_count": 10,
      "outputs": []
    },
    {
      "cell_type": "markdown",
      "source": [
        "은닉층에서 계산 결과에 의미를 주기 위해서 선형 계산을 비선형적으로 비틀어 주어야함 (sigmoid, ReLU)"
      ],
      "metadata": {
        "id": "cCyJvMSBrP2Z"
      }
    },
    {
      "cell_type": "code",
      "source": [
        "model = keras.Sequential([hidden1, output])"
      ],
      "metadata": {
        "id": "uqK809hGrCoC"
      },
      "execution_count": 11,
      "outputs": []
    },
    {
      "cell_type": "code",
      "source": [
        "model.summary()\n",
        "# dense_2 Param =  특성 784 * 뉴런 개수 + 편향치 개수\n",
        "# dense_3 Param =  특성 100 * 뉴런 개수 + 편향치 개수"
      ],
      "metadata": {
        "colab": {
          "base_uri": "https://localhost:8080/"
        },
        "id": "u85kVT-lrosw",
        "outputId": "cc980e36-dae2-4baa-e2d9-b14276ee1c59"
      },
      "execution_count": 12,
      "outputs": [
        {
          "output_type": "stream",
          "name": "stdout",
          "text": [
            "Model: \"sequential\"\n",
            "_________________________________________________________________\n",
            " Layer (type)                Output Shape              Param #   \n",
            "=================================================================\n",
            " dense (Dense)               (None, 100)               78500     \n",
            "                                                                 \n",
            " dense_1 (Dense)             (None, 10)                1010      \n",
            "                                                                 \n",
            "=================================================================\n",
            "Total params: 79510 (310.59 KB)\n",
            "Trainable params: 79510 (310.59 KB)\n",
            "Non-trainable params: 0 (0.00 Byte)\n",
            "_________________________________________________________________\n"
          ]
        }
      ]
    },
    {
      "cell_type": "markdown",
      "source": [
        "층을 추가하는 다른 방법"
      ],
      "metadata": {
        "id": "0RkhqMFWtRDc"
      }
    },
    {
      "cell_type": "code",
      "source": [
        "model = keras.Sequential([\n",
        "    keras.layers.Dense(100, activation = \"sigmoid\", input_shape = (784,), name = \"hidden\"),\n",
        "    keras.layers.Dense(10, activation = \"softmax\", name = \"output\")\n",
        "], name = \"SJS_Model\")\n",
        "model.summary()"
      ],
      "metadata": {
        "colab": {
          "base_uri": "https://localhost:8080/"
        },
        "id": "wIYqIktase0-",
        "outputId": "5f4a2c85-6a26-4328-f2a7-b8bb88b95ea3"
      },
      "execution_count": 13,
      "outputs": [
        {
          "output_type": "stream",
          "name": "stdout",
          "text": [
            "Model: \"SJS_Model\"\n",
            "_________________________________________________________________\n",
            " Layer (type)                Output Shape              Param #   \n",
            "=================================================================\n",
            " hidden (Dense)              (None, 100)               78500     \n",
            "                                                                 \n",
            " output (Dense)              (None, 10)                1010      \n",
            "                                                                 \n",
            "=================================================================\n",
            "Total params: 79510 (310.59 KB)\n",
            "Trainable params: 79510 (310.59 KB)\n",
            "Non-trainable params: 0 (0.00 Byte)\n",
            "_________________________________________________________________\n"
          ]
        }
      ]
    },
    {
      "cell_type": "code",
      "source": [
        "model = keras.Sequential(name = \"SJS_Model\")\n",
        "model.add(keras.layers.Dense(100, activation = \"sigmoid\", input_shape = (784,), name = \"hidden1\"))\n",
        "model.add(keras.layers.Dense(10, activation = \"softmax\", name = \"output\"))\n",
        "model.summary()"
      ],
      "metadata": {
        "colab": {
          "base_uri": "https://localhost:8080/"
        },
        "id": "6edPklActfkD",
        "outputId": "9c28acd2-b250-44de-e8c3-39f2210e5e16"
      },
      "execution_count": 14,
      "outputs": [
        {
          "output_type": "stream",
          "name": "stdout",
          "text": [
            "Model: \"SJS_Model\"\n",
            "_________________________________________________________________\n",
            " Layer (type)                Output Shape              Param #   \n",
            "=================================================================\n",
            " hidden1 (Dense)             (None, 100)               78500     \n",
            "                                                                 \n",
            " output (Dense)              (None, 10)                1010      \n",
            "                                                                 \n",
            "=================================================================\n",
            "Total params: 79510 (310.59 KB)\n",
            "Trainable params: 79510 (310.59 KB)\n",
            "Non-trainable params: 0 (0.00 Byte)\n",
            "_________________________________________________________________\n"
          ]
        }
      ]
    },
    {
      "cell_type": "markdown",
      "source": [
        "모델 훈련"
      ],
      "metadata": {
        "id": "5J9eSXRRuO1S"
      }
    },
    {
      "cell_type": "code",
      "source": [
        "model.compile(loss=\"sparse_categorical_crossentropy\", metrics = \"accuracy\")\n",
        "model.fit(train_scaled, train_target, epochs = 7)"
      ],
      "metadata": {
        "colab": {
          "base_uri": "https://localhost:8080/"
        },
        "id": "GCkxioEquP7q",
        "outputId": "9e88e730-0ce4-49e8-90c6-81ab3c1defc1"
      },
      "execution_count": 15,
      "outputs": [
        {
          "output_type": "stream",
          "name": "stdout",
          "text": [
            "Epoch 1/7\n",
            "1500/1500 [==============================] - 5s 3ms/step - loss: 0.5712 - accuracy: 0.8053\n",
            "Epoch 2/7\n",
            "1500/1500 [==============================] - 4s 3ms/step - loss: 0.4132 - accuracy: 0.8513\n",
            "Epoch 3/7\n",
            "1500/1500 [==============================] - 4s 3ms/step - loss: 0.3780 - accuracy: 0.8645\n",
            "Epoch 4/7\n",
            "1500/1500 [==============================] - 4s 3ms/step - loss: 0.3546 - accuracy: 0.8722\n",
            "Epoch 5/7\n",
            "1500/1500 [==============================] - 4s 3ms/step - loss: 0.3383 - accuracy: 0.8775\n",
            "Epoch 6/7\n",
            "1500/1500 [==============================] - 4s 3ms/step - loss: 0.3236 - accuracy: 0.8825\n",
            "Epoch 7/7\n",
            "1500/1500 [==============================] - 4s 2ms/step - loss: 0.3112 - accuracy: 0.8873\n"
          ]
        },
        {
          "output_type": "execute_result",
          "data": {
            "text/plain": [
              "<keras.src.callbacks.History at 0x792ed35b74c0>"
            ]
          },
          "metadata": {},
          "execution_count": 15
        }
      ]
    },
    {
      "cell_type": "markdown",
      "source": [
        "# ReLU 함수와 Flatten 층   \n",
        "* 시그모이드 함수는 DNN에서 학습이 어려운 구조임\n",
        "* ReLU함수는 입력이 음수면 0 양수면 통과시킴\n",
        "*\n",
        "* Flatten 층은 reshape() 메서드 대신 사용함 (입력 차원을 모두 일렬로 펼치는 역할)"
      ],
      "metadata": {
        "id": "LqwGWi0su7II"
      }
    },
    {
      "cell_type": "code",
      "source": [
        "model = keras.Sequential(name = \"use_ReLU_FlattenLayer\")\n",
        "model.add(keras.layers.Flatten(input_shape = (28, 28)))\n",
        "model.add(keras.layers.Dense(100, activation = \"relu\"))\n",
        "model.add(keras.layers.Dense(10, activation = \"softmax\"))\n",
        "\n",
        "model.summary()"
      ],
      "metadata": {
        "colab": {
          "base_uri": "https://localhost:8080/"
        },
        "id": "x2CpquleumHg",
        "outputId": "a9d2e86c-2f39-4b24-f318-e799c7371378"
      },
      "execution_count": 19,
      "outputs": [
        {
          "output_type": "stream",
          "name": "stdout",
          "text": [
            "Model: \"use_ReLU_FlattenLayer\"\n",
            "_________________________________________________________________\n",
            " Layer (type)                Output Shape              Param #   \n",
            "=================================================================\n",
            " flatten (Flatten)           (None, 784)               0         \n",
            "                                                                 \n",
            " dense_2 (Dense)             (None, 100)               78500     \n",
            "                                                                 \n",
            " dense_3 (Dense)             (None, 10)                1010      \n",
            "                                                                 \n",
            "=================================================================\n",
            "Total params: 79510 (310.59 KB)\n",
            "Trainable params: 79510 (310.59 KB)\n",
            "Non-trainable params: 0 (0.00 Byte)\n",
            "_________________________________________________________________\n"
          ]
        }
      ]
    },
    {
      "cell_type": "markdown",
      "source": [
        "데이터 준비"
      ],
      "metadata": {
        "id": "YV4A-w05v2xF"
      }
    },
    {
      "cell_type": "code",
      "source": [
        "(train_input, train_target), (test_input, test_target) = keras.datasets.fashion_mnist.load_data()\n",
        "\n",
        "train_scaled = train_input / 255\n",
        "\n",
        "train_scaled, val_scaled, train_target, val_target = train_test_split(\n",
        "    train_scaled, train_target, test_size = 0.2, random_state = 42\n",
        ")\n",
        "\n",
        "print(train_scaled.shape, train_target.shape, val_scaled.shape, val_target.shape)"
      ],
      "metadata": {
        "colab": {
          "base_uri": "https://localhost:8080/"
        },
        "id": "B3w6YSizv3cl",
        "outputId": "31c7727f-99b0-4ddf-baf6-d71aa21ea916"
      },
      "execution_count": 21,
      "outputs": [
        {
          "output_type": "stream",
          "name": "stdout",
          "text": [
            "(48000, 28, 28) (48000,) (12000, 28, 28) (12000,)\n"
          ]
        }
      ]
    },
    {
      "cell_type": "code",
      "source": [
        "model.compile(loss = \"sparse_categorical_crossentropy\", metrics=\"accuracy\")\n",
        "model.fit(train_scaled, train_target, epochs = 7)"
      ],
      "metadata": {
        "colab": {
          "base_uri": "https://localhost:8080/"
        },
        "id": "DhyvQKJDwOS-",
        "outputId": "428adf92-7f33-48d1-927b-832c327946e1"
      },
      "execution_count": 22,
      "outputs": [
        {
          "output_type": "stream",
          "name": "stdout",
          "text": [
            "Epoch 1/7\n",
            "1500/1500 [==============================] - 5s 3ms/step - loss: 0.5259 - accuracy: 0.8142\n",
            "Epoch 2/7\n",
            "1500/1500 [==============================] - 4s 2ms/step - loss: 0.3927 - accuracy: 0.8593\n",
            "Epoch 3/7\n",
            "1500/1500 [==============================] - 4s 3ms/step - loss: 0.3535 - accuracy: 0.8716\n",
            "Epoch 4/7\n",
            "1500/1500 [==============================] - 4s 3ms/step - loss: 0.3322 - accuracy: 0.8804\n",
            "Epoch 5/7\n",
            "1500/1500 [==============================] - 4s 3ms/step - loss: 0.3166 - accuracy: 0.8868\n",
            "Epoch 6/7\n",
            "1500/1500 [==============================] - 4s 2ms/step - loss: 0.3054 - accuracy: 0.8904\n",
            "Epoch 7/7\n",
            "1500/1500 [==============================] - 5s 3ms/step - loss: 0.2941 - accuracy: 0.8944\n"
          ]
        },
        {
          "output_type": "execute_result",
          "data": {
            "text/plain": [
              "<keras.src.callbacks.History at 0x792f67a89420>"
            ]
          },
          "metadata": {},
          "execution_count": 22
        }
      ]
    },
    {
      "cell_type": "code",
      "source": [
        "# 검증\n",
        "model.evaluate(val_scaled, val_target)"
      ],
      "metadata": {
        "colab": {
          "base_uri": "https://localhost:8080/"
        },
        "id": "aNd-aWKgwpCU",
        "outputId": "b3d93de4-3396-4035-c9b4-9189d766c0b7"
      },
      "execution_count": 24,
      "outputs": [
        {
          "output_type": "stream",
          "name": "stdout",
          "text": [
            "375/375 [==============================] - 1s 2ms/step - loss: 0.3385 - accuracy: 0.8857\n"
          ]
        },
        {
          "output_type": "execute_result",
          "data": {
            "text/plain": [
              "[0.33847126364707947, 0.8857499957084656]"
            ]
          },
          "metadata": {},
          "execution_count": 24
        }
      ]
    },
    {
      "cell_type": "markdown",
      "source": [
        "# 하이퍼 파라미터\n",
        "* 모델이 학습하지 않아 사람이 직접 지정해 줘야 하는 파라미터\n",
        "* 은닉층, 뉴런 개수\n",
        "* activation function\n",
        "* layer 개수\n",
        "* fit 메서드의 batch_size, epochs 매개변수\n",
        "* 옵티마이저"
      ],
      "metadata": {
        "id": "WmRvaGqowyGh"
      }
    },
    {
      "cell_type": "markdown",
      "source": [
        "## 옵티마이저\n",
        "* compile 메서드에서 지정하는 경사 하강법 알고리즘 종류\n",
        "* 케라스 경사 하강법 알고리즘 : RMSprop\n",
        "* 기본 경사 하강법 옵티마이저 : SGD, 모멘텀, 네스테로프 모멘텀\n",
        "* 적응적 학습률 옵티마이저 : RMSprop, Adagrad\n",
        "* 모멘텀 최적화와 RMSprop의 장점 접목 : Adam\n",
        "![image.png](data:image/png;base64,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)"
      ],
      "metadata": {
        "id": "zR2o8xqrxHS0"
      }
    },
    {
      "cell_type": "code",
      "source": [],
      "metadata": {
        "id": "lFSgt0hrxHAD"
      },
      "execution_count": null,
      "outputs": []
    }
  ]
}