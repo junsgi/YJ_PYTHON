{
  "nbformat": 4,
  "nbformat_minor": 0,
  "metadata": {
    "colab": {
      "provenance": []
    },
    "kernelspec": {
      "name": "python3",
      "display_name": "Python 3"
    },
    "language_info": {
      "name": "python"
    }
  },
  "cells": [
    {
      "cell_type": "code",
      "execution_count": 13,
      "metadata": {
        "id": "G2ykNqrCF5xJ"
      },
      "outputs": [],
      "source": [
        "import numpy as np\n",
        "import pandas as pd\n",
        "import matplotlib.pyplot as plt\n",
        "from tensorflow import keras\n",
        "import tensorflow as tf\n",
        "from sklearn.linear_model import SGDClassifier\n",
        "from sklearn.model_selection import cross_validate, train_test_split"
      ]
    },
    {
      "cell_type": "markdown",
      "source": [
        "## 패션 MNIST"
      ],
      "metadata": {
        "id": "hFEAMyiJONGm"
      }
    },
    {
      "cell_type": "code",
      "source": [
        "(train_input, train_target), (test_input, test_target) = keras.datasets.fashion_mnist.load_data()"
      ],
      "metadata": {
        "id": "21RBmQ1uN1Lm"
      },
      "execution_count": 14,
      "outputs": []
    },
    {
      "cell_type": "code",
      "source": [
        "lables = np.array([\"티셔츠\", \"바지\", \"스웨터\", \"드레스\", \"코트\", \"샌달\", \"셔츠\", \"스니커즈\", \"가방\", \"앵클 부츠\"])\n",
        "print(train_input.shape, train_target.shape)\n",
        "print(test_input.shape, test_target.shape)\n",
        "print(lables[train_target[:5]])\n",
        "print(train_target[:5])"
      ],
      "metadata": {
        "colab": {
          "base_uri": "https://localhost:8080/"
        },
        "id": "aRmNE1pvOMSH",
        "outputId": "5b396e34-b7ad-4d92-c22f-0b9bfa04e4ea"
      },
      "execution_count": 15,
      "outputs": [
        {
          "output_type": "stream",
          "name": "stdout",
          "text": [
            "(60000, 28, 28) (60000,)\n",
            "(10000, 28, 28) (10000,)\n",
            "['앵클 부츠' '티셔츠' '티셔츠' '드레스' '티셔츠']\n",
            "[9 0 0 3 0]\n"
          ]
        }
      ]
    },
    {
      "cell_type": "markdown",
      "source": [
        "이미지 각 픽셀 값을 0 ~ 1로 정규화"
      ],
      "metadata": {
        "id": "J5hXKNlOWFdX"
      }
    },
    {
      "cell_type": "code",
      "source": [
        "train_scaled = train_input / 255 # 이미지 픽셀 최대 255\n",
        "train_scaled2 = train_scaled.reshape(-1, 28 * 28) # 1차원 배열로 재구성\n",
        "print(train_scaled.shape, train_scaled2.shape)"
      ],
      "metadata": {
        "colab": {
          "base_uri": "https://localhost:8080/"
        },
        "id": "DsvSe41_WNin",
        "outputId": "642cd4ee-9ff5-432e-cf79-9829e5d13429"
      },
      "execution_count": 16,
      "outputs": [
        {
          "output_type": "stream",
          "name": "stdout",
          "text": [
            "(60000, 28, 28) (60000, 784)\n"
          ]
        }
      ]
    },
    {
      "cell_type": "markdown",
      "source": [
        "### 확률적 경사 하강법 클래스 사용"
      ],
      "metadata": {
        "id": "7qbY5YC9Wrhf"
      }
    },
    {
      "cell_type": "code",
      "source": [
        "# sc = SGDClassifier(loss=\"log_loss\", max_iter = 5, random_state = 42)\n",
        "# scores = cross_validate(sc, train_scaled2, train_target, n_jobs=-1) # 교차 검증 (모델, 학습 데이터, 타깃 데이터, 병렬처리)\n",
        "# print(np.mean(scores['test_score']))\n",
        "# print(scores)"
      ],
      "metadata": {
        "id": "e-1oiDplWvhP"
      },
      "execution_count": 17,
      "outputs": []
    },
    {
      "cell_type": "code",
      "source": [
        "# sc = SGDClassifier(loss=\"log_loss\", max_iter = 9, random_state = 42)\n",
        "# scores = cross_validate(sc, train_scaled2, train_target, n_jobs=-1) # 교차 검증\n",
        "# print(np.mean(scores['test_score']))\n",
        "# print(scores)"
      ],
      "metadata": {
        "id": "DA-vOUDOYNuY"
      },
      "execution_count": 18,
      "outputs": []
    },
    {
      "cell_type": "code",
      "source": [
        "# sc = SGDClassifier(loss=\"log_loss\", max_iter = 20, random_state = 42)\n",
        "# scores = cross_validate(sc, train_scaled2, train_target, n_jobs=-1) # 교차 검증\n",
        "# print(np.mean(scores['test_score']))\n",
        "# print(scores)"
      ],
      "metadata": {
        "id": "r-IHCzYVYOff"
      },
      "execution_count": 19,
      "outputs": []
    },
    {
      "cell_type": "markdown",
      "source": [
        "## 검증 셋 분리"
      ],
      "metadata": {
        "id": "HmAcB1ycgMeJ"
      }
    },
    {
      "cell_type": "code",
      "source": [
        "train_scaled3, val_scaled, train_target, val_target = train_test_split(train_scaled2, train_target, test_size = 0.2 , random_state = 42)\n",
        "\n",
        "print(train_scaled3.shape, train_target.shape)\n",
        "print(val_scaled.shape, val_target.shape)"
      ],
      "metadata": {
        "colab": {
          "base_uri": "https://localhost:8080/"
        },
        "id": "pgh71w2jgRfp",
        "outputId": "0dfe2cbb-6961-48fd-fe6b-95b11bda4a9e"
      },
      "execution_count": 20,
      "outputs": [
        {
          "output_type": "stream",
          "name": "stdout",
          "text": [
            "(48000, 784) (48000,)\n",
            "(12000, 784) (12000,)\n"
          ]
        }
      ]
    },
    {
      "cell_type": "markdown",
      "source": [
        "## 밀집층 구성 밎 모델 만들기"
      ],
      "metadata": {
        "id": "BhVnSXWRg0tx"
      }
    },
    {
      "cell_type": "code",
      "source": [
        "# 패션 아이템이 10개라서 뉴런 10개\n",
        "dense = keras.layers.Dense(10, activation='softmax', input_shape = (784, ))\n",
        "model = keras.Sequential(dense)"
      ],
      "metadata": {
        "id": "a4x8BvHvg2Qh"
      },
      "execution_count": 23,
      "outputs": []
    },
    {
      "cell_type": "code",
      "source": [
        "model.compile(loss = \"sparse_categorical_crossentropy\", metrics = \"accuracy\")"
      ],
      "metadata": {
        "id": "2xcjeKQLhGpm"
      },
      "execution_count": 25,
      "outputs": []
    },
    {
      "cell_type": "markdown",
      "source": [
        "sparse가 붙은 이유는 타깃값을 원-핫 인코딩으로 부꾸지 않고 사용하기 위해서임"
      ],
      "metadata": {
        "id": "nN4H_IwZhR2J"
      }
    },
    {
      "cell_type": "code",
      "source": [
        "print(train_target[:10])\n",
        "print(lables[train_target[:10]])"
      ],
      "metadata": {
        "colab": {
          "base_uri": "https://localhost:8080/"
        },
        "id": "WnlbWM_ChYxq",
        "outputId": "2a148d99-894e-4c77-af2c-c97972c141d8"
      },
      "execution_count": 27,
      "outputs": [
        {
          "output_type": "stream",
          "name": "stdout",
          "text": [
            "[7 3 5 8 6 9 3 3 9 9]\n",
            "['스니커즈' '드레스' '샌달' '가방' '셔츠' '앵클 부츠' '드레스' '드레스' '앵클 부츠' '앵클 부츠']\n"
          ]
        }
      ]
    },
    {
      "cell_type": "code",
      "source": [
        "# 모델 훈련\n",
        "model.fit(train_scaled3, train_target, epochs = 5)\n",
        "# 미니 배치 경사 하강법을 사용하기 때문에 4만8천개의 데이터들을 32개씩 묶어서 학습하기 때문에 1500이란 숫자가 나옴"
      ],
      "metadata": {
        "colab": {
          "base_uri": "https://localhost:8080/"
        },
        "id": "kFNuAxihhphp",
        "outputId": "acc9a960-5620-4041-d068-1326a02182c1"
      },
      "execution_count": 28,
      "outputs": [
        {
          "output_type": "stream",
          "name": "stdout",
          "text": [
            "Epoch 1/5\n",
            "1500/1500 [==============================] - 4s 2ms/step - loss: 0.6092 - accuracy: 0.7932\n",
            "Epoch 2/5\n",
            "1500/1500 [==============================] - 3s 2ms/step - loss: 0.4755 - accuracy: 0.8386\n",
            "Epoch 3/5\n",
            "1500/1500 [==============================] - 3s 2ms/step - loss: 0.4521 - accuracy: 0.8472\n",
            "Epoch 4/5\n",
            "1500/1500 [==============================] - 3s 2ms/step - loss: 0.4385 - accuracy: 0.8507\n",
            "Epoch 5/5\n",
            "1500/1500 [==============================] - 4s 3ms/step - loss: 0.4307 - accuracy: 0.8542\n"
          ]
        },
        {
          "output_type": "execute_result",
          "data": {
            "text/plain": [
              "<keras.src.callbacks.History at 0x7b2474e0dfc0>"
            ]
          },
          "metadata": {},
          "execution_count": 28
        }
      ]
    },
    {
      "cell_type": "code",
      "source": [
        "#평가\n",
        "model.evaluate(val_scaled, val_target)\n",
        "# 에포크 5회 수행 결과 -> 훈련 셋 점수 : 85, 검증셋 점수 84"
      ],
      "metadata": {
        "colab": {
          "base_uri": "https://localhost:8080/"
        },
        "id": "H06fN6olhubY",
        "outputId": "63451c47-08b6-419c-e606-5846093bc602"
      },
      "execution_count": 29,
      "outputs": [
        {
          "output_type": "stream",
          "name": "stdout",
          "text": [
            "375/375 [==============================] - 1s 1ms/step - loss: 0.4455 - accuracy: 0.8469\n"
          ]
        },
        {
          "output_type": "execute_result",
          "data": {
            "text/plain": [
              "[0.4454647898674011, 0.846916675567627]"
            ]
          },
          "metadata": {},
          "execution_count": 29
        }
      ]
    }
  ]
}