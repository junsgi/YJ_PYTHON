{
  "nbformat": 4,
  "nbformat_minor": 0,
  "metadata": {
    "colab": {
      "provenance": []
    },
    "kernelspec": {
      "name": "python3",
      "display_name": "Python 3"
    },
    "language_info": {
      "name": "python"
    }
  },
  "cells": [
    {
      "cell_type": "code",
      "execution_count": 114,
      "metadata": {
        "id": "TMaunSoLjPXU"
      },
      "outputs": [],
      "source": [
        "import matplotlib.pyplot as plt\n",
        "import numpy as np\n",
        "from sklearn import linear_model as lm\n",
        "import pandas as pd\n",
        "from tensorflow import keras"
      ]
    },
    {
      "cell_type": "markdown",
      "source": [
        "선형 회귀 구현"
      ],
      "metadata": {
        "id": "kKCUuS_2oDsd"
      }
    },
    {
      "cell_type": "code",
      "source": [
        "regr = lm.LinearRegression() # 선형 회귀 모듈 가져오기\n",
        "\n",
        "# (키, 몸무게), (164cm, 53kg), (179, 63), (162, 55), (170, 59)\n",
        "X = [[164], [179], [162], [170]]\n",
        "y = [53, 63, 55, 59]\n",
        "regr.fit(X, y) # 학습 메서드\n",
        "\n",
        "input_data = [[180], [185]]\n",
        "\n",
        "# 학습에 사용된 데이터의 기준으로 키가 180일 때 몸무게와 185일 때 몸무게 반환\n",
        "result = regr.predict(input_data)\n",
        "print(result)"
      ],
      "metadata": {
        "colab": {
          "base_uri": "https://localhost:8080/"
        },
        "id": "i7lj9DOTjSKh",
        "outputId": "1e1e23fc-6a66-4802-b846-4b76edffbdc7"
      },
      "execution_count": 115,
      "outputs": [
        {
          "output_type": "stream",
          "name": "stdout",
          "text": [
            "[63.71244635 66.47353362]\n"
          ]
        }
      ]
    },
    {
      "cell_type": "code",
      "source": [
        "plt.scatter(X, y, color = \"black\")\n",
        "\n",
        "y_pred = regr.predict(X) # 학습용 데이터 재 학습\n",
        "\n",
        "plt.plot(X, y_pred, color = \"blue\", linewidth = 3)\n",
        "plt.show()"
      ],
      "metadata": {
        "colab": {
          "base_uri": "https://localhost:8080/",
          "height": 430
        },
        "id": "rs7jt7genw39",
        "outputId": "5165c25d-ea5a-48af-faef-dc60306f8805"
      },
      "execution_count": 116,
      "outputs": [
        {
          "output_type": "display_data",
          "data": {
            "text/plain": [
              "<Figure size 640x480 with 1 Axes>"
            ],
            "image/png": "[encoded data removed]"
          },
          "metadata": {}
        }
      ]
    },
    {
      "cell_type": "markdown",
      "source": [
        "성별 추가"
      ],
      "metadata": {
        "id": "7uKwsY5ypCop"
      }
    },
    {
      "cell_type": "code",
      "source": [
        "# 독립변수 종속변수?\n",
        "X = [[164, 1], [179, 0], [162, 1], [170, 0], [163, 1], [159, 0], [166, 1], [167, 0]]\n",
        "y = [53, 80, 55, 68, 49, 45, 70, 88]\n",
        "\n",
        "regr = lm.LinearRegression() # 선형 회귀 모듈 가져오기\n",
        "regr.fit(X, y)\n",
        "print('계수 :', regr.coef_)\n",
        "print('절편 :', regr.intercept_)\n",
        "print('점수 :', regr.score(X, y))\n",
        "print('키가 166인 여학생 추정 몸무게 :', regr.predict([[166, 1]]))\n",
        "print('키가 166인 남학생 추정 몸무게 :', regr.predict([[166, 0]]))"
      ],
      "metadata": {
        "colab": {
          "base_uri": "https://localhost:8080/"
        },
        "id": "gqDsxMEUpEaw",
        "outputId": "ae0ed201-0c38-4051-93b6-6e9d04fe8e66"
      },
      "execution_count": 117,
      "outputs": [
        {
          "output_type": "stream",
          "name": "stdout",
          "text": [
            "계수 : [ 1.63934426 -5.30327869]\n",
            "절편 : -206.3893442622952\n",
            "점수 : 0.5618386178462746\n",
            "키가 166인 여학생 추정 몸무게 : [60.43852459]\n",
            "키가 166인 남학생 추정 몸무게 : [65.74180328]\n"
          ]
        }
      ]
    },
    {
      "cell_type": "markdown",
      "source": [
        "딥러닝"
      ],
      "metadata": {
        "id": "O5Btva91vyie"
      }
    },
    {
      "cell_type": "code",
      "source": [
        "# 과거의 데이터 준비\n",
        "lemonade = pd.read_csv(\"./lemonade.csv\")"
      ],
      "metadata": {
        "id": "BmE6jahwv0ZW"
      },
      "execution_count": 118,
      "outputs": []
    },
    {
      "cell_type": "code",
      "source": [
        "x = lemonade[['온도']]\n",
        "y = lemonade[['판매량']]\n",
        "print(x.shape, y.shape)\n",
        "\n",
        "# 모델을 만든다.\n",
        "X = keras.layers.Input(shape = [1]) # 독립변수 개수\n",
        "Y = keras.layers.Dense(1)(X)\n",
        "model = keras.models.Model(X, Y)\n",
        "model.compile(loss = 'mse')\n",
        "\n",
        "# 모델을 학습시킨다.\n",
        "model.fit(x, y, epochs = 1000, verbose = 0)\n",
        "model.fit(x, y, epochs = 10)\n",
        "\n",
        "# 모델을 이용\n",
        "print(model.predict(x))\n",
        "print(model.predict([[15]]))"
      ],
      "metadata": {
        "colab": {
          "base_uri": "https://localhost:8080/"
        },
        "id": "1z350gu1yGKg",
        "outputId": "cbbbd915-3377-4831-e457-f71129cd9cb2"
      },
      "execution_count": 119,
      "outputs": [
        {
          "output_type": "stream",
          "name": "stdout",
          "text": [
            "(6, 1) (6, 1)\n",
            "Epoch 1/10\n",
            "1/1 [==============================] - 0s 12ms/step - loss: 419.1613\n",
            "Epoch 2/10\n",
            "1/1 [==============================] - 0s 10ms/step - loss: 418.2069\n",
            "Epoch 3/10\n",
            "1/1 [==============================] - 0s 9ms/step - loss: 417.2537\n",
            "Epoch 4/10\n",
            "1/1 [==============================] - 0s 8ms/step - loss: 416.3015\n",
            "Epoch 5/10\n",
            "1/1 [==============================] - 0s 7ms/step - loss: 415.3503\n",
            "Epoch 6/10\n",
            "1/1 [==============================] - 0s 8ms/step - loss: 414.4003\n",
            "Epoch 7/10\n",
            "1/1 [==============================] - 0s 7ms/step - loss: 413.4513\n",
            "Epoch 8/10\n",
            "1/1 [==============================] - 0s 8ms/step - loss: 412.5036\n",
            "Epoch 9/10\n",
            "1/1 [==============================] - 0s 8ms/step - loss: 411.5570\n",
            "Epoch 10/10\n",
            "1/1 [==============================] - 0s 11ms/step - loss: 410.6114\n",
            "1/1 [==============================] - 0s 49ms/step\n",
            "[[22.178041]\n",
            " [23.236332]\n",
            " [24.294622]\n",
            " [25.352913]\n",
            " [26.411203]\n",
            " [27.469492]]\n",
            "1/1 [==============================] - 0s 32ms/step\n",
            "[[16.886591]]\n"
          ]
        }
      ]
    },
    {
      "cell_type": "code",
      "source": [
        "pd.read_csv(\"./iris.csv\")"
      ],
      "metadata": {
        "colab": {
          "base_uri": "https://localhost:8080/",
          "height": 424
        },
        "id": "_mE_rVCy0eEP",
        "outputId": "c2d775df-543e-4127-bb25-588af682b5df"
      },
      "execution_count": 120,
      "outputs": [
        {
          "output_type": "execute_result",
          "data": {
            "text/plain": [
              "     sepal.length  sepal.width  petal.length  petal.width    variety\n",
              "0             5.1          3.5           1.4          0.2     Setosa\n",
              "1             4.9          3.0           1.4          0.2     Setosa\n",
              "2             4.7          3.2           1.3          0.2     Setosa\n",
              "3             4.6          3.1           1.5          0.2     Setosa\n",
              "4             5.0          3.6           1.4          0.2     Setosa\n",
              "..            ...          ...           ...          ...        ...\n",
              "145           6.7          3.0           5.2          2.3  Virginica\n",
              "146           6.3          2.5           5.0          1.9  Virginica\n",
              "147           6.5          3.0           5.2          2.0  Virginica\n",
              "148           6.2          3.4           5.4          2.3  Virginica\n",
              "149           5.9          3.0           5.1          1.8  Virginica\n",
              "\n",
              "[150 rows x 5 columns]"
            ],
            "text/html": [
              "\n",
              "  <div id=\"df-de8eaac6-0c21-48db-b250-50507e0ebf22\" class=\"colab-df-container\">\n",
              "    <div>\n",
              "<style scoped>\n",
              "    .dataframe tbody tr th:only-of-type {\n",
              "        vertical-align: middle;\n",
              "    }\n",
              "\n",
              "    .dataframe tbody tr th {\n",
              "        vertical-align: top;\n",
              "    }\n",
              "\n",
              "    .dataframe thead th {\n",
              "        text-align: right;\n",
              "    }\n",
              "</style>\n",
              "<table border=\"1\" class=\"dataframe\">\n",
              "  <thead>\n",
              "    <tr style=\"text-align: right;\">\n",
              "      <th></th>\n",
              "      <th>sepal.length</th>\n",
              "      <th>sepal.width</th>\n",
              "      <th>petal.length</th>\n",
              "      <th>petal.width</th>\n",
              "      <th>variety</th>\n",
              "    </tr>\n",
              "  </thead>\n",
              "  <tbody>\n",
              "    <tr>\n",
              "      <th>0</th>\n",
              "      <td>5.1</td>\n",
              "      <td>3.5</td>\n",
              "      <td>1.4</td>\n",
              "      <td>0.2</td>\n",
              "      <td>Setosa</td>\n",
              "    </tr>\n",
              "    <tr>\n",
              "      <th>1</th>\n",
              "      <td>4.9</td>\n",
              "      <td>3.0</td>\n",
              "      <td>1.4</td>\n",
              "      <td>0.2</td>\n",
              "      <td>Setosa</td>\n",
              "    </tr>\n",
              "    <tr>\n",
              "      <th>2</th>\n",
              "      <td>4.7</td>\n",
              "      <td>3.2</td>\n",
              "      <td>1.3</td>\n",
              "      <td>0.2</td>\n",
              "      <td>Setosa</td>\n",
              "    </tr>\n",
              "    <tr>\n",
              "      <th>3</th>\n",
              "      <td>4.6</td>\n",
              "      <td>3.1</td>\n",
              "      <td>1.5</td>\n",
              "      <td>0.2</td>\n",
              "      <td>Setosa</td>\n",
              "    </tr>\n",
              "    <tr>\n",
              "      <th>4</th>\n",
              "      <td>5.0</td>\n",
              "      <td>3.6</td>\n",
              "      <td>1.4</td>\n",
              "      <td>0.2</td>\n",
              "      <td>Setosa</td>\n",
              "    </tr>\n",
              "    <tr>\n",
              "      <th>...</th>\n",
              "      <td>...</td>\n",
              "      <td>...</td>\n",
              "      <td>...</td>\n",
              "      <td>...</td>\n",
              "      <td>...</td>\n",
              "    </tr>\n",
              "    <tr>\n",
              "      <th>145</th>\n",
              "      <td>6.7</td>\n",
              "      <td>3.0</td>\n",
              "      <td>5.2</td>\n",
              "      <td>2.3</td>\n",
              "      <td>Virginica</td>\n",
              "    </tr>\n",
              "    <tr>\n",
              "      <th>146</th>\n",
              "      <td>6.3</td>\n",
              "      <td>2.5</td>\n",
              "      <td>5.0</td>\n",
              "      <td>1.9</td>\n",
              "      <td>Virginica</td>\n",
              "    </tr>\n",
              "    <tr>\n",
              "      <th>147</th>\n",
              "      <td>6.5</td>\n",
              "      <td>3.0</td>\n",
              "      <td>5.2</td>\n",
              "      <td>2.0</td>\n",
              "      <td>Virginica</td>\n",
              "    </tr>\n",
              "    <tr>\n",
              "      <th>148</th>\n",
              "      <td>6.2</td>\n",
              "      <td>3.4</td>\n",
              "      <td>5.4</td>\n",
              "      <td>2.3</td>\n",
              "      <td>Virginica</td>\n",
              "    </tr>\n",
              "    <tr>\n",
              "      <th>149</th>\n",
              "      <td>5.9</td>\n",
              "      <td>3.0</td>\n",
              "      <td>5.1</td>\n",
              "      <td>1.8</td>\n",
              "      <td>Virginica</td>\n",
              "    </tr>\n",
              "  </tbody>\n",
              "</table>\n",
              "<p>150 rows × 5 columns</p>\n",
              "</div>\n",
              "    <div class=\"colab-df-buttons\">\n",
              "\n",
              "  <div class=\"colab-df-container\">\n",
              "    <button class=\"colab-df-convert\" onclick=\"convertToInteractive('df-de8eaac6-0c21-48db-b250-50507e0ebf22')\"\n",
              "            title=\"Convert this dataframe to an interactive table.\"\n",
              "            style=\"display:none;\">\n",
              "\n",
              "  <svg xmlns=\"http://www.w3.org/2000/svg\" height=\"24px\" viewBox=\"0 -960 960 960\">\n",
              "    <path d=\"M120-120v-720h720v720H120Zm60-500h600v-160H180v160Zm220 220h160v-160H400v160Zm0 220h160v-160H400v160ZM180-400h160v-160H180v160Zm440 0h160v-160H620v160ZM180-180h160v-160H180v160Zm440 0h160v-160H620v160Z\"/>\n",
              "  </svg>\n",
              "    </button>\n",
              "\n",
              "  <style>\n",
              "    .colab-df-container {\n",
              "      display:flex;\n",
              "      gap: 12px;\n",
              "    }\n",
              "\n",
              "    .colab-df-convert {\n",
              "      background-color: #E8F0FE;\n",
              "      border: none;\n",
              "      border-radius: 50%;\n",
              "      cursor: pointer;\n",
              "      display: none;\n",
              "      fill: #1967D2;\n",
              "      height: 32px;\n",
              "      padding: 0 0 0 0;\n",
              "      width: 32px;\n",
              "    }\n",
              "\n",
              "    .colab-df-convert:hover {\n",
              "      background-color: #E2EBFA;\n",
              "      box-shadow: 0px 1px 2px rgba(60, 64, 67, 0.3), 0px 1px 3px 1px rgba(60, 64, 67, 0.15);\n",
              "      fill: #174EA6;\n",
              "    }\n",
              "\n",
              "    .colab-df-buttons div {\n",
              "      margin-bottom: 4px;\n",
              "    }\n",
              "\n",
              "    [theme=dark] .colab-df-convert {\n",
              "      background-color: #3B4455;\n",
              "      fill: #D2E3FC;\n",
              "    }\n",
              "\n",
              "    [theme=dark] .colab-df-convert:hover {\n",
              "      background-color: #434B5C;\n",
              "      box-shadow: 0px 1px 3px 1px rgba(0, 0, 0, 0.15);\n",
              "      filter: drop-shadow(0px 1px 2px rgba(0, 0, 0, 0.3));\n",
              "      fill: #FFFFFF;\n",
              "    }\n",
              "  </style>\n",
              "\n",
              "    <script>\n",
              "      const buttonEl =\n",
              "        document.querySelector('#df-de8eaac6-0c21-48db-b250-50507e0ebf22 button.colab-df-convert');\n",
              "      buttonEl.style.display =\n",
              "        google.colab.kernel.accessAllowed ? 'block' : 'none';\n",
              "\n",
              "      async function convertToInteractive(key) {\n",
              "        const element = document.querySelector('#df-de8eaac6-0c21-48db-b250-50507e0ebf22');\n",
              "        const dataTable =\n",
              "          await google.colab.kernel.invokeFunction('convertToInteractive',\n",
              "                                                    [key], {});\n",
              "        if (!dataTable) return;\n",
              "\n",
              "        const docLinkHtml = 'Like what you see? Visit the ' +\n",
              "          '<a target=\"_blank\" href=https://colab.research.google.com/notebooks/data_table.ipynb>data table notebook</a>'\n",
              "          + ' to learn more about interactive tables.';\n",
              "        element.innerHTML = '';\n",
              "        dataTable['output_type'] = 'display_data';\n",
              "        await google.colab.output.renderOutput(dataTable, element);\n",
              "        const docLink = document.createElement('div');\n",
              "        docLink.innerHTML = docLinkHtml;\n",
              "        element.appendChild(docLink);\n",
              "      }\n",
              "    </script>\n",
              "  </div>\n",
              "\n",
              "\n",
              "<div id=\"df-6902d8bf-bef3-433d-be6a-aeef7ee59611\">\n",
              "  <button class=\"colab-df-quickchart\" onclick=\"quickchart('df-6902d8bf-bef3-433d-be6a-aeef7ee59611')\"\n",
              "            title=\"Suggest charts\"\n",
              "            style=\"display:none;\">\n",
              "\n",
              "<svg xmlns=\"http://www.w3.org/2000/svg\" height=\"24px\"viewBox=\"0 0 24 24\"\n",
              "     width=\"24px\">\n",
              "    <g>\n",
              "        <path d=\"M19 3H5c-1.1 0-2 .9-2 2v14c0 1.1.9 2 2 2h14c1.1 0 2-.9 2-2V5c0-1.1-.9-2-2-2zM9 17H7v-7h2v7zm4 0h-2V7h2v10zm4 0h-2v-4h2v4z\"/>\n",
              "    </g>\n",
              "</svg>\n",
              "  </button>\n",
              "\n",
              "<style>\n",
              "  .colab-df-quickchart {\n",
              "      --bg-color: #E8F0FE;\n",
              "      --fill-color: #1967D2;\n",
              "      --hover-bg-color: #E2EBFA;\n",
              "      --hover-fill-color: #174EA6;\n",
              "      --disabled-fill-color: #AAA;\n",
              "      --disabled-bg-color: #DDD;\n",
              "  }\n",
              "\n",
              "  [theme=dark] .colab-df-quickchart {\n",
              "      --bg-color: #3B4455;\n",
              "      --fill-color: #D2E3FC;\n",
              "      --hover-bg-color: #434B5C;\n",
              "      --hover-fill-color: #FFFFFF;\n",
              "      --disabled-bg-color: #3B4455;\n",
              "      --disabled-fill-color: #666;\n",
              "  }\n",
              "\n",
              "  .colab-df-quickchart {\n",
              "    background-color: var(--bg-color);\n",
              "    border: none;\n",
              "    border-radius: 50%;\n",
              "    cursor: pointer;\n",
              "    display: none;\n",
              "    fill: var(--fill-color);\n",
              "    height: 32px;\n",
              "    padding: 0;\n",
              "    width: 32px;\n",
              "  }\n",
              "\n",
              "  .colab-df-quickchart:hover {\n",
              "    background-color: var(--hover-bg-color);\n",
              "    box-shadow: 0 1px 2px rgba(60, 64, 67, 0.3), 0 1px 3px 1px rgba(60, 64, 67, 0.15);\n",
              "    fill: var(--button-hover-fill-color);\n",
              "  }\n",
              "\n",
              "  .colab-df-quickchart-complete:disabled,\n",
              "  .colab-df-quickchart-complete:disabled:hover {\n",
              "    background-color: var(--disabled-bg-color);\n",
              "    fill: var(--disabled-fill-color);\n",
              "    box-shadow: none;\n",
              "  }\n",
              "\n",
              "  .colab-df-spinner {\n",
              "    border: 2px solid var(--fill-color);\n",
              "    border-color: transparent;\n",
              "    border-bottom-color: var(--fill-color);\n",
              "    animation:\n",
              "      spin 1s steps(1) infinite;\n",
              "  }\n",
              "\n",
              "  @keyframes spin {\n",
              "    0% {\n",
              "      border-color: transparent;\n",
              "      border-bottom-color: var(--fill-color);\n",
              "      border-left-color: var(--fill-color);\n",
              "    }\n",
              "    20% {\n",
              "      border-color: transparent;\n",
              "      border-left-color: var(--fill-color);\n",
              "      border-top-color: var(--fill-color);\n",
              "    }\n",
              "    30% {\n",
              "      border-color: transparent;\n",
              "      border-left-color: var(--fill-color);\n",
              "      border-top-color: var(--fill-color);\n",
              "      border-right-color: var(--fill-color);\n",
              "    }\n",
              "    40% {\n",
              "      border-color: transparent;\n",
              "      border-right-color: var(--fill-color);\n",
              "      border-top-color: var(--fill-color);\n",
              "    }\n",
              "    60% {\n",
              "      border-color: transparent;\n",
              "      border-right-color: var(--fill-color);\n",
              "    }\n",
              "    80% {\n",
              "      border-color: transparent;\n",
              "      border-right-color: var(--fill-color);\n",
              "      border-bottom-color: var(--fill-color);\n",
              "    }\n",
              "    90% {\n",
              "      border-color: transparent;\n",
              "      border-bottom-color: var(--fill-color);\n",
              "    }\n",
              "  }\n",
              "</style>\n",
              "\n",
              "  <script>\n",
              "    async function quickchart(key) {\n",
              "      const quickchartButtonEl =\n",
              "        document.querySelector('#' + key + ' button');\n",
              "      quickchartButtonEl.disabled = true;  // To prevent multiple clicks.\n",
              "      quickchartButtonEl.classList.add('colab-df-spinner');\n",
              "      try {\n",
              "        const charts = await google.colab.kernel.invokeFunction(\n",
              "            'suggestCharts', [key], {});\n",
              "      } catch (error) {\n",
              "        console.error('Error during call to suggestCharts:', error);\n",
              "      }\n",
              "      quickchartButtonEl.classList.remove('colab-df-spinner');\n",
              "      quickchartButtonEl.classList.add('colab-df-quickchart-complete');\n",
              "    }\n",
              "    (() => {\n",
              "      let quickchartButtonEl =\n",
              "        document.querySelector('#df-6902d8bf-bef3-433d-be6a-aeef7ee59611 button');\n",
              "      quickchartButtonEl.style.display =\n",
              "        google.colab.kernel.accessAllowed ? 'block' : 'none';\n",
              "    })();\n",
              "  </script>\n",
              "</div>\n",
              "    </div>\n",
              "  </div>\n"
            ]
          },
          "metadata": {},
          "execution_count": 120
        }
      ]
    },
    {
      "cell_type": "code",
      "source": [
        "# 원핫인코딩\n",
        "ENCODING = pd.get_dummies(pd.read_csv(\"./iris.csv\"))\n",
        "cols = ENCODING.columns.tolist()\n",
        "\n",
        "Indep = ENCODING[cols[:4]]\n",
        "Subord = ENCODING[cols[4:]]\n",
        "print(Indep.shape, Subord.shape)\n",
        "print(len(Subord.columns))\n",
        "# 모델을 만든다.\n",
        "X = keras.layers.Input(shape=[4])\n",
        "Y = keras.layers.Dense(len(Subord.columns), activation = 'softmax')(X)\n",
        "model = keras.models.Model(X, Y)\n",
        "model.compile(loss = \"categorical_crossentropy\",\n",
        "              metrics = \"accuracy\")\n",
        "\n",
        "# 학습\n",
        "model.fit(Indep, Subord, epochs = 10, verbose = 1)\n",
        "\n",
        "\n",
        "# 모델 이용\n",
        "print()\n",
        "print(model.predict(Indep[:5]))\n",
        "print(Subord[:5])"
      ],
      "metadata": {
        "colab": {
          "base_uri": "https://localhost:8080/"
        },
        "id": "n8D7py-I2uqd",
        "outputId": "58a49f50-42a1-4bcb-adb3-1201f6eea260"
      },
      "execution_count": 121,
      "outputs": [
        {
          "output_type": "stream",
          "name": "stdout",
          "text": [
            "(150, 4) (150, 3)\n",
            "3\n",
            "Epoch 1/10\n",
            "5/5 [==============================] - 0s 3ms/step - loss: 1.7853 - accuracy: 0.3333\n",
            "Epoch 2/10\n",
            "5/5 [==============================] - 0s 2ms/step - loss: 1.7213 - accuracy: 0.3200\n",
            "Epoch 3/10\n",
            "5/5 [==============================] - 0s 2ms/step - loss: 1.6827 - accuracy: 0.2800\n",
            "Epoch 4/10\n",
            "5/5 [==============================] - 0s 2ms/step - loss: 1.6528 - accuracy: 0.2333\n",
            "Epoch 5/10\n",
            "5/5 [==============================] - 0s 2ms/step - loss: 1.6265 - accuracy: 0.1933\n",
            "Epoch 6/10\n",
            "5/5 [==============================] - 0s 2ms/step - loss: 1.6048 - accuracy: 0.1933\n",
            "Epoch 7/10\n",
            "5/5 [==============================] - 0s 2ms/step - loss: 1.5843 - accuracy: 0.1400\n",
            "Epoch 8/10\n",
            "5/5 [==============================] - 0s 2ms/step - loss: 1.5650 - accuracy: 0.1200\n",
            "Epoch 9/10\n",
            "5/5 [==============================] - 0s 2ms/step - loss: 1.5469 - accuracy: 0.0933\n",
            "Epoch 10/10\n",
            "5/5 [==============================] - 0s 2ms/step - loss: 1.5317 - accuracy: 0.0800\n",
            "\n",
            "1/1 [==============================] - 0s 35ms/step\n",
            "[[0.08620854 0.123202   0.79058945]\n",
            " [0.12083579 0.13759471 0.74156946]\n",
            " [0.10255785 0.14077163 0.7566705 ]\n",
            " [0.1035284  0.14907242 0.74739915]\n",
            " [0.07829266 0.12487993 0.7968274 ]]\n",
            "   variety_Setosa  variety_Versicolor  variety_Virginica\n",
            "0               1                   0                  0\n",
            "1               1                   0                  0\n",
            "2               1                   0                  0\n",
            "3               1                   0                  0\n",
            "4               1                   0                  0\n"
          ]
        }
      ]
    },
    {
      "cell_type": "markdown",
      "source": [
        "#mnist"
      ],
      "metadata": {
        "id": "u5i7XjSUAURQ"
      }
    },
    {
      "cell_type": "code",
      "source": [
        "(data, answer), (testData, testAnswer) = keras.datasets.mnist.load_data()"
      ],
      "metadata": {
        "id": "A5igL3eTX4Uw"
      },
      "execution_count": 150,
      "outputs": []
    },
    {
      "cell_type": "code",
      "source": [
        "plt.imshow(data[0], cmap = 'gray')\n",
        "plt.show()"
      ],
      "metadata": {
        "colab": {
          "base_uri": "https://localhost:8080/",
          "height": 430
        },
        "id": "6oviH5YwAjFS",
        "outputId": "2ff47d48-d5a6-4409-9435-5f5c4ffbcd90"
      },
      "execution_count": 151,
      "outputs": [
        {
          "output_type": "display_data",
          "data": {
            "text/plain": [
              "<Figure size 640x480 with 1 Axes>"
            ],
            "image/png": "[encoded data removed]"
          },
          "metadata": {}
        }
      ]
    },
    {
      "cell_type": "markdown",
      "source": [
        "데이터 전처리\n",
        "* 값을 0~1 범위의 값으로 변환"
      ],
      "metadata": {
        "id": "yJSMs1i1DF_6"
      }
    },
    {
      "cell_type": "code",
      "source": [],
      "metadata": {
        "id": "7b02Wek-W9DY"
      },
      "execution_count": 151,
      "outputs": []
    },
    {
      "cell_type": "code",
      "source": [
        "data = data / 255\n",
        "testData = testData / 255"
      ],
      "metadata": {
        "id": "czB8EExEAreR"
      },
      "execution_count": 152,
      "outputs": []
    },
    {
      "cell_type": "code",
      "source": [
        "for d in data[999]:\n",
        "  for j in d:\n",
        "    print(f'{j:.1f}', end = ' ')\n",
        "  print()\n",
        "# 6"
      ],
      "metadata": {
        "colab": {
          "base_uri": "https://localhost:8080/"
        },
        "id": "wMtB8G5fBJNT",
        "outputId": "703f4612-b7ac-4c3a-b276-ea991424f908"
      },
      "execution_count": 153,
      "outputs": [
        {
          "output_type": "stream",
          "name": "stdout",
          "text": [
            "0.0 0.0 0.0 0.0 0.0 0.0 0.0 0.0 0.0 0.0 0.0 0.0 0.0 0.0 0.0 0.0 0.0 0.0 0.0 0.0 0.0 0.0 0.0 0.0 0.0 0.0 0.0 0.0 \n",
            "0.0 0.0 0.0 0.0 0.0 0.0 0.0 0.0 0.0 0.0 0.0 0.0 0.0 0.0 0.0 0.0 0.0 0.0 0.0 0.0 0.0 0.0 0.0 0.0 0.0 0.0 0.0 0.0 \n",
            "0.0 0.0 0.0 0.0 0.0 0.0 0.0 0.0 0.0 0.0 0.0 0.0 0.0 0.0 0.0 0.0 0.0 0.0 0.0 0.0 0.6 0.8 0.1 0.0 0.0 0.0 0.0 0.0 \n",
            "0.0 0.0 0.0 0.0 0.0 0.0 0.0 0.0 0.0 0.0 0.0 0.0 0.0 0.0 0.0 0.0 0.0 0.0 0.0 0.5 1.0 1.0 0.3 0.0 0.0 0.0 0.0 0.0 \n",
            "0.0 0.0 0.0 0.0 0.0 0.0 0.0 0.0 0.0 0.0 0.0 0.0 0.0 0.0 0.0 0.0 0.0 0.0 0.2 1.0 1.0 0.7 0.0 0.0 0.0 0.0 0.0 0.0 \n",
            "0.0 0.0 0.0 0.0 0.0 0.0 0.0 0.0 0.0 0.0 0.0 0.0 0.0 0.0 0.0 0.0 0.0 0.1 0.9 1.0 0.8 0.1 0.0 0.0 0.0 0.0 0.0 0.0 \n",
            "0.0 0.0 0.0 0.0 0.0 0.0 0.0 0.0 0.0 0.0 0.0 0.0 0.0 0.0 0.0 0.0 0.1 0.8 1.0 0.9 0.2 0.0 0.0 0.0 0.0 0.0 0.0 0.0 \n",
            "0.0 0.0 0.0 0.0 0.0 0.0 0.0 0.0 0.0 0.0 0.0 0.0 0.0 0.0 0.0 0.0 0.7 1.0 1.0 0.2 0.0 0.0 0.0 0.0 0.0 0.0 0.0 0.0 \n",
            "0.0 0.0 0.0 0.0 0.0 0.0 0.0 0.0 0.0 0.0 0.0 0.0 0.0 0.0 0.1 0.8 1.0 1.0 0.4 0.0 0.0 0.0 0.0 0.0 0.0 0.0 0.0 0.0 \n",
            "0.0 0.0 0.0 0.0 0.0 0.0 0.0 0.0 0.0 0.0 0.0 0.0 0.0 0.0 0.6 1.0 1.0 0.4 0.0 0.0 0.0 0.0 0.0 0.0 0.0 0.0 0.0 0.0 \n",
            "0.0 0.0 0.0 0.0 0.0 0.0 0.0 0.0 0.0 0.0 0.0 0.0 0.0 0.5 1.0 1.0 0.4 0.0 0.0 0.0 0.0 0.0 0.0 0.0 0.0 0.0 0.0 0.0 \n",
            "0.0 0.0 0.0 0.0 0.0 0.0 0.0 0.0 0.0 0.0 0.0 0.0 0.6 1.0 1.0 0.5 0.0 0.0 0.0 0.0 0.0 0.0 0.0 0.0 0.0 0.0 0.0 0.0 \n",
            "0.0 0.0 0.0 0.0 0.0 0.0 0.0 0.0 0.0 0.0 0.0 0.7 1.0 1.0 0.5 0.0 0.0 0.1 0.4 0.1 0.0 0.0 0.0 0.0 0.0 0.0 0.0 0.0 \n",
            "0.0 0.0 0.0 0.0 0.0 0.0 0.0 0.0 0.0 0.0 0.4 1.0 1.0 0.5 0.0 0.1 0.7 1.0 1.0 1.0 0.3 0.0 0.0 0.0 0.0 0.0 0.0 0.0 \n",
            "0.0 0.0 0.0 0.0 0.0 0.0 0.0 0.0 0.0 0.3 1.0 1.0 0.5 0.1 0.3 0.8 1.0 0.9 0.9 1.0 0.6 0.0 0.0 0.0 0.0 0.0 0.0 0.0 \n",
            "0.0 0.0 0.0 0.0 0.0 0.0 0.0 0.0 0.1 0.9 1.0 0.7 0.1 0.4 1.0 1.0 0.7 0.2 0.8 1.0 0.3 0.0 0.0 0.0 0.0 0.0 0.0 0.0 \n",
            "0.0 0.0 0.0 0.0 0.0 0.0 0.0 0.0 0.6 1.0 0.9 0.2 0.5 1.0 1.0 0.6 0.0 0.7 1.0 0.9 0.0 0.0 0.0 0.0 0.0 0.0 0.0 0.0 \n",
            "0.0 0.0 0.0 0.0 0.0 0.0 0.0 0.2 0.9 1.0 0.4 0.3 1.0 1.0 0.4 0.1 0.6 1.0 0.9 0.3 0.0 0.0 0.0 0.0 0.0 0.0 0.0 0.0 \n",
            "0.0 0.0 0.0 0.0 0.0 0.0 0.0 0.3 1.0 0.9 0.1 0.8 1.0 0.7 0.4 0.8 1.0 0.9 0.3 0.0 0.0 0.0 0.0 0.0 0.0 0.0 0.0 0.0 \n",
            "0.0 0.0 0.0 0.0 0.0 0.0 0.0 0.5 1.0 0.7 0.2 1.0 1.0 0.9 1.0 1.0 0.8 0.2 0.0 0.0 0.0 0.0 0.0 0.0 0.0 0.0 0.0 0.0 \n",
            "0.0 0.0 0.0 0.0 0.0 0.0 0.0 0.2 0.9 1.0 1.0 1.0 1.0 1.0 0.8 0.5 0.0 0.0 0.0 0.0 0.0 0.0 0.0 0.0 0.0 0.0 0.0 0.0 \n",
            "0.0 0.0 0.0 0.0 0.0 0.0 0.0 0.0 0.4 0.7 1.0 1.0 0.7 0.3 0.0 0.0 0.0 0.0 0.0 0.0 0.0 0.0 0.0 0.0 0.0 0.0 0.0 0.0 \n",
            "0.0 0.0 0.0 0.0 0.0 0.0 0.0 0.0 0.0 0.0 0.0 0.0 0.0 0.0 0.0 0.0 0.0 0.0 0.0 0.0 0.0 0.0 0.0 0.0 0.0 0.0 0.0 0.0 \n",
            "0.0 0.0 0.0 0.0 0.0 0.0 0.0 0.0 0.0 0.0 0.0 0.0 0.0 0.0 0.0 0.0 0.0 0.0 0.0 0.0 0.0 0.0 0.0 0.0 0.0 0.0 0.0 0.0 \n",
            "0.0 0.0 0.0 0.0 0.0 0.0 0.0 0.0 0.0 0.0 0.0 0.0 0.0 0.0 0.0 0.0 0.0 0.0 0.0 0.0 0.0 0.0 0.0 0.0 0.0 0.0 0.0 0.0 \n",
            "0.0 0.0 0.0 0.0 0.0 0.0 0.0 0.0 0.0 0.0 0.0 0.0 0.0 0.0 0.0 0.0 0.0 0.0 0.0 0.0 0.0 0.0 0.0 0.0 0.0 0.0 0.0 0.0 \n",
            "0.0 0.0 0.0 0.0 0.0 0.0 0.0 0.0 0.0 0.0 0.0 0.0 0.0 0.0 0.0 0.0 0.0 0.0 0.0 0.0 0.0 0.0 0.0 0.0 0.0 0.0 0.0 0.0 \n",
            "0.0 0.0 0.0 0.0 0.0 0.0 0.0 0.0 0.0 0.0 0.0 0.0 0.0 0.0 0.0 0.0 0.0 0.0 0.0 0.0 0.0 0.0 0.0 0.0 0.0 0.0 0.0 0.0 \n"
          ]
        }
      ]
    },
    {
      "cell_type": "markdown",
      "source": [
        "## 모델 구조 작성\n",
        "* 입력층, 은닉층, 출력층 생성\n",
        "* 활성화 함수\n",
        "  * 은닉층 : ReLU 함수\n",
        "  * 출력층 : softmax 함수\n"
      ],
      "metadata": {
        "id": "0bKNEAF_BgVs"
      }
    },
    {
      "cell_type": "code",
      "source": [
        "model = keras.models.Sequential([\n",
        "    keras.layers.Flatten(input_shape = [28, 28]), # 입력층, 1차원 이미지 배열로 변환\n",
        "    keras.layers.Dense(200, activation = 'relu'), # 은닉층\n",
        "    keras.layers.Dense(100, activation = 'relu'),# 은닉층\n",
        "    keras.layers.Dense(50, activation = 'relu'),# 은닉층\n",
        "    keras.layers.Dense(10, activation = 'softmax'), # 출력층\n",
        "])"
      ],
      "metadata": {
        "id": "dbD58-a5Bfee"
      },
      "execution_count": 154,
      "outputs": []
    },
    {
      "cell_type": "markdown",
      "source": [
        "## 컴파일\n",
        "1. 학습 방법 설정\n",
        "  * 손실 함수, 최적화 함수, 평가 지표 종류 선택\n",
        "\n",
        "  * 손실 함수\n",
        "    * 예측값과 실제값 사이의 차이를 수치로 나타내는 함수\n",
        "    * 이진 분류 모델 : binary_crossentropy\n",
        "    * 다중 분류 모델\n",
        "      * 정답이 원-핫 인코딩 : categorical_crossentropy\n",
        "      * 정답이 정수일 때 : sparse_categorical_crossentropy\n",
        "    * 회귀 모델 : 평균 제곱 오차 (Mean Squared Error, MSE)\n",
        "  \n",
        "  \n",
        "  2. 최적화 함수\n",
        "    * 손실 함수의 값을 최소화하도록 가중치와 바이어스를 수정해 나가는 함수\n",
        "    * 경사 하강법 : Gradient Descent\n",
        "    * 확률적 경사 하강법 : Stochastic Gradient Descent\n",
        "    * Adam\n",
        "  \n",
        "\n",
        "  3. 평가 지표\n",
        "    * 모델이 얼마나 잘 분류, 예측 하는지를 평가하는 지표\n",
        "    * 분류 모델 : Accuracy, Recall, Precision\n",
        "    * 회귀 모델 : MAE\n",
        "  "
      ],
      "metadata": {
        "id": "BXS5Vme0CMMI"
      }
    },
    {
      "cell_type": "code",
      "source": [
        "model.compile(optimizer = \"adam\", # 최적화\n",
        "              loss = 'sparse_categorical_crossentropy', # 손실 함수\n",
        "              metrics = 'accuracy' # 평가 지표\n",
        "              )"
      ],
      "metadata": {
        "id": "TIWvKscGCM-3"
      },
      "execution_count": 155,
      "outputs": []
    },
    {
      "cell_type": "markdown",
      "source": [
        "## 학습\n",
        "1. 반복 학습 횟수 (epochs) 설정\n",
        "  * 너무 많으면 훈련용 데이터만 정확히 예측하는 과대적합 문제 발생"
      ],
      "metadata": {
        "id": "jSu2iLLNFF5H"
      }
    },
    {
      "cell_type": "code",
      "source": [
        "model.fit(data, answer, epochs = 5)"
      ],
      "metadata": {
        "colab": {
          "base_uri": "https://localhost:8080/"
        },
        "id": "dHWhAddBFUBG",
        "outputId": "11f8a3f5-be7f-4d32-a593-cf9bed40a584"
      },
      "execution_count": 156,
      "outputs": [
        {
          "output_type": "stream",
          "name": "stdout",
          "text": [
            "Epoch 1/5\n",
            "1875/1875 [==============================] - 7s 4ms/step - loss: 0.2257 - accuracy: 0.9323\n",
            "Epoch 2/5\n",
            "1875/1875 [==============================] - 5s 3ms/step - loss: 0.0931 - accuracy: 0.9715\n",
            "Epoch 3/5\n",
            "1875/1875 [==============================] - 6s 3ms/step - loss: 0.0683 - accuracy: 0.9787\n",
            "Epoch 4/5\n",
            "1875/1875 [==============================] - 5s 3ms/step - loss: 0.0517 - accuracy: 0.9829\n",
            "Epoch 5/5\n",
            "1875/1875 [==============================] - 6s 3ms/step - loss: 0.0410 - accuracy: 0.9870\n"
          ]
        },
        {
          "output_type": "execute_result",
          "data": {
            "text/plain": [
              "<keras.src.callbacks.History at 0x79c1877ae9b0>"
            ]
          },
          "metadata": {},
          "execution_count": 156
        }
      ]
    },
    {
      "cell_type": "code",
      "source": [
        "model.summary()"
      ],
      "metadata": {
        "colab": {
          "base_uri": "https://localhost:8080/"
        },
        "id": "iGmjzQjyFpOx",
        "outputId": "a0c2a207-f2dc-4e26-f9be-bf99d6edba62"
      },
      "execution_count": 157,
      "outputs": [
        {
          "output_type": "stream",
          "name": "stdout",
          "text": [
            "Model: \"sequential_2\"\n",
            "_________________________________________________________________\n",
            " Layer (type)                Output Shape              Param #   \n",
            "=================================================================\n",
            " flatten_2 (Flatten)         (None, 784)               0         \n",
            "                                                                 \n",
            " dense_24 (Dense)            (None, 200)               157000    \n",
            "                                                                 \n",
            " dense_25 (Dense)            (None, 100)               20100     \n",
            "                                                                 \n",
            " dense_26 (Dense)            (None, 50)                5050      \n",
            "                                                                 \n",
            " dense_27 (Dense)            (None, 10)                510       \n",
            "                                                                 \n",
            "=================================================================\n",
            "Total params: 182660 (713.52 KB)\n",
            "Trainable params: 182660 (713.52 KB)\n",
            "Non-trainable params: 0 (0.00 Byte)\n",
            "_________________________________________________________________\n"
          ]
        }
      ]
    },
    {
      "cell_type": "markdown",
      "source": [
        "모델 평가"
      ],
      "metadata": {
        "id": "7S-UGqv5F1cK"
      }
    },
    {
      "cell_type": "code",
      "source": [
        "model.evaluate(testData, testAnswer)"
      ],
      "metadata": {
        "colab": {
          "base_uri": "https://localhost:8080/"
        },
        "id": "-2gQxDGeF2hA",
        "outputId": "c27c6e8b-0b5b-4ced-9f0e-cc71094f1e9d"
      },
      "execution_count": 158,
      "outputs": [
        {
          "output_type": "stream",
          "name": "stdout",
          "text": [
            "313/313 [==============================] - 1s 2ms/step - loss: 0.0723 - accuracy: 0.9791\n"
          ]
        },
        {
          "output_type": "execute_result",
          "data": {
            "text/plain": [
              "[0.07225316017866135, 0.9790999889373779]"
            ]
          },
          "metadata": {},
          "execution_count": 158
        }
      ]
    },
    {
      "cell_type": "code",
      "source": [
        "pred = model.predict(testData)\n",
        "print(type(pred), pred.shape)"
      ],
      "metadata": {
        "colab": {
          "base_uri": "https://localhost:8080/"
        },
        "id": "mAv58QBXF8uZ",
        "outputId": "2cf8b844-170b-4e4a-9dc2-95f9305fe4f5"
      },
      "execution_count": 159,
      "outputs": [
        {
          "output_type": "stream",
          "name": "stdout",
          "text": [
            "313/313 [==============================] - 1s 1ms/step\n",
            "<class 'numpy.ndarray'> (10000, 10)\n"
          ]
        }
      ]
    },
    {
      "cell_type": "code",
      "source": [
        "print(model.predict(testData).round(2)[:5])"
      ],
      "metadata": {
        "colab": {
          "base_uri": "https://localhost:8080/"
        },
        "id": "V2jKUpDVGLmL",
        "outputId": "5afad546-4f3c-4da6-a305-b9c7e6101c69"
      },
      "execution_count": 160,
      "outputs": [
        {
          "output_type": "stream",
          "name": "stdout",
          "text": [
            "313/313 [==============================] - 0s 1ms/step\n",
            "[[0. 0. 0. 0. 0. 0. 0. 1. 0. 0.]\n",
            " [0. 0. 1. 0. 0. 0. 0. 0. 0. 0.]\n",
            " [0. 1. 0. 0. 0. 0. 0. 0. 0. 0.]\n",
            " [1. 0. 0. 0. 0. 0. 0. 0. 0. 0.]\n",
            " [0. 0. 0. 0. 1. 0. 0. 0. 0. 0.]]\n"
          ]
        }
      ]
    },
    {
      "cell_type": "code",
      "source": [
        "plt.imshow(testData[0])\n",
        "plt.show()"
      ],
      "metadata": {
        "colab": {
          "base_uri": "https://localhost:8080/",
          "height": 430
        },
        "id": "AcmVNjg5GO3y",
        "outputId": "5b7702e4-a2d7-4334-e329-c22bec099aa9"
      },
      "execution_count": 161,
      "outputs": [
        {
          "output_type": "display_data",
          "data": {
            "text/plain": [
              "<Figure size 640x480 with 1 Axes>"
            ],
            "image/png": "[encoded data removed]"
          },
          "metadata": {}
        }
      ]
    },
    {
      "cell_type": "markdown",
      "source": [
        "데이터 예측"
      ],
      "metadata": {
        "id": "gtLgzPpDGbdb"
      }
    },
    {
      "cell_type": "code",
      "source": [
        "plt.imshow(testData[46], cmap='gray')\n",
        "plt.show()"
      ],
      "metadata": {
        "colab": {
          "base_uri": "https://localhost:8080/",
          "height": 430
        },
        "id": "bLhUTG0yGa80",
        "outputId": "d9f28db8-8545-4e75-ab9b-d64300e51386"
      },
      "execution_count": 162,
      "outputs": [
        {
          "output_type": "display_data",
          "data": {
            "text/plain": [
              "<Figure size 640x480 with 1 Axes>"
            ],
            "image/png": "[encoded data removed]"
          },
          "metadata": {}
        }
      ]
    },
    {
      "cell_type": "code",
      "source": [
        "pred = model.predict(testData[46].reshape(1, 28, 28))\n",
        "print(type(pred), pred.shape)\n",
        "print(pred.round(2))\n",
        "print(np.argmax(pred), testAnswer[46])"
      ],
      "metadata": {
        "colab": {
          "base_uri": "https://localhost:8080/"
        },
        "id": "STUmWzHTGhQs",
        "outputId": "a928c4a2-27bc-40f9-e5ab-60a84e1c9c49"
      },
      "execution_count": 163,
      "outputs": [
        {
          "output_type": "stream",
          "name": "stdout",
          "text": [
            "1/1 [==============================] - 0s 17ms/step\n",
            "<class 'numpy.ndarray'> (1, 10)\n",
            "[[0. 1. 0. 0. 0. 0. 0. 0. 0. 0.]]\n",
            "1 1\n"
          ]
        }
      ]
    }
  ]
}