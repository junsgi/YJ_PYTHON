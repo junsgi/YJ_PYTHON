{
  "nbformat": 4,
  "nbformat_minor": 0,
  "metadata": {
    "colab": {
      "provenance": []
    },
    "kernelspec": {
      "name": "python3", 
      "display_name": "Python 3"
    },
    "language_info": {
      "name": "python"
    }
  },
  "cells": [
    {
      "cell_type": "markdown",
      "source": [
        "56마리 농어의 3가지 특성을 가진 데이터를 불러옴"
      ],
      "metadata": {
        "id": "sjsYzhclWnUc"
      }
    },
    {
      "cell_type": "code",
      "execution_count": 83,
      "metadata": {
        "id": "wXE2znetTjKS"
      },
      "outputs": [],
      "source": [
        "import pandas as pd\n",
        "import numpy as np\n",
        "import matplotlib.pyplot as plt\n",
        "from sklearn.model_selection import train_test_split\n",
        "from sklearn.linear_model import LinearRegression, Ridge, Lasso\n",
        "from sklearn.preprocessing import PolynomialFeatures, StandardScaler"
      ]
    },
    {
      "cell_type": "code",
      "source": [
        "df = pd.read_csv(\"https://bit.ly/perch_csv_data\")\n",
        "fish = pd.read_csv(\"./Fish.csv\")\n",
        "perch_weight = fish[\"Weight\"][fish[\"Species\"] == \"Perch\"].to_numpy()\n",
        "perch_full = df.to_numpy()\n",
        "print(perch_full.shape)\n",
        "print(perch_full[:5])"
      ],
      "metadata": {
        "colab": {
          "base_uri": "https://localhost:8080/"
        },
        "id": "T90MmHfRXKtM",
        "outputId": "afeb1978-c1b6-4479-d114-bd4e95fe0c72"
      },
      "execution_count": 84,
      "outputs": [
        {
          "output_type": "stream",
          "name": "stdout",
          "text": [
            "(56, 3)\n",
            "[[ 8.4   2.11  1.41]\n",
            " [13.7   3.53  2.  ]\n",
            " [15.    3.82  2.43]\n",
            " [16.2   4.59  2.63]\n",
            " [17.4   4.59  2.94]]\n"
          ]
        }
      ]
    },
    {
      "cell_type": "markdown",
      "source": [
        "데이터 준비"
      ],
      "metadata": {
        "id": "gWBA8M69X1Kr"
      }
    },
    {
      "cell_type": "code",
      "source": [
        "train_input, test_input, train_target, test_target = train_test_split(perch_full, perch_weight, random_state = 42)\n",
        "print(train_input.shape)\n",
        "print(test_input.shape)\n",
        "print(train_target.shape)\n",
        "print(test_target.shape)"
      ],
      "metadata": {
        "colab": {
          "base_uri": "https://localhost:8080/"
        },
        "id": "tMDd38kWX2GM",
        "outputId": "7b47b320-aa3c-4582-9950-b9e9550a6c13"
      },
      "execution_count": 85,
      "outputs": [
        {
          "output_type": "stream",
          "name": "stdout",
          "text": [
            "(42, 3)\n",
            "(14, 3)\n",
            "(42,)\n",
            "(14,)\n"
          ]
        }
      ]
    },
    {
      "cell_type": "markdown",
      "source": [
        "## 변환기 실습"
      ],
      "metadata": {
        "id": "ofyrdd-zYkwj"
      }
    },
    {
      "cell_type": "markdown",
      "source": [
        "변환기는 수집한 특성을 만들거나 전처리하기 위한 클래스임   \n",
        "변환기 클래스는 fit(), transform() 메서드를 포함한다.\n"
      ],
      "metadata": {
        "id": "fL2zyu3OY0gz"
      }
    },
    {
      "cell_type": "code",
      "source": [
        "poly = PolynomialFeatures(include_bias = False)\n",
        "print(train_input[0])\n",
        "poly.fit([train_input[0]])\n",
        "print(poly.transform([train_input[0]]))\n",
        "print(\"(X[0]) (X[1]) (X[2]) (X[0] ** 2) (X[0] * X[1]) (X[0] * X[2]) (X[1] ** 2) (X[1] * X[2]) (X[2] ** 2)\")"
      ],
      "metadata": {
        "colab": {
          "base_uri": "https://localhost:8080/"
        },
        "id": "Xn5Gm4wdYmTT",
        "outputId": "7ab762a8-62d7-4c30-fb74-3ac46d98ef85"
      },
      "execution_count": 86,
      "outputs": [
        {
          "output_type": "stream",
          "name": "stdout",
          "text": [
            "[19.6   5.14  3.04]\n",
            "[[ 19.6      5.14     3.04   384.16   100.744   59.584   26.4196  15.6256\n",
            "    9.2416]]\n",
            "(X[0]) (X[1]) (X[2]) (X[0] ** 2) (X[0] * X[1]) (X[0] * X[2]) (X[1] ** 2) (X[1] * X[2]) (X[2] ** 2)\n"
          ]
        }
      ]
    },
    {
      "cell_type": "markdown",
      "source": [
        "## 농어 테스트 셋 적용"
      ],
      "metadata": {
        "id": "bwqSRHB1a7_z"
      }
    },
    {
      "cell_type": "code",
      "source": [
        "poly2 = PolynomialFeatures(include_bias = 0 == 1)\n",
        "poly2.fit(train_input)\n",
        "train_poly = poly2.transform(train_input)\n",
        "test_poly = poly2.transform(test_input)\n",
        "\n",
        "print(train_poly.shape)\n",
        "print(train_poly[:3])\n",
        "print(poly2.get_feature_names_out())"
      ],
      "metadata": {
        "colab": {
          "base_uri": "https://localhost:8080/"
        },
        "id": "81mh5gkua-k8",
        "outputId": "057f70be-dedc-47bf-ad79-95042e387278"
      },
      "execution_count": 87,
      "outputs": [
        {
          "output_type": "stream",
          "name": "stdout",
          "text": [
            "(42, 9)\n",
            "[[ 19.6      5.14     3.04   384.16   100.744   59.584   26.4196  15.6256\n",
            "    9.2416]\n",
            " [ 22.       5.88     3.52   484.     129.36    77.44    34.5744  20.6976\n",
            "   12.3904]\n",
            " [ 18.7      5.2      3.12   349.69    97.24    58.344   27.04    16.224\n",
            "    9.7344]]\n",
            "['x0' 'x1' 'x2' 'x0^2' 'x0 x1' 'x0 x2' 'x1^2' 'x1 x2' 'x2^2']\n"
          ]
        }
      ]
    },
    {
      "cell_type": "markdown",
      "source": [
        "훈련"
      ],
      "metadata": {
        "id": "pDZTZYNhb3z6"
      }
    },
    {
      "cell_type": "code",
      "source": [
        "lr = LinearRegression()\n",
        "lr.fit(train_poly, train_target)\n",
        "print(lr.score(train_poly, train_target))\n",
        "print(lr.score(test_poly, test_target))\n",
        "# 변환기 클래스를 통해 특성을 추가하여 과소적합 문제 해결"
      ],
      "metadata": {
        "colab": {
          "base_uri": "https://localhost:8080/"
        },
        "id": "BavmuNI7b3mD",
        "outputId": "f8490cc8-f3d5-4d06-fe05-728ea489f5c7"
      },
      "execution_count": 88,
      "outputs": [
        {
          "output_type": "stream",
          "name": "stdout",
          "text": [
            "0.9903183436982125\n",
            "0.9714559911594111\n"
          ]
        }
      ]
    },
    {
      "cell_type": "markdown",
      "source": [
        "특성이 무조건 많다고 좋은가?"
      ],
      "metadata": {
        "id": "cc3j0c1MgQej"
      }
    },
    {
      "cell_type": "code",
      "source": [
        "poly2 = PolynomialFeatures(degree = 5, include_bias = 0 == 1) # 5제곱 항까지 추가\n",
        "poly2.fit(train_input)\n",
        "train_poly = poly2.transform(train_input)\n",
        "test_poly = poly2.transform(test_input)\n",
        "\n",
        "print(train_poly.shape)\n",
        "print(poly2.get_feature_names_out())\n",
        "lr = LinearRegression()\n",
        "lr.fit(train_poly, train_target)\n",
        "print(lr.score(train_poly, train_target))\n",
        "print(lr.score(test_poly, test_target))\n",
        "# 훈련 데이터의 점수는 좋지만 테스트 데이터의 점수가 안 좋으므로 과대적합임"
      ],
      "metadata": {
        "colab": {
          "base_uri": "https://localhost:8080/"
        },
        "id": "cHh9r3_XgSZj",
        "outputId": "71b071e7-6e21-4519-ab05-d92932d4c598"
      },
      "execution_count": 89,
      "outputs": [
        {
          "output_type": "stream",
          "name": "stdout",
          "text": [
            "(42, 55)\n",
            "['x0' 'x1' 'x2' 'x0^2' 'x0 x1' 'x0 x2' 'x1^2' 'x1 x2' 'x2^2' 'x0^3'\n",
            " 'x0^2 x1' 'x0^2 x2' 'x0 x1^2' 'x0 x1 x2' 'x0 x2^2' 'x1^3' 'x1^2 x2'\n",
            " 'x1 x2^2' 'x2^3' 'x0^4' 'x0^3 x1' 'x0^3 x2' 'x0^2 x1^2' 'x0^2 x1 x2'\n",
            " 'x0^2 x2^2' 'x0 x1^3' 'x0 x1^2 x2' 'x0 x1 x2^2' 'x0 x2^3' 'x1^4'\n",
            " 'x1^3 x2' 'x1^2 x2^2' 'x1 x2^3' 'x2^4' 'x0^5' 'x0^4 x1' 'x0^4 x2'\n",
            " 'x0^3 x1^2' 'x0^3 x1 x2' 'x0^3 x2^2' 'x0^2 x1^3' 'x0^2 x1^2 x2'\n",
            " 'x0^2 x1 x2^2' 'x0^2 x2^3' 'x0 x1^4' 'x0 x1^3 x2' 'x0 x1^2 x2^2'\n",
            " 'x0 x1 x2^3' 'x0 x2^4' 'x1^5' 'x1^4 x2' 'x1^3 x2^2' 'x1^2 x2^3' 'x1 x2^4'\n",
            " 'x2^5']\n",
            "0.9999999999996433\n",
            "-144.40579436844948\n"
          ]
        }
      ]
    },
    {
      "cell_type": "markdown",
      "source": [
        "# 규제"
      ],
      "metadata": {
        "id": "sHZkY2GThxBN"
      }
    },
    {
      "cell_type": "markdown",
      "source": [
        "* 과도하게 학습하지 못하게 통제\n",
        "* 과대적합 되지 않도록 함\n",
        "* 선형회귀의 경우 특성에 곱해지는 계수(기울기)를 작게 만드는 것"
      ],
      "metadata": {
        "id": "ACYoTsXwh1EM"
      }
    },
    {
      "cell_type": "markdown",
      "source": [
        "평균과 표준편차를 이용하여 정규화"
      ],
      "metadata": {
        "id": "q2OKWJ6Sj5uz"
      }
    },
    {
      "cell_type": "code",
      "source": [
        "ss = StandardScaler()\n",
        "ss.fit(train_poly)\n",
        "train_scaled = ss.transform(train_poly)\n",
        "test_scaled = ss.transform(test_poly)\n",
        "train_set = train_scaled, train_target\n",
        "test_set = test_scaled, test_target"
      ],
      "metadata": {
        "id": "wF0I6jobiw6r"
      },
      "execution_count": 90,
      "outputs": []
    },
    {
      "cell_type": "markdown",
      "source": [
        "## 릿지, 라쏘\n",
        "* 선형회귀 모델에 규제를 추가한 모델\n",
        "* ridge : 계수를 제곱한 값을 기준으로 규제\n",
        "* lasso : 계수의 절대값을 기준으로 규제 적용, 계수가 0이 될 수 있음"
      ],
      "metadata": {
        "id": "BXdP2SePkSV0"
      }
    },
    {
      "cell_type": "markdown",
      "source": [
        "* 특성 중요도가 비슷하면 릿지\n",
        "* 일부만 중요하면 라쏘"
      ],
      "metadata": {
        "id": "VHbOHlXJkjnU"
      }
    },
    {
      "cell_type": "code",
      "source": [
        "# 농어 입력은 중요도가 전부 비슷하므로 릿지 회귀방법으로 과대적합 해결\n",
        "ridge = Ridge()\n",
        "ridge.fit(train_scaled, train_target)\n",
        "print(ridge.score(train_scaled, train_target))\n",
        "print(ridge.score(test_scaled, test_target))"
      ],
      "metadata": {
        "colab": {
          "base_uri": "https://localhost:8080/"
        },
        "id": "yUCf4SFclG2L",
        "outputId": "f47108c2-7629-461c-f053-fd35e32d4bb8"
      },
      "execution_count": 91,
      "outputs": [
        {
          "output_type": "stream",
          "name": "stdout",
          "text": [
            "0.9896101671037343\n",
            "0.9790693977615387\n"
          ]
        }
      ]
    },
    {
      "cell_type": "markdown",
      "source": [
        "alpha값 찾기   \n",
        "?) L2 항을 곱한 상수로 정규화를 제어합니다"
      ],
      "metadata": {
        "id": "8ZsqwEtFnitl"
      }
    },
    {
      "cell_type": "code",
      "source": [
        "train_score = []\n",
        "test_score = []\n",
        "alpha_list = [0.001, 0.01, 0.1, 1, 10, 100]\n",
        "for alpha in alpha_list:\n",
        "  ridge = Ridge(alpha = alpha)\n",
        "  ridge.fit(train_scaled, train_target)\n",
        "  train_score.append(ridge.score(train_scaled, train_target))\n",
        "  test_score.append(ridge.score(test_scaled, test_target))\n",
        "\n",
        "plt.plot(np.log10(alpha_list), train_score)\n",
        "plt.plot(np.log10(alpha_list), test_score)\n",
        "plt.xlabel(\"log10(alpha)\")\n",
        "plt.ylabel(\"R^2\")\n",
        "plt.show()"
      ],
      "metadata": {
        "colab": {
          "base_uri": "https://localhost:8080/",
          "height": 449
        },
        "id": "1WpcJ1bEmebs",
        "outputId": "5714ace2-5444-48a1-c544-b2e3fa89e7fe"
      },
      "execution_count": 92,
      "outputs": [
        {
          "output_type": "display_data",
          "data": {
            "text/plain": [
              "<Figure size 640x480 with 1 Axes>"
            ],
            "image/png": "[encoded data removed]"
          },
          "metadata": {}
        }
      ]
    },
    {
      "cell_type": "markdown",
      "source": [
        "0.1이 가장 적합"
      ],
      "metadata": {
        "id": "buFXGR31nXJU"
      }
    },
    {
      "cell_type": "code",
      "source": [
        "ridge = Ridge(alpha = 0.1)\n",
        "ridge.fit(train_scaled, train_target)\n",
        "print(ridge.score(train_scaled, train_target))\n",
        "print(ridge.score(test_scaled, test_target))"
      ],
      "metadata": {
        "colab": {
          "base_uri": "https://localhost:8080/"
        },
        "id": "rFK68xssnskE",
        "outputId": "f49adbb1-16a7-4242-ae4b-502adc2f4b08"
      },
      "execution_count": 93,
      "outputs": [
        {
          "output_type": "stream",
          "name": "stdout",
          "text": [
            "0.9903815817570367\n",
            "0.9827976465386928\n"
          ]
        }
      ]
    },
    {
      "cell_type": "markdown",
      "source": [
        "## 라쏘"
      ],
      "metadata": {
        "id": "rJflEMLJn2hL"
      }
    },
    {
      "cell_type": "code",
      "source": [
        "lasso = Lasso()\n",
        "lasso.fit(*train_set)\n",
        "print(lasso.score(*train_set))\n",
        "print(lasso.score(*test_set))"
      ],
      "metadata": {
        "colab": {
          "base_uri": "https://localhost:8080/"
        },
        "id": "9duhaMRHn5G0",
        "outputId": "53272a4a-06cf-4ab0-cd78-887f50d12485"
      },
      "execution_count": 94,
      "outputs": [
        {
          "output_type": "stream",
          "name": "stdout",
          "text": [
            "0.989789897208096\n",
            "0.9800593698421883\n"
          ]
        }
      ]
    },
    {
      "cell_type": "markdown",
      "source": [
        "라쏘 alpha값 찾기"
      ],
      "metadata": {
        "id": "HILNYm8soPgr"
      }
    },
    {
      "cell_type": "code",
      "source": [
        "s1 = []\n",
        "s2 = []\n",
        "aL = [1e-3, 1e-2, 1e-1, 1, 1e1, 1e2]\n",
        "\n",
        "for a in aL:\n",
        "  lasso = Lasso(alpha = a, max_iter = 10_000)\n",
        "  lasso.fit(*train_set)\n",
        "  s1.append(lasso.score(*train_set))\n",
        "  s2.append(lasso.score(*test_set))\n",
        "\n",
        "plt.plot(np.log10(aL), s1)\n",
        "plt.plot(np.log10(aL), s2)\n",
        "plt.xlabel(\"log10(alpha)\")\n",
        "plt.ylabel(\"R^2\")\n",
        "plt.show()\n",
        "# 1e1이 가장 적절"
      ],
      "metadata": {
        "colab": {
          "base_uri": "https://localhost:8080/",
          "height": 542
        },
        "id": "JIp4_0MSoRrM",
        "outputId": "814d203a-a98a-46da-8b4c-74276c26aa81"
      },
      "execution_count": 95,
      "outputs": [
        {
          "output_type": "stream",
          "name": "stderr",
          "text": [
            "/usr/local/lib/python3.10/dist-packages/sklearn/linear_model/_coordinate_descent.py:631: ConvergenceWarning: Objective did not converge. You might want to increase the number of iterations, check the scale of the features or consider increasing regularisation. Duality gap: 1.878e+04, tolerance: 5.183e+02\n",
            "  model = cd_fast.enet_coordinate_descent(\n",
            "/usr/local/lib/python3.10/dist-packages/sklearn/linear_model/_coordinate_descent.py:631: ConvergenceWarning: Objective did not converge. You might want to increase the number of iterations, check the scale of the features or consider increasing regularisation. Duality gap: 1.297e+04, tolerance: 5.183e+02\n",
            "  model = cd_fast.enet_coordinate_descent(\n"
          ]
        },
        {
          "output_type": "display_data",
          "data": {
            "text/plain": [
              "<Figure size 640x480 with 1 Axes>"
            ],
            "image/png": "[encoded data removed]"
          },
          "metadata": {}
        }
      ]
    },
    {
      "cell_type": "code",
      "source": [
        "lasso = Lasso(alpha = 10)\n",
        "lasso.fit(*train_set)\n",
        "\n",
        "print(lasso.score(*train_set))\n",
        "print(lasso.score(*test_set))"
      ],
      "metadata": {
        "colab": {
          "base_uri": "https://localhost:8080/"
        },
        "id": "ffaLV_O3pKHj",
        "outputId": "3db4c111-b09a-4404-8996-3525a6fdd721"
      },
      "execution_count": 96,
      "outputs": [
        {
          "output_type": "stream",
          "name": "stdout",
          "text": [
            "0.9888067471131867\n",
            "0.9824470598706695\n"
          ]
        }
      ]
    },
    {
      "cell_type": "markdown",
      "source": [
        "라쏘회귀는 계수를 0으로 만들어 모델을 단순화한다."
      ],
      "metadata": {
        "id": "ZDQutGaqpZ71"
      }
    },
    {
      "cell_type": "code",
      "source": [
        "print(lasso.coef_, lasso.intercept_)\n",
        "print()\n",
        "print(ridge.coef_, ridge.intercept_)"
      ],
      "metadata": {
        "colab": {
          "base_uri": "https://localhost:8080/"
        },
        "id": "K7Hhg9SNpc-E",
        "outputId": "a7c3b65c-74fa-40b2-9d06-d2ff762b4038"
      },
      "execution_count": 97,
      "outputs": [
        {
          "output_type": "stream",
          "name": "stdout",
          "text": [
            "[ 0.          0.          0.         12.14852453 55.44856399 42.23100799\n",
            "  0.          0.         13.70596191  0.         43.2185952   5.7033775\n",
            " 47.46254536  7.42309425 11.85823365  0.          0.         13.53038193\n",
            " 21.22111356  0.          0.          0.          0.          0.\n",
            "  0.         18.66993032  0.          0.          0.         15.81041778\n",
            "  0.          0.          0.          0.          0.          0.\n",
            "  0.          0.          0.          0.          0.          0.\n",
            "  0.          0.         18.14672268  0.          0.          0.\n",
            "  0.         15.51272953  0.          0.          0.          0.\n",
            "  0.        ] 400.8333333333333\n",
            "\n",
            "[ 27.61933479  -1.64022156 -19.73256036  30.03061951  16.99800255\n",
            "  17.83247301   4.46928273   3.87258547  22.8351822   19.50417483\n",
            "  17.75985317  14.53122144  13.34875736   7.57294011  19.2573194\n",
            "   5.12766348  -2.05671393  10.62376405  41.72322888   5.90722851\n",
            "  14.93389276  -0.4506018   19.86035413   1.27084276  -1.00708878\n",
            "  19.69043816  -1.15817017  -3.57357468  11.96629206  13.68484378\n",
            "  -8.41738209  -9.97919956   8.42421045  45.51544903  -6.23828569\n",
            "  13.36080282 -17.64759601  28.23566212  -6.56619234 -25.89115813\n",
            "  37.3785331   -0.39779345 -20.82275921 -23.80607786  39.96650626\n",
            "   0.10569722 -20.49768851 -21.74712923  -4.12579289  35.39224119\n",
            "  -5.59195    -25.3889504  -23.93962265  -1.89229971  39.44235556] 400.8333333333333\n"
          ]
        }
      ]
    },
    {
      "cell_type": "code",
      "source": [
        "# 한 농어에서 55개의 특성 중 40개의 특성 가중치가 0이며 15개만 유효함\n",
        "print(np.sum(lasso.coef_ == 0))\n",
        "print(np.sum(lasso.coef_ != 0))"
      ],
      "metadata": {
        "colab": {
          "base_uri": "https://localhost:8080/"
        },
        "id": "NpWkVJy3pmM0",
        "outputId": "bed3b516-7cfc-4724-c2b9-0db72ba1324f"
      },
      "execution_count": 98,
      "outputs": [
        {
          "output_type": "stream",
          "name": "stdout",
          "text": [
            "40\n",
            "15\n"
          ]
        }
      ]
    },
    {
      "cell_type": "markdown",
      "source": [
        "#모델 완성, 예측 실습"
      ],
      "metadata": {
        "id": "F4973Mjlp968"
      }
    },
    {
      "cell_type": "code",
      "source": [
        "new_fish = perch_full[0].reshape(-1, 3)\n",
        "new_fish_target = perch_weight[0]\n",
        "# new_fish = np.array([[44., 12.49, 7.6]])\n",
        "# new_fish_target = perch_weight[-1]\n",
        "\n",
        "print(new_fish, new_fish_target)\n",
        "\n",
        "new_fish_poly = poly2.transform(new_fish)\n",
        "new_fish_scaled = ss.transform(new_fish_poly)\n",
        "print(new_fish_scaled.shape)\n",
        "print(new_fish_scaled)\n",
        "\n",
        "print(ridge.predict(new_fish_scaled))\n",
        "print(lasso.predict(new_fish_scaled))\n",
        "print(new_fish_target)"
      ],
      "metadata": {
        "colab": {
          "base_uri": "https://localhost:8080/"
        },
        "id": "Ut7Wdel3qAcc",
        "outputId": "d014da12-ff0a-4c3e-de1a-8a89e6522425"
      },
      "execution_count": 112,
      "outputs": [
        {
          "output_type": "stream",
          "name": "stdout",
          "text": [
            "[[8.4  2.11 1.41]] 5.9\n",
            "(1, 55)\n",
            "[[-2.29657672 -2.0645632  -1.95288184 -1.55255604 -1.46585499 -1.45227925\n",
            "  -1.38306012 -1.36853915 -1.3414385  -1.16487216 -1.12766176 -1.12993021\n",
            "  -1.09096504 -1.0919529  -1.08681842 -1.05473034 -1.05422049 -1.04733556\n",
            "  -1.03445922 -0.95097661 -0.93581382 -0.94095847 -0.92003743 -0.92481854\n",
            "  -0.9257405  -0.90344054 -0.9076728  -0.90768173 -0.90365223 -0.88585964\n",
            "  -0.88933355 -0.8882214  -0.88265495 -0.87279092 -0.82345261 -0.81922614\n",
            "  -0.82441462 -0.81401521 -0.81951597 -0.82223805 -0.80760074 -0.81327179\n",
            "  -0.81584326 -0.81548696 -0.79980303 -0.80545985 -0.80768359 -0.80657966\n",
            "  -0.80223729 -0.79049072 -0.7959136  -0.79756241 -0.7954801  -0.78971903\n",
            "  -0.78033726]]\n",
            "[-14.8059787]\n",
            "[-0.75085882]\n",
            "5.9\n"
          ]
        }
      ]
    }
  ]
}
