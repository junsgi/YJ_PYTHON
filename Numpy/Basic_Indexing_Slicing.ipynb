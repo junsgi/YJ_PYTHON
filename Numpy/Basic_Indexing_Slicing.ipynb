{
  "nbformat": 4,
  "nbformat_minor": 0,
  "metadata": {
    "colab": {
      "provenance": []
    },
    "kernelspec": {
      "name": "python3",
      "display_name": "Python 3"
    },
    "language_info": {
      "name": "python"
    }
  },
  "cells": [
    {
      "cell_type": "markdown",
      "source": [
        "# Basic"
      ],
      "metadata": {
        "id": "vj3BNC5vTCBf"
      }
    },
    {
      "cell_type": "markdown",
      "source": [
        "넘파이 배열 생성자"
      ],
      "metadata": {
        "id": "Kgc7OrPbKpNH"
      }
    },
    {
      "cell_type": "code",
      "execution_count": 15,
      "metadata": {
        "colab": {
          "base_uri": "https://localhost:8080/"
        },
        "id": "uyhcYudatBYt",
        "outputId": "0a7a5795-5904-4ebb-c978-e07c5e46defc"
      },
      "outputs": [
        {
          "output_type": "stream",
          "name": "stdout",
          "text": [
            "[1 2 3]\n",
            "['1' '2' '3']\n",
            "<class 'numpy.str_'>\n",
            "<class 'numpy.ndarray'>\n"
          ]
        }
      ],
      "source": [
        "import numpy as np\n",
        "arr = np.array([1,2,3])\n",
        "sArr = np.array([\"1\", \"2\", \"3\"])\n",
        "bArr = np.array([0, False, ''])\n",
        "print(arr)\n",
        "print(sArr)\n",
        "print(type(bArr[1]))\n",
        "print(type(arr))"
      ]
    },
    {
      "cell_type": "markdown",
      "source": [
        "넘파이 배열 속성\n",
        "\n",
        "ndim: 배열의 차원\n",
        "\n",
        "shape : 배열의 형태 (면, 행, 열)\n",
        "\n",
        "dtype : 원소 타입\n",
        "\n",
        "itemsize : 원소의 할당 크기 (int32 4byte)\n",
        "\n",
        "size : 원소의 개수"
      ],
      "metadata": {
        "id": "--jzSLygLEd2"
      }
    },
    {
      "cell_type": "code",
      "source": [
        "print(arr)\n",
        "print(arr.ndim, arr.shape, arr.dtype, arr.itemsize, arr.size)\n",
        "print()\n",
        "arr2 = np.array([[i + j * 10 for i in range(1, 11)] for j in range(5)])\n",
        "print(arr2)\n",
        "print(arr2.ndim, arr2.shape, arr2.dtype, arr2.itemsize, arr2.size)\n",
        "print()\n",
        "\n",
        "arr3 = np.array([[[i + j * 10 + z * 50 + 1 for i in range(5)] for j in range(5)] for z in range(5)])\n",
        "print(arr3)\n",
        "print(arr3.ndim, arr3.shape, arr3.dtype, arr3.itemsize, arr3.size)"
      ],
      "metadata": {
        "colab": {
          "base_uri": "https://localhost:8080/"
        },
        "id": "SV0Vdu3TLmZs",
        "outputId": "18d16fee-b78b-4a9e-cafe-f7a17b5e4a5a"
      },
      "execution_count": 27,
      "outputs": [
        {
          "output_type": "stream",
          "name": "stdout",
          "text": [
            "[1 2 3]\n",
            "1 (3,) int64 8 3\n",
            "\n",
            "[[ 1  2  3  4  5  6  7  8  9 10]\n",
            " [11 12 13 14 15 16 17 18 19 20]\n",
            " [21 22 23 24 25 26 27 28 29 30]\n",
            " [31 32 33 34 35 36 37 38 39 40]\n",
            " [41 42 43 44 45 46 47 48 49 50]]\n",
            "2 (5, 10) int64 8 50\n",
            "\n",
            "[[[  1   2   3   4   5]\n",
            "  [ 11  12  13  14  15]\n",
            "  [ 21  22  23  24  25]\n",
            "  [ 31  32  33  34  35]\n",
            "  [ 41  42  43  44  45]]\n",
            "\n",
            " [[ 51  52  53  54  55]\n",
            "  [ 61  62  63  64  65]\n",
            "  [ 71  72  73  74  75]\n",
            "  [ 81  82  83  84  85]\n",
            "  [ 91  92  93  94  95]]\n",
            "\n",
            " [[101 102 103 104 105]\n",
            "  [111 112 113 114 115]\n",
            "  [121 122 123 124 125]\n",
            "  [131 132 133 134 135]\n",
            "  [141 142 143 144 145]]\n",
            "\n",
            " [[151 152 153 154 155]\n",
            "  [161 162 163 164 165]\n",
            "  [171 172 173 174 175]\n",
            "  [181 182 183 184 185]\n",
            "  [191 192 193 194 195]]\n",
            "\n",
            " [[201 202 203 204 205]\n",
            "  [211 212 213 214 215]\n",
            "  [221 222 223 224 225]\n",
            "  [231 232 233 234 235]\n",
            "  [241 242 243 244 245]]]\n",
            "3 (5, 5, 5) int64 8 125\n"
          ]
        }
      ]
    },
    {
      "cell_type": "markdown",
      "source": [
        "브로드 캐스팅\n",
        "\n",
        " - 모든 원소에 값과 산술연산 적용한 배열 반환"
      ],
      "metadata": {
        "id": "RJFDzQIoMvzG"
      }
    },
    {
      "cell_type": "code",
      "source": [
        "arr = np.array([1,3,5])\n",
        "arr += 1 # [1 + 1, 3 + 1, 5 + 1]\n",
        "print(arr)\n",
        "\n",
        "arr **= 2 # [2 ** 2, 4 ** 2, 6 ** 2]\n",
        "print(arr)"
      ],
      "metadata": {
        "colab": {
          "base_uri": "https://localhost:8080/"
        },
        "id": "bYaDuyVlM3th",
        "outputId": "11911e98-c163-457d-b99c-ce4c317febb3"
      },
      "execution_count": 29,
      "outputs": [
        {
          "output_type": "stream",
          "name": "stdout",
          "text": [
            "[2 4 6]\n",
            "[ 4 16 36]\n"
          ]
        }
      ]
    },
    {
      "cell_type": "markdown",
      "source": [
        "벡터화 연산\n",
        "- 리스트 + 리스트 : 연결 연산\n",
        "- 넘파이 + 넘파이 : 원소별 연산"
      ],
      "metadata": {
        "id": "Y455cNdGNV7R"
      }
    },
    {
      "cell_type": "code",
      "source": [
        "lst1 = [1,2,3]\n",
        "lst2 = [2,4,6]\n",
        "print(lst1 + lst2, '연결 연산')\n",
        "\n",
        "np1 = np.array(lst1)\n",
        "np2 = np.array(lst2)\n",
        "print(np1 + np2, '벡터화 연산')"
      ],
      "metadata": {
        "colab": {
          "base_uri": "https://localhost:8080/"
        },
        "id": "U21BSpYDNTlK",
        "outputId": "634cebcb-3ba3-4c4f-d3d5-a80e1df0fa3d"
      },
      "execution_count": 32,
      "outputs": [
        {
          "output_type": "stream",
          "name": "stdout",
          "text": [
            "[1, 2, 3, 2, 4, 6] 연결 연산\n",
            "[3 6 9] 벡터화 연산\n"
          ]
        }
      ]
    },
    {
      "cell_type": "markdown",
      "source": [
        "행렬 곱셈\n",
        " - (x, y) 배열 @ (y, z) 배열 -> (x, z) 배열 반환"
      ],
      "metadata": {
        "id": "8DVyQIivOHdt"
      }
    },
    {
      "cell_type": "code",
      "source": [
        "x = np.array([[i + j * 3 for i in range(1, 4)] for j in range(3)])\n",
        "y = np.array([[i + j * 4 for i in range(1, 5)] for j in range(3)])\n",
        "print(x.shape)\n",
        "print(y.shape)\n",
        "print(x)\n",
        "print(y)\n",
        "print(x @ y)\n",
        "z = [[1 + 10 + 27, 2 + 12 + 30, 3 + 14 + 33, 4 + 16 + 36],\n",
        "[4 + 25 + 54, 8 + 30 + 60, 12 + 35 + 66, 16 + 40 + 72],\n",
        "[7 + 40 + 81, 14 + 48 + 90, 21 + 56 + 99, 28 + 64 + 108]]\n",
        "z = np.array(z)\n",
        "print(z)\n",
        "print(x @ y == z)"
      ],
      "metadata": {
        "colab": {
          "base_uri": "https://localhost:8080/"
        },
        "id": "urXryQv1Ogy8",
        "outputId": "4f425a33-ad02-4b86-d788-3031bbaac947"
      },
      "execution_count": 66,
      "outputs": [
        {
          "output_type": "stream",
          "name": "stdout",
          "text": [
            "(3, 3)\n",
            "(3, 4)\n",
            "[[1 2 3]\n",
            " [4 5 6]\n",
            " [7 8 9]]\n",
            "[[ 1  2  3  4]\n",
            " [ 5  6  7  8]\n",
            " [ 9 10 11 12]]\n",
            "[[ 38  44  50  56]\n",
            " [ 83  98 113 128]\n",
            " [128 152 176 200]]\n",
            "[[ 38  44  50  56]\n",
            " [ 83  98 113 128]\n",
            " [128 152 176 200]]\n",
            "[[ True  True  True  True]\n",
            " [ True  True  True  True]\n",
            " [ True  True  True  True]]\n"
          ]
        }
      ]
    },
    {
      "cell_type": "code",
      "source": [
        "# BMI 계산\n",
        "height = [1.83, 1.75, 1.71, 1.78, 1.85, 1.77, 1.73]\n",
        "weight = [80, 74, 59, 77, 90, 77, 78]\n",
        "h = np.array(height)\n",
        "w = np.array(weight)\n",
        "bmi = w / h ** 2\n",
        "print(bmi)\n",
        "\n",
        "result = [ weight[i] / height[i] ** 2 for i in range(len(height)) ]\n",
        "result2 = list(map(lambda x : x[0] / x[1] ** 2, zip(weight, height)))\n",
        "print(result)\n",
        "print(bmi == np.array(result))\n",
        "print(bmi == np.array(result2))"
      ],
      "metadata": {
        "colab": {
          "base_uri": "https://localhost:8080/"
        },
        "id": "TFeuXolzPY0F",
        "outputId": "ace1eddd-e8fd-4a3f-996d-af9a586eab09"
      },
      "execution_count": 68,
      "outputs": [
        {
          "output_type": "stream",
          "name": "stdout",
          "text": [
            "[23.88844098 24.16326531 20.17714852 24.30248706 26.29656684 24.57786715\n",
            " 26.06167931]\n",
            "[23.888440980620498, 24.163265306122447, 20.177148524332274, 24.302487059714682, 26.296566837107374, 24.577867151840145, 26.061679307694877]\n",
            "[ True  True  True  True  True  True  True]\n",
            "[ True  True  True  True  True  True  True]\n"
          ]
        }
      ]
    },
    {
      "cell_type": "markdown",
      "source": [
        "# indexing, slicing"
      ],
      "metadata": {
        "id": "Rt3RcJ0sTF7e"
      }
    },
    {
      "cell_type": "markdown",
      "source": [
        "넘파이 배열의 인덱싱은 정수, 배열, 논리 인덱싱 가능"
      ],
      "metadata": {
        "id": "ZEnh8txFX2ZM"
      }
    },
    {
      "cell_type": "code",
      "source": [
        "arr = np.array([1,2,3,4,5])\n",
        "n = arr.size"
      ],
      "metadata": {
        "id": "71qfiyzbTN1X"
      },
      "execution_count": 84,
      "outputs": []
    },
    {
      "cell_type": "code",
      "source": [
        "# indexing\n",
        "print(arr[0])\n",
        "print(arr[-1], arr[n - 1])\n",
        "\n",
        "# slicing\n",
        "print(arr[1 : 4])\n",
        "print(arr[0 : -1]) # 마지막 원소 제외\n",
        "print(arr[:], arr[0:], arr[:n], arr[0:n])"
      ],
      "metadata": {
        "colab": {
          "base_uri": "https://localhost:8080/"
        },
        "id": "6KKtk0O2YHIq",
        "outputId": "5846812f-fcbd-4da4-d98f-ca95630fa83b"
      },
      "execution_count": 87,
      "outputs": [
        {
          "output_type": "stream",
          "name": "stdout",
          "text": [
            "1\n",
            "5 5\n",
            "[2 3 4]\n",
            "[1 2 3 4]\n",
            "[1 2 3 4 5] [1 2 3 4 5] [1 2 3 4 5] [1 2 3 4 5]\n"
          ]
        }
      ]
    },
    {
      "cell_type": "markdown",
      "source": [
        "2차원 정수 인덱싱\n",
        " - [정수, 정수] : 1차원 배열\n",
        " - [정수, 슬라이싱] : 1차원 배열\n",
        " - [슬라이싱, 슬라이싱] : 2차원 배열 반환"
      ],
      "metadata": {
        "id": "lO5ww2CyZhGo"
      }
    },
    {
      "cell_type": "code",
      "source": [
        "arr2 = np.array([[i + j * 10 for i in range(1, 11)] for j in range(10)])\n",
        "print(arr2[0, :])\n",
        "print(arr2[1:2, :])\n",
        "print(arr2[:, 1::2]) # 모든 행 중에 1번 열부터 2칸 씩"
      ],
      "metadata": {
        "colab": {
          "base_uri": "https://localhost:8080/"
        },
        "id": "oz2AKFghYhYm",
        "outputId": "3ee3c98d-dd72-4d36-872f-b4c4dff45cd2"
      },
      "execution_count": 98,
      "outputs": [
        {
          "output_type": "stream",
          "name": "stdout",
          "text": [
            "[ 1  2  3  4  5  6  7  8  9 10]\n",
            "[[11 12 13 14 15 16 17 18 19 20]]\n",
            "[[  2   4   6   8  10]\n",
            " [ 12  14  16  18  20]\n",
            " [ 22  24  26  28  30]\n",
            " [ 32  34  36  38  40]\n",
            " [ 42  44  46  48  50]\n",
            " [ 52  54  56  58  60]\n",
            " [ 62  64  66  68  70]\n",
            " [ 72  74  76  78  80]\n",
            " [ 82  84  86  88  90]\n",
            " [ 92  94  96  98 100]]\n"
          ]
        }
      ]
    },
    {
      "cell_type": "markdown",
      "source": [
        "배열 인덱싱\n",
        "- np_arr = [1,2,3,4]\n",
        "- np_arr[[0,2,1]] : [1,3,2]"
      ],
      "metadata": {
        "id": "0cnKVAjMaJVc"
      }
    },
    {
      "cell_type": "code",
      "source": [
        "print(arr[[0, 3, 2, 4]]) # 배열을 인덱싱으로 사용 가능"
      ],
      "metadata": {
        "colab": {
          "base_uri": "https://localhost:8080/"
        },
        "id": "2a2LL5Cjak1I",
        "outputId": "4410354e-9013-43c3-b567-a947e4ce0bf8"
      },
      "execution_count": 102,
      "outputs": [
        {
          "output_type": "stream",
          "name": "stdout",
          "text": [
            "[1 4 3 5]\n"
          ]
        }
      ]
    },
    {
      "cell_type": "markdown",
      "source": [
        "논리 배열 생성\n",
        "- boolean = np.array >= n : 논리 배열 반환\n",
        "- 2차원 arr[2차원 논리배열] : 1차원 배열 반환\n",
        "- 2차원 arr[1차원 논리배열] : 2차원 배열 반환"
      ],
      "metadata": {
        "id": "JoOYKMFPa6if"
      }
    },
    {
      "cell_type": "code",
      "source": [
        "larr = arr >= 3\n",
        "print(larr)\n",
        "print(arr[larr]) # 3보다 크거나 같은 원소만 가져옴\n",
        "\n",
        "larr = arr2 % 3 == 0\n",
        "print(arr2[larr])"
      ],
      "metadata": {
        "colab": {
          "base_uri": "https://localhost:8080/"
        },
        "id": "VfPwlXMIbKtR",
        "outputId": "319797b2-2e8b-44d6-f18a-5ec40618f656"
      },
      "execution_count": 110,
      "outputs": [
        {
          "output_type": "stream",
          "name": "stdout",
          "text": [
            "[False False  True  True  True]\n",
            "[3 4 5]\n",
            "[ 3  6  9 12 15 18 21 24 27 30 33 36 39 42 45 48 51 54 57 60 63 66 69 72\n",
            " 75 78 81 84 87 90 93 96 99]\n"
          ]
        }
      ]
    },
    {
      "cell_type": "code",
      "source": [
        "# 2차원 논리 인덱싱\n",
        "larr = arr2 % 2 == 0\n",
        "print('모든 요소 중 짝수인 요소만 골라 1차원 배열로 반환')\n",
        "print(arr2[larr]) # 1차원 배열로 반환됨\n",
        "\n",
        "print(\"\\n모든 행의 첫 번째 요소의 10의자리 수가 짝수인 행만 출력\")\n",
        "larr = arr2[:, 0] // 10 % 2 == 0\n",
        "print(larr) # 1차원 배열 (각 행에 대한 boolean형)\n",
        "print(arr2[larr])"
      ],
      "metadata": {
        "colab": {
          "base_uri": "https://localhost:8080/"
        },
        "id": "viuFZ7v0bmuS",
        "outputId": "f3f76781-e0bb-4e6a-93ff-49e48be8d51c"
      },
      "execution_count": 116,
      "outputs": [
        {
          "output_type": "stream",
          "name": "stdout",
          "text": [
            "모든 요소 중 짝수인 요소만 골라 1차원 배열로 반환\n",
            "[  2   4   6   8  10  12  14  16  18  20  22  24  26  28  30  32  34  36\n",
            "  38  40  42  44  46  48  50  52  54  56  58  60  62  64  66  68  70  72\n",
            "  74  76  78  80  82  84  86  88  90  92  94  96  98 100]\n",
            "\n",
            "모든 행의 첫 번째 요소의 10의자리 수가 짝수인 행만 출력\n",
            "[ True False  True False  True False  True False  True False]\n",
            "[[ 1  2  3  4  5  6  7  8  9 10]\n",
            " [21 22 23 24 25 26 27 28 29 30]\n",
            " [41 42 43 44 45 46 47 48 49 50]\n",
            " [61 62 63 64 65 66 67 68 69 70]\n",
            " [81 82 83 84 85 86 87 88 89 90]]\n"
          ]
        }
      ]
    },
    {
      "cell_type": "markdown",
      "source": [
        "실습. 2차원 배열에서 조건 만족 행 추출"
      ],
      "metadata": {
        "id": "q0Kq8ygHd3--"
      }
    },
    {
      "cell_type": "code",
      "source": [
        "lst = np.array([\n",
        "    [177, 77.1],\n",
        "    [182, 80.2],\n",
        "    [185, 102.5],\n",
        "    [178, 77.6],\n",
        "    [163, 60.2],\n",
        "    [166, 52.6],\n",
        "    [171, 62.6],\n",
        "])\n",
        "\n",
        "print(\"몸무게가 60이상\")\n",
        "print(lst[ lst[:, 1] >= 60 ])\n",
        "\n",
        "print(\"\\n키가 170보다 작은사람\")\n",
        "print(lst[ lst[:, 0] < 170])\n",
        "\n",
        "print(\"\\n키가 180보다 작고 몸무게가 60 이상인사람\")\n",
        "harr = lst[:, 0] < 180\n",
        "warr = lst[:, 1] >= 60\n",
        "larr = harr == warr\n",
        "print(lst[larr])"
      ],
      "metadata": {
        "colab": {
          "base_uri": "https://localhost:8080/"
        },
        "id": "4qStQxevd7GV",
        "outputId": "0f2b08ea-af87-48fa-b713-c771d9b0cf5c"
      },
      "execution_count": 132,
      "outputs": [
        {
          "output_type": "stream",
          "name": "stdout",
          "text": [
            "몸무게가 60이상\n",
            "[[177.   77.1]\n",
            " [182.   80.2]\n",
            " [185.  102.5]\n",
            " [178.   77.6]\n",
            " [163.   60.2]\n",
            " [171.   62.6]]\n",
            "\n",
            "키가 170보다 작은사람\n",
            "[[163.   60.2]\n",
            " [166.   52.6]]\n",
            "\n",
            "키가 180보다 작고 몸무게가 60 이상인사람\n",
            "[[177.   77.1]\n",
            " [178.   77.6]\n",
            " [163.   60.2]\n",
            " [171.   62.6]]\n"
          ]
        }
      ]
    }
  ]
}