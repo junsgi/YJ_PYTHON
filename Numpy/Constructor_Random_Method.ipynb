{
  "nbformat": 4,
  "nbformat_minor": 0,
  "metadata": {
    "colab": {
      "provenance": [],
      "toc_visible": true
    },
    "kernelspec": {
      "name": "python3",
      "display_name": "Python 3"
    },
    "language_info": {
      "name": "python"
    }
  },
  "cells": [
    {
      "cell_type": "markdown",
      "source": [
        "# Constructor"
      ],
      "metadata": {
        "id": "8FGvXplPg-E9"
      }
    },
    {
      "cell_type": "markdown",
      "source": [
        "\n",
        "##배열 생성 함수\n",
        "*   np.zeros((x, y)) -> x행 y열, 원소는 0\n",
        "*   np.ones((x, y)) -> x행 y열, 원소는 1\n",
        "*   np.eye(x) -> x행 x열, 단위 행렬\n",
        "* np.arange([start], end, [step]) == np.array(range([start], end, [step]))\n",
        "* np.linspace(start, end, num = x) -> 크기가 num인 실수 배열, 원소들이 start~end까지 균등한 간격을 가짐\n",
        "* np.logspace(start, end, num = x) -> 크기가 num인 실수 배열, 10<sup>start</sup> ~ 10<sup>end</sup>까지 로그 스케일로 균등한 간격 num개\n",
        "\n"
      ],
      "metadata": {
        "id": "gxlAePj9NW3u"
      }
    },
    {
      "cell_type": "code",
      "execution_count": 88,
      "metadata": {
        "id": "TFUqzBjPK5n9",
        "colab": {
          "base_uri": "https://localhost:8080/"
        },
        "outputId": "dff61647-e20e-4262-d9bf-5f11ad10df2a"
      },
      "outputs": [
        {
          "output_type": "stream",
          "name": "stdout",
          "text": [
            "[[0. 0. 0. 0.]\n",
            " [0. 0. 0. 0.]\n",
            " [0. 0. 0. 0.]]\n",
            "[[1. 1. 1. 1.]\n",
            " [1. 1. 1. 1.]\n",
            " [1. 1. 1. 1.]]\n",
            "[[1. 0. 0.]\n",
            " [0. 1. 0.]\n",
            " [0. 0. 1.]]\n",
            "[10  9  8  7  6  5  4  3  2  1  0 -1 -2 -3 -4 -5 -6 -7 -8 -9]\n",
            "[ 1.  2.  3.  4.  5.  6.  7.  8.  9. 10.]\n",
            "[   1.   10.  100. 1000.]\n"
          ]
        }
      ],
      "source": [
        "import numpy as np\n",
        "print(np.zeros((3, 4)))\n",
        "print(np.ones((3, 4)))\n",
        "print(np.eye((3)))\n",
        "print(np.arange(10, -10, -1))\n",
        "print(np.linspace(1, 10, num=10))\n",
        "print(np.logspace(0, 3, num=4))"
      ]
    },
    {
      "cell_type": "markdown",
      "source": [
        "##넘파일 배열 수정 메서드\n",
        "* npArray.reshape(shape)\n",
        "* npArray.flatten()"
      ],
      "metadata": {
        "id": "SS_TA2JGQKkV"
      }
    },
    {
      "cell_type": "code",
      "source": [
        "arr = np.arange(8)\n",
        "print(arr)\n",
        "print()\n",
        "\n",
        "arr2 = arr.reshape(2, 4)\n",
        "print(arr2)\n",
        "print()\n",
        "\n",
        "print(arr2.flatten() == arr2.reshape(-1))\n",
        "print(arr2.flatten(), arr2.reshape(-1))\n",
        "print(arr2.reshape(4, -1))\n",
        "print(arr2.reshape(-1, 8)) # 행은 알아서, 열은 8\n",
        "print(arr2.reshape(8, -1)) # 행은 8행 열은 알아서"
      ],
      "metadata": {
        "colab": {
          "base_uri": "https://localhost:8080/"
        },
        "id": "9WAvDl21RIrr",
        "outputId": "73fc15a9-53d0-4c04-bba7-20c8d375b010"
      },
      "execution_count": null,
      "outputs": [
        {
          "output_type": "stream",
          "name": "stdout",
          "text": [
            "[0 1 2 3 4 5 6 7]\n",
            "\n",
            "[[0 1 2 3]\n",
            " [4 5 6 7]]\n",
            "\n",
            "[ True  True  True  True  True  True  True  True]\n",
            "[0 1 2 3 4 5 6 7] [0 1 2 3 4 5 6 7]\n",
            "[[0 1]\n",
            " [2 3]\n",
            " [4 5]\n",
            " [6 7]]\n",
            "[[0 1 2 3 4 5 6 7]]\n",
            "[[0]\n",
            " [1]\n",
            " [2]\n",
            " [3]\n",
            " [4]\n",
            " [5]\n",
            " [6]\n",
            " [7]]\n"
          ]
        }
      ]
    },
    {
      "cell_type": "markdown",
      "source": [
        "#Random"
      ],
      "metadata": {
        "id": "CWAM2Kk7hAUF"
      }
    },
    {
      "cell_type": "markdown",
      "source": [
        "\n",
        "\n",
        "##난수 배열 생성\n",
        "* np.random.seed(n) -> 난수 생성 초기값\n",
        "* np.random.rand(10) -> 크기가 10인 1차원 배열, 원소는 0과 1사이\n",
        "* np.random.randint(start, end, size = shape) -> shape 모양의 난수 배열, 원소는 start ~ end - 1 사이"
      ],
      "metadata": {
        "id": "bx-IwQ_RSIuB"
      }
    },
    {
      "cell_type": "code",
      "source": [
        "np.random.seed(1)\n",
        "\n",
        "rnd = np.random.rand(10)\n",
        "print(rnd * 10 + 20) # 20과 30사이의 난수\n",
        "\n",
        "rnd2 = np.random.randint(1, 11, size = (10, 10))\n",
        "print(rnd2) # 1과 10사이\n",
        "\n",
        "print(np.random.randint(1, 6, size = 9))"
      ],
      "metadata": {
        "colab": {
          "base_uri": "https://localhost:8080/"
        },
        "id": "stDbH5Y7S4PK",
        "outputId": "cd766355-4276-419c-95ca-c6bc8fb14802"
      },
      "execution_count": null,
      "outputs": [
        {
          "output_type": "stream",
          "name": "stdout",
          "text": [
            "[24.17022005 27.20324493 20.00114375 23.02332573 21.46755891 20.92338595\n",
            " 21.86260211 23.45560727 23.96767474 25.38816734]\n",
            "[[ 6  3  5  3  5  8  8 10  2  8]\n",
            " [ 1  7 10 10  8  7 10  2  1  2]\n",
            " [ 9  9  4 10  9  8  4  7  6  2]\n",
            " [10  4  5  9  2  5  1  4 10  3]\n",
            " [ 1  5 10  3  8  8 10  9  7 10]\n",
            " [ 4  8  8  5  6 10  4  7  9  1]\n",
            " [ 3  8  8 10  8  4  1  9  8  8]\n",
            " [ 2  2  4  1  9  7  5  6  7  3]\n",
            " [ 6  8  9  5  5  8  8  5 10  1]\n",
            " [ 3  1  8  2  8 10  9  5  1  2]]\n",
            "[5 2 1 3 4 2 3 5 5]\n"
          ]
        }
      ]
    },
    {
      "cell_type": "markdown",
      "source": [
        "##정규 분포 난수 (균일한 확률 분포의 난수 생성)\n",
        "* np.random.normal(mean, standart_deviation, shape)\n",
        "* np.random.randn(shape) == np.random.normal(0, 1, shape)"
      ],
      "metadata": {
        "id": "dEla41KfTedp"
      }
    },
    {
      "cell_type": "code",
      "source": [
        "np.random.seed(1)\n",
        "norm = np.random.normal(0, 1, 5)\n",
        "\n",
        "np.random.seed(1)\n",
        "rndn = np.random.randn(5)\n",
        "print(norm) # 길이가 5인 1차원 배열, 원소는 평균이 0, 표준 편차가 1\n",
        "print(rndn) # 위 결과와 동일\n",
        "print(norm == rndn)\n",
        "print()\n",
        "\n",
        "np.random.seed(1)\n",
        "norm2 = np.random.normal(10, 2, (5, 5))\n",
        "np.random.seed(1)\n",
        "rndn2 = np.random.randn(5, 5)\n",
        "print(norm2)\n",
        "print(rndn2 * 2 + 10)\n",
        "print(norm2 == rndn2 * 2 + 10)"
      ],
      "metadata": {
        "colab": {
          "base_uri": "https://localhost:8080/"
        },
        "id": "He0Bpo69U4eQ",
        "outputId": "100afd46-946b-4764-aa2b-309acf39a67b"
      },
      "execution_count": null,
      "outputs": [
        {
          "output_type": "stream",
          "name": "stdout",
          "text": [
            "[ 1.62434536 -0.61175641 -0.52817175 -1.07296862  0.86540763]\n",
            "[ 1.62434536 -0.61175641 -0.52817175 -1.07296862  0.86540763]\n",
            "[ True  True  True  True  True]\n",
            "\n",
            "[[13.24869073  8.77648717  8.9436565   7.85406276 11.73081526]\n",
            " [ 5.39692261 13.48962353  8.4775862  10.63807819  9.50125925]\n",
            " [12.92421587  5.87971858  9.35516559  9.23189129 12.26753888]\n",
            " [ 7.80021747  9.65514358  8.24428316 10.08442749 11.16563043]\n",
            " [ 7.79876165 12.28944742 11.80318144 11.00498868 11.8017119 ]]\n",
            "[[13.24869073  8.77648717  8.9436565   7.85406276 11.73081526]\n",
            " [ 5.39692261 13.48962353  8.4775862  10.63807819  9.50125925]\n",
            " [12.92421587  5.87971858  9.35516559  9.23189129 12.26753888]\n",
            " [ 7.80021747  9.65514358  8.24428316 10.08442749 11.16563043]\n",
            " [ 7.79876165 12.28944742 11.80318144 11.00498868 11.8017119 ]]\n",
            "[[ True  True  True  True  True]\n",
            " [ True  True  True  True  True]\n",
            " [ True  True  True  True  True]\n",
            " [ True  True  True  True  True]\n",
            " [ True  True  True  True  True]]\n"
          ]
        }
      ]
    },
    {
      "cell_type": "markdown",
      "source": [
        "##난수 관련 함수\n",
        "* np.random.shuffle(array) -> 넘파이 배열 순서 랜덤 변경 (원본 변경)\n",
        "* np.random.permutation(array) -> 넘파이 배열 순서 변경한 배열을 반환(원본 유지)\n",
        "* np.random.choice(array, n) -> arr에서 n개의 원소를 균등 확률로 추출한 배열 반환\n",
        " * replace = False -> 중복 추출 제외\n",
        " * replace = True -> 중복 추출 가능\n",
        " * p = [] -> array의 원소들마다 추출 확률 값을 가지는 리스트"
      ],
      "metadata": {
        "id": "A7PALGx1coka"
      }
    },
    {
      "cell_type": "code",
      "source": [
        "x = np.arange(10) + 1\n",
        "np.random.shuffle(x)\n",
        "print(x)\n",
        "\n",
        "y = np.arange(10) + 1\n",
        "print(np.random.permutation(y))\n",
        "print(y) # 원본 유지\n",
        "\n",
        "fruits = ['apple', 'banana', 'grapes', 'cherries', 'durian', 'lemon', 'mango']\n",
        "pd = [0.1, 0, 0.2, 0.5, 0.1, 0.05, 0.05]\n",
        "print(np.random.choice(fruits, 3, replace = False, p = pd))"
      ],
      "metadata": {
        "colab": {
          "base_uri": "https://localhost:8080/"
        },
        "id": "Da_Jz_c7Wes2",
        "outputId": "4b9f79fd-f38b-45f3-a2c3-5178fd8b702d"
      },
      "execution_count": 84,
      "outputs": [
        {
          "output_type": "stream",
          "name": "stdout",
          "text": [
            "[ 6  2  5 10  4  7  3  9  8  1]\n",
            "[ 5  7  9  2  1 10  4  6  3  8]\n",
            "[ 1  2  3  4  5  6  7  8  9 10]\n",
            "['lemon' 'durian' 'cherries']\n"
          ]
        }
      ]
    },
    {
      "cell_type": "markdown",
      "source": [
        "# Method"
      ],
      "metadata": {
        "id": "VBghrR3zhDo0"
      }
    },
    {
      "cell_type": "markdown",
      "source": [
        "\n",
        "##전치 행렬 변환 (n, m) -> (m, m)\n",
        "* arr.T == arr.transpose()"
      ],
      "metadata": {
        "id": "BNbJdJH2fUFN"
      }
    },
    {
      "cell_type": "code",
      "source": [
        "arr = np.arange(1,7).reshape(2, 3)\n",
        "print(arr)\n",
        "print(arr.T)\n",
        "print(arr.transpose())"
      ],
      "metadata": {
        "colab": {
          "base_uri": "https://localhost:8080/"
        },
        "id": "A4ZomV4vfd_s",
        "outputId": "e4cd8ab2-a1fc-4ff3-8dc5-3523d3ee381c"
      },
      "execution_count": 99,
      "outputs": [
        {
          "output_type": "stream",
          "name": "stdout",
          "text": [
            "[[1 2 3]\n",
            " [4 5 6]]\n",
            "[[1 4]\n",
            " [2 5]\n",
            " [3 6]]\n",
            "[[1 4]\n",
            " [2 5]\n",
            " [3 6]]\n"
          ]
        }
      ]
    },
    {
      "cell_type": "markdown",
      "source": [
        "##평균 계산\n",
        "* np.mean(arr, axis=0)\n",
        "* arr.mean(axis = 0)\n",
        " * axis = 0 -> 행 방향, 결과는 각 열마다 평균값\n",
        " * axis = 1 -> 열 방향, 결과는 각 행마다 평균값"
      ],
      "metadata": {
        "id": "VT8Enu8vfyhH"
      }
    },
    {
      "cell_type": "code",
      "source": [
        "arr = np.array([\n",
        "    [99, 93, 60],\n",
        "    [68, 73, 32],\n",
        "    [50, 61, 81],\n",
        "    [69, 26, 79],\n",
        "])\n",
        "print(arr)\n",
        "print()\n",
        "\n",
        "print(np.mean(arr, axis = 0)) # 각 열의 평균\n",
        "print(arr.mean(axis = 0))\n",
        "\n",
        "print(np.mean(arr, axis = 1)) # 각 행의 평균\n",
        "print(arr.mean(axis = 1))"
      ],
      "metadata": {
        "colab": {
          "base_uri": "https://localhost:8080/"
        },
        "id": "V5lgZckhfzlX",
        "outputId": "5fb2cf1e-24ae-4ad2-e7c8-0b0a6e4fb81a"
      },
      "execution_count": 100,
      "outputs": [
        {
          "output_type": "stream",
          "name": "stdout",
          "text": [
            "[[99 93 60]\n",
            " [68 73 32]\n",
            " [50 61 81]\n",
            " [69 26 79]]\n",
            "\n",
            "[71.5  63.25 63.  ]\n",
            "[71.5  63.25 63.  ]\n",
            "[84.         57.66666667 64.         58.        ]\n",
            "[84.         57.66666667 64.         58.        ]\n"
          ]
        }
      ]
    },
    {
      "cell_type": "markdown",
      "source": [
        "## unique() 함수\n",
        "넘파이 배열의 고유 값 출력"
      ],
      "metadata": {
        "id": "GSeUTrByiYuF"
      }
    },
    {
      "cell_type": "code",
      "source": [
        "a = np.array([\n",
        "    [2, 3, 2],\n",
        "    [2, 3, 2],\n",
        "    [3, 2, 3],\n",
        "])\n",
        "print(np.unique(a)) # 모든 원소들 중 고유 값\n",
        "print(np.unique(a, axis=0)) # 고유한 값을 가진 행 출력\n",
        "print(np.unique(a, axis=1)) # 고유한 값을 가진 열 출력"
      ],
      "metadata": {
        "colab": {
          "base_uri": "https://localhost:8080/"
        },
        "id": "U7P59s4-ifs-",
        "outputId": "57495061-9dee-40bd-86e2-8d8e9acbcdad"
      },
      "execution_count": 101,
      "outputs": [
        {
          "output_type": "stream",
          "name": "stdout",
          "text": [
            "[2 3]\n",
            "[[2 3 2]\n",
            " [3 2 3]]\n",
            "[[2 3]\n",
            " [2 3]\n",
            " [3 2]]\n"
          ]
        }
      ]
    },
    {
      "cell_type": "markdown",
      "source": [
        "## 배열 합치기 concatenate\n",
        "np.concatenate((arr1, arr2), axis)\n",
        "* 두 배열이 1차원일 때 -> 열 방향으로 연결\n",
        "* 두 배열이 2차원일 때 -> axis = 0이면 행이 늘어남, 1이면 열이 늘어남"
      ],
      "metadata": {
        "id": "N3qYa9RYi5OO"
      }
    },
    {
      "cell_type": "code",
      "source": [
        "arr1 = np.arange(8).reshape(2, 4)\n",
        "arr2 = np.arange(8, 16).reshape(2, 4)\n",
        "print(arr1)\n",
        "print(arr2)\n",
        "print()\n",
        "\n",
        "print(np.concatenate((arr1, arr2), axis = 0)) # 행이 늘어남\n",
        "print(np.concatenate((arr1, arr2), axis = 1)) # 열이 늘어남"
      ],
      "metadata": {
        "colab": {
          "base_uri": "https://localhost:8080/"
        },
        "id": "T7gf-TDzjOcC",
        "outputId": "58d37960-01c5-43b8-f157-7d3b77e37bfd"
      },
      "execution_count": 104,
      "outputs": [
        {
          "output_type": "stream",
          "name": "stdout",
          "text": [
            "[[0 1 2 3]\n",
            " [4 5 6 7]]\n",
            "[[ 8  9 10 11]\n",
            " [12 13 14 15]]\n",
            "\n",
            "[[ 0  1  2  3]\n",
            " [ 4  5  6  7]\n",
            " [ 8  9 10 11]\n",
            " [12 13 14 15]]\n",
            "[[ 0  1  2  3  8  9 10 11]\n",
            " [ 4  5  6  7 12 13 14 15]]\n"
          ]
        }
      ]
    },
    {
      "cell_type": "markdown",
      "source": [
        "## 배열 분리 split()\n",
        "np.split(arr, n, axit)\n",
        "* 두 배열이 1차원일 때 -> 열 방향 n개의 배열로 분리 == np.hsplit(arr, n)\n",
        "* 두 배열이 2차원일 때\n",
        " * axis = 0 -> 행 방향 n개의 배열로 분리 == np.vsplit(arr, n)\n",
        " * axit = 1 -> 열 방향 n개의 배열로 분리 == np.hsplit(arr, n)"
      ],
      "metadata": {
        "id": "C0oaejFEjfqh"
      }
    },
    {
      "cell_type": "code",
      "source": [
        "arr1 = np.arange(8).reshape(2, 4)\n",
        "print(arr1)\n",
        "print()\n",
        "\n",
        "up, down = np.split(arr1, 2, axis = 0) # 행방향으로 분리\n",
        "up2, down2 = np.vsplit(arr1, 2)\n",
        "print(up)\n",
        "print(down)\n",
        "print(up == up2)\n",
        "print(down == down2)\n",
        "print()\n",
        "\n",
        "left, right = np.split(arr1, 2, axis=1)\n",
        "left2, right2 = np.hsplit(arr1, 2)\n",
        "print(left)\n",
        "print(right)\n",
        "print(left == left2)\n",
        "print(right == right2)"
      ],
      "metadata": {
        "colab": {
          "base_uri": "https://localhost:8080/"
        },
        "id": "Lu_5hJOej_GK",
        "outputId": "503b9678-ca71-4f8e-8012-dda43317259a"
      },
      "execution_count": 115,
      "outputs": [
        {
          "output_type": "stream",
          "name": "stdout",
          "text": [
            "[[0 1 2 3]\n",
            " [4 5 6 7]]\n",
            "\n",
            "[[0 1 2 3]]\n",
            "[[4 5 6 7]]\n",
            "[[ True  True  True  True]]\n",
            "[[ True  True  True  True]]\n",
            "\n",
            "[[0 1]\n",
            " [4 5]]\n",
            "[[2 3]\n",
            " [6 7]]\n",
            "[[ True  True]\n",
            " [ True  True]]\n",
            "[[ True  True]\n",
            " [ True  True]]\n"
          ]
        }
      ]
    },
    {
      "cell_type": "markdown",
      "source": [
        "## 기타 넘파이 함수\n",
        "* np.all(arr) -> 모든 원소가 참이면 True\n",
        "* np.any(arr) -> 원소 하나라도 참이면 True\n",
        "* np.isnan(arr) -> 원소가 NaN값이면 True, 논리배열 반환\n",
        "* np.isfinite(arr) -> 원소가 np.NaN 또는 np.inf라면 False, 논리배열 반환"
      ],
      "metadata": {
        "id": "VzqWDvpgmB3Q"
      }
    },
    {
      "cell_type": "code",
      "source": [
        "arr1 = np.array([1,0,1,0])\n",
        "print(np.all(arr1))\n",
        "print(np.any(arr1))\n",
        "print()\n",
        "arr2 = np.array([1, np.NaN, 1, 0, float(\"inf\"), np.inf])\n",
        "print(arr2[-1] == arr2[-2])\n",
        "print(np.isnan(arr2))\n",
        "print(np.isfinite(arr2))\n",
        "\n",
        "print(arr2[np.isfinite(arr2)])"
      ],
      "metadata": {
        "colab": {
          "base_uri": "https://localhost:8080/"
        },
        "id": "SNzI0vTPmp7M",
        "outputId": "e4bdf46f-acce-4f24-eaf5-43f1dad10433"
      },
      "execution_count": 132,
      "outputs": [
        {
          "output_type": "stream",
          "name": "stdout",
          "text": [
            "False\n",
            "True\n",
            "\n",
            "True\n",
            "[False  True False False False False]\n",
            "[ True False  True  True False False]\n",
            "[1. 1. 0.]\n"
          ]
        }
      ]
    }
  ]
}